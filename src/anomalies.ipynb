{
 "cells": [
  {
   "cell_type": "markdown",
   "metadata": {},
   "source": [
    "# WP1 - Anomaly subgraph extraction: Finding anomalies"
   ]
  },
  {
   "cell_type": "code",
   "execution_count": 129,
   "metadata": {},
   "outputs": [],
   "source": [
    "import py2neo\n",
    "import pandas as pd\n",
    "import numpy as np\n",
    "from spot import bidSPOT, dSPOT,  SPOT\n",
    "import traceback\n",
    "import networkx as nx\n",
    "from datetime import datetime, timedelta"
   ]
  },
  {
   "cell_type": "code",
   "execution_count": 107,
   "metadata": {},
   "outputs": [
    {
     "name": "stderr",
     "output_type": "stream",
     "text": [
      "c:\\Users\\andrea\\.conda\\envs\\spatiotemporal\\lib\\site-packages\\networkx\\readwrite\\graphml.py:1031: UserWarning: No key type for id id. Using string\n",
      "  warnings.warn(f\"No key type for id {attr_id}. Using string\")\n",
      "c:\\Users\\andrea\\.conda\\envs\\spatiotemporal\\lib\\site-packages\\networkx\\readwrite\\graphml.py:1031: UserWarning: No key type for id labels. Using string\n",
      "  warnings.warn(f\"No key type for id {attr_id}. Using string\")\n",
      "c:\\Users\\andrea\\.conda\\envs\\spatiotemporal\\lib\\site-packages\\networkx\\readwrite\\graphml.py:1031: UserWarning: No key type for id causal. Using string\n",
      "  warnings.warn(f\"No key type for id {attr_id}. Using string\")\n",
      "c:\\Users\\andrea\\.conda\\envs\\spatiotemporal\\lib\\site-packages\\networkx\\readwrite\\graphml.py:1031: UserWarning: No key type for id label. Using string\n",
      "  warnings.warn(f\"No key type for id {attr_id}. Using string\")\n"
     ]
    }
   ],
   "source": [
    "#graph = py2neo.Graph(\"bolt://192.168.1.185:7687\", auth=(\"neo4j\", \"\"))\n",
    "# TODO. put this into neo4j again\n",
    "\n",
    "graph = nx.read_graphml(\"../data/causality_chi2.graphml\")\n",
    "graph = graph.to_undirected()"
   ]
  },
  {
   "cell_type": "code",
   "execution_count": null,
   "metadata": {},
   "outputs": [],
   "source": [
    "full_data = pd.read_csv('../data/loadtest-timestamp.csv')\n",
    "full_data[['Date', 'Time']] = full_data['Time'].str.split(\" \", expand=True)\n",
    "full_data = full_data.sort_values(by=['Date','Time'])\n",
    "full_data"
   ]
  },
  {
   "cell_type": "code",
   "execution_count": null,
   "metadata": {},
   "outputs": [],
   "source": [
    "# Prepare data\n",
    "u_data = (full_data['Date'] == '2/17/2022')| (full_data['Date'] == '3/2/2022')\n",
    "all_data = full_data[u_data]\n",
    "# initial batch\n",
    "u_init_data = (full_data['Date'] == '10/14/2021') | (full_data['Date'] == '10/20/2021')| (full_data['Date'] == '10/19/2021')\n",
    "all_init_data = full_data[u_init_data]\n",
    "\n",
    "csv_nodes = full_data.columns.drop(['Date', 'Time', 'Unnamed: 0'])\n",
    "print(\"Node names from data csv: \", sorted(csv_nodes))\n",
    "# graph_nodes = [node['id'] for node in graph.nodes.match().all()]\n",
    "graph_nodes = [node[1]['id'] for node in graph.nodes.data()]\n",
    "print(\"Node names from graph: \", sorted(graph_nodes))\n",
    "print(\"Nodes in graph but not in data csv: \", sorted(set(graph_nodes) - set(csv_nodes)))\n",
    "print(\"Nodes in data csv but not in graph: \", sorted(set(csv_nodes) - set(graph_nodes)))\n",
    "for column_name in csv_nodes:\n",
    "    init_data = all_init_data[column_name].to_numpy()\n",
    "    data = all_data[column_name].to_numpy()\n",
    "\n",
    "    try:\n",
    "        q = 1e-5  \t\t\t# risk parameter\n",
    "        s = SPOT(q)  \t\t# SPOT object\n",
    "        s.fit(init_data,data) \t# data import\n",
    "        s.initialize(verbose=False) \t\t# initialization step\n",
    "        results = s.run() \t# run\n",
    "        #s.plot(results) \t# plot\n",
    "        alarms = results[\"alarms\"]\n",
    "        print(column_name, alarms)\n",
    "        #node = graph.nodes.match(id=column_name).first()\n",
    "        node = [n for n in graph.nodes.data() if n[1][\"id\"] == column_name][0]\n",
    "        if len(alarms) > 0:\n",
    "            print(node)\n",
    "            print(\"had an anomaly\")\n",
    "            print(full_data.iloc[alarms[0]])\n",
    "            node[1][\"anomaly\"] = True\n",
    "            #print(all_data.iloc[alarms][['Date', 'Time']])\n",
    "            anomaly_timestamps = [\" \".join(all_data.iloc[alarm][['Date', 'Time']]) for alarm in alarms]\n",
    "            node[1][\"anomaly_timestamps\"] = anomaly_timestamps\n",
    "            #graph.push(node)\n",
    "        else:\n",
    "            node[1][\"anomaly\"] = False\n",
    "            # graph.push(node)\n",
    "    except Exception:\n",
    "            print(traceback.format_exc())\n"
   ]
  },
  {
   "cell_type": "code",
   "execution_count": null,
   "metadata": {},
   "outputs": [],
   "source": [
    "nx.write_graphml(graph, \"../data/causality_anomaly_timestamps.graphml\")"
   ]
  },
  {
   "cell_type": "code",
   "execution_count": 110,
   "metadata": {},
   "outputs": [],
   "source": [
    "remove_edges = [e for e in graph.edges(data=True) if e[2].get('causal')!='true']\n",
    "graph.remove_edges_from(remove_edges)\n"
   ]
  },
  {
   "cell_type": "code",
   "execution_count": 111,
   "metadata": {},
   "outputs": [
    {
     "data": {
      "text/plain": [
       "NodeDataView({'n0': {'labels': ':Node', 'id': 'carts', 'anomaly': True, 'anomaly_timestamps': ['2/17/2022 20:44', '2/17/2022 21:26', '3/2/2022 11:56', '3/2/2022 11:57', '3/2/2022 11:58', '3/2/2022 11:59', '3/2/2022 12:00', '3/2/2022 12:01', '3/2/2022 12:02', '3/2/2022 12:03', '3/2/2022 12:12', '3/2/2022 12:13', '3/2/2022 12:14', '3/2/2022 12:15', '3/2/2022 12:19', '3/2/2022 12:20', '3/2/2022 12:21', '3/2/2022 12:22', '3/2/2022 12:23', '3/2/2022 12:24', '3/2/2022 12:25', '3/2/2022 15:35', '3/2/2022 15:53', '3/2/2022 15:54', '3/2/2022 15:55', '3/2/2022 15:56', '3/2/2022 15:57', '3/2/2022 15:58', '3/2/2022 15:59', '3/2/2022 16:00', '3/2/2022 16:46', '3/2/2022 17:54', '3/2/2022 17:55', '3/2/2022 17:56', '3/2/2022 17:57', '3/2/2022 17:58', '3/2/2022 17:59', '3/2/2022 18:00', '3/2/2022 18:01', '3/2/2022 18:48', '3/2/2022 19:49', '3/2/2022 19:50', '3/2/2022 19:51', '3/2/2022 19:52']}, 'n1': {'labels': ':Node', 'id': 'user', 'anomaly': False}, 'n2': {'labels': ':Node', 'id': 'user-db'}, 'n3': {'labels': ':Node', 'id': 'catalogue', 'anomaly': False}, 'n4': {'labels': ':Node', 'id': 'catalogue-db', 'anomaly': True, 'anomaly_timestamps': ['3/2/2022 12:16']}, 'n5': {'labels': ':Node', 'id': 'orders-db', 'anomaly': True, 'anomaly_timestamps': ['3/2/2022 12:13', '3/2/2022 13:22', '3/2/2022 13:23', '3/2/2022 17:39', '3/2/2022 19:41']}, 'n6': {'labels': ':Node', 'id': 'carts-db', 'anomaly': True, 'anomaly_timestamps': ['3/2/2022 13:22', '3/2/2022 13:23']}, 'n7': {'labels': ':Node', 'id': 'queue-master', 'anomaly': True, 'anomaly_timestamps': ['2/17/2022 20:45', '2/17/2022 21:27', '3/2/2022 11:50', '3/2/2022 11:51', '3/2/2022 11:52', '3/2/2022 11:53', '3/2/2022 11:54', '3/2/2022 11:56', '3/2/2022 11:59', '3/2/2022 12:14', '3/2/2022 12:15', '3/2/2022 12:16', '3/2/2022 15:47', '3/2/2022 15:48', '3/2/2022 15:49', '3/2/2022 15:50', '3/2/2022 15:51', '3/2/2022 15:53', '3/2/2022 15:56', '3/2/2022 16:23', '3/2/2022 17:48', '3/2/2022 17:49', '3/2/2022 17:50', '3/2/2022 17:51', '3/2/2022 17:52', '3/2/2022 17:54', '3/2/2022 17:57', '3/2/2022 18:25', '3/2/2022 19:48']}, 'n8': {'labels': ':Node', 'id': 'rabbitmq', 'anomaly': True, 'anomaly_timestamps': ['3/2/2022 11:49', '3/2/2022 11:58', '3/2/2022 11:59', '3/2/2022 12:13', '3/2/2022 15:46', '3/2/2022 15:55', '3/2/2022 15:56', '3/2/2022 17:47', '3/2/2022 17:56', '3/2/2022 17:57', '3/2/2022 19:50', '3/2/2022 19:51']}, 'n9': {'labels': ':Node', 'id': 'session-db', 'anomaly': True, 'anomaly_timestamps': ['3/2/2022 12:22', '3/2/2022 13:22', '3/2/2022 13:23']}, 'n10': {'labels': ':Node', 'id': 'master'}, 'n11': {'labels': ':Node', 'id': 'worker1'}, 'n12': {'labels': ':Node', 'id': 'worker2'}, 'n13': {'labels': ':Node', 'id': 'front-end', 'anomaly': True, 'anomaly_timestamps': ['3/2/2022 11:50', '3/2/2022 13:22', '3/2/2022 15:47', '3/2/2022 17:48']}, 'n14': {'labels': ':Node', 'id': 'orders', 'anomaly': True, 'anomaly_timestamps': ['2/17/2022 20:45', '2/17/2022 21:27', '3/2/2022 11:53', '3/2/2022 11:54', '3/2/2022 11:55', '3/2/2022 11:56', '3/2/2022 11:57', '3/2/2022 11:58', '3/2/2022 12:10', '3/2/2022 12:11', '3/2/2022 12:13', '3/2/2022 12:16', '3/2/2022 15:50', '3/2/2022 15:51', '3/2/2022 15:52', '3/2/2022 15:53', '3/2/2022 15:54', '3/2/2022 15:55', '3/2/2022 17:51', '3/2/2022 17:52', '3/2/2022 17:53', '3/2/2022 17:54', '3/2/2022 17:55', '3/2/2022 17:56', '3/2/2022 19:49', '3/2/2022 19:50', '3/2/2022 19:51']}, 'n15': {'labels': ':Node', 'id': 'shipping', 'anomaly': True, 'anomaly_timestamps': ['3/2/2022 11:54', '3/2/2022 11:55', '3/2/2022 11:56', '3/2/2022 11:57', '3/2/2022 11:58', '3/2/2022 11:59', '3/2/2022 12:16', '3/2/2022 12:46', '3/2/2022 13:21', '3/2/2022 13:23', '3/2/2022 15:51', '3/2/2022 15:52', '3/2/2022 15:53', '3/2/2022 15:54', '3/2/2022 15:55', '3/2/2022 15:56', '3/2/2022 17:52', '3/2/2022 17:53', '3/2/2022 17:54', '3/2/2022 17:55', '3/2/2022 17:56', '3/2/2022 17:57', '3/2/2022 19:49', '3/2/2022 19:50', '3/2/2022 19:51', '3/2/2022 19:52']}, 'n16': {'labels': ':Node', 'id': 'payment', 'anomaly': True, 'anomaly_timestamps': ['3/2/2022 12:56']}})"
      ]
     },
     "execution_count": 111,
     "metadata": {},
     "output_type": "execute_result"
    }
   ],
   "source": [
    "graph.nodes.data()"
   ]
  },
  {
   "cell_type": "code",
   "execution_count": 112,
   "metadata": {},
   "outputs": [
    {
     "data": {
      "image/png": "[encoded data removed]",
      "text/plain": [
       "<Figure size 432x288 with 1 Axes>"
      ]
     },
     "metadata": {},
     "output_type": "display_data"
    }
   ],
   "source": [
    "frontend_node = [n for n in graph.nodes.data() if n[1][\"id\"] == \"front-end\"][0]\n",
    "anomaly_graph0 = nx.dfs_tree(graph, frontend_node[0])\n",
    "nx.draw(anomaly_graph0, with_labels=True)"
   ]
  },
  {
   "cell_type": "code",
   "execution_count": 77,
   "metadata": {},
   "outputs": [
    {
     "data": {
      "image/png": "[encoded data removed]",
      "text/plain": [
       "<Figure size 432x288 with 1 Axes>"
      ]
     },
     "metadata": {},
     "output_type": "display_data"
    }
   ],
   "source": [
    "anomaly_graph0 = nx.bfs_tree(graph, frontend_node[0])\n",
    "nx.draw(anomaly_graph0, with_labels=True)"
   ]
  },
  {
   "cell_type": "code",
   "execution_count": 74,
   "metadata": {},
   "outputs": [
    {
     "data": {
      "text/plain": [
       "['n13', 'n2', 'n1', 'n0', 'n14', 'n3', 'n16', 'n8', 'n7', 'n15', 'n5', 'n6']"
      ]
     },
     "execution_count": 74,
     "metadata": {},
     "output_type": "execute_result"
    }
   ],
   "source": [
    "list(nx.dfs_successors(graph, frontend_node[0]))"
   ]
  },
  {
   "cell_type": "code",
   "execution_count": 78,
   "metadata": {},
   "outputs": [
    {
     "data": {
      "text/plain": [
       "[('n13', ['n2', 'n5', 'n6']),\n",
       " ('n2', ['n1', 'n9']),\n",
       " ('n5', ['n14']),\n",
       " ('n6', ['n0']),\n",
       " ('n1', ['n16', 'n3', 'n4', 'n7', 'n8', 'n15'])]"
      ]
     },
     "execution_count": 78,
     "metadata": {},
     "output_type": "execute_result"
    }
   ],
   "source": [
    "list(nx.bfs_successors(graph, frontend_node[0]))"
   ]
  },
  {
   "cell_type": "code",
   "execution_count": 146,
   "metadata": {},
   "outputs": [
    {
     "name": "stdout",
     "output_type": "stream",
     "text": [
      "Next node\n",
      "{'labels': ':Node', 'id': 'user-db'}\n",
      "{'labels': ':Node', 'id': 'orders-db', 'anomaly': True, 'anomaly_timestamps': ['3/2/2022 12:13', '3/2/2022 13:22', '3/2/2022 13:23', '3/2/2022 17:39', '3/2/2022 19:41']}\n",
      "{'labels': ':Node', 'id': 'carts-db', 'anomaly': True, 'anomaly_timestamps': ['3/2/2022 13:22', '3/2/2022 13:23']}\n",
      "[('n5', '03/02/2022 13:23'), ('n6', '03/02/2022 13:23')]\n",
      "Next node\n",
      "{'labels': ':Node', 'id': 'orders', 'anomaly': True, 'anomaly_timestamps': ['2/17/2022 20:45', '2/17/2022 21:27', '3/2/2022 11:53', '3/2/2022 11:54', '3/2/2022 11:55', '3/2/2022 11:56', '3/2/2022 11:57', '3/2/2022 11:58', '3/2/2022 12:10', '3/2/2022 12:11', '3/2/2022 12:13', '3/2/2022 12:16', '3/2/2022 15:50', '3/2/2022 15:51', '3/2/2022 15:52', '3/2/2022 15:53', '3/2/2022 15:54', '3/2/2022 15:55', '3/2/2022 17:51', '3/2/2022 17:52', '3/2/2022 17:53', '3/2/2022 17:54', '3/2/2022 17:55', '3/2/2022 17:56', '3/2/2022 19:49', '3/2/2022 19:50', '3/2/2022 19:51']}\n",
      "{'labels': ':Node', 'id': 'user-db'}\n",
      "{'labels': ':Node', 'id': 'session-db', 'anomaly': True, 'anomaly_timestamps': ['3/2/2022 12:22', '3/2/2022 13:22', '3/2/2022 13:23']}\n",
      "[('n9', '03/02/2022 13:23')]\n",
      "Next node\n",
      "{'labels': ':Node', 'id': 'carts', 'anomaly': True, 'anomaly_timestamps': ['2/17/2022 20:44', '2/17/2022 21:26', '3/2/2022 11:56', '3/2/2022 11:57', '3/2/2022 11:58', '3/2/2022 11:59', '3/2/2022 12:00', '3/2/2022 12:01', '3/2/2022 12:02', '3/2/2022 12:03', '3/2/2022 12:12', '3/2/2022 12:13', '3/2/2022 12:14', '3/2/2022 12:15', '3/2/2022 12:19', '3/2/2022 12:20', '3/2/2022 12:21', '3/2/2022 12:22', '3/2/2022 12:23', '3/2/2022 12:24', '3/2/2022 12:25', '3/2/2022 15:35', '3/2/2022 15:53', '3/2/2022 15:54', '3/2/2022 15:55', '3/2/2022 15:56', '3/2/2022 15:57', '3/2/2022 15:58', '3/2/2022 15:59', '3/2/2022 16:00', '3/2/2022 16:46', '3/2/2022 17:54', '3/2/2022 17:55', '3/2/2022 17:56', '3/2/2022 17:57', '3/2/2022 17:58', '3/2/2022 17:59', '3/2/2022 18:00', '3/2/2022 18:01', '3/2/2022 18:48', '3/2/2022 19:49', '3/2/2022 19:50', '3/2/2022 19:51', '3/2/2022 19:52']}\n",
      "{'labels': ':Node', 'id': 'user-db'}\n",
      "Next node\n",
      "{'labels': ':Node', 'id': 'user-db'}\n"
     ]
    },
    {
     "data": {
      "image/png": "[encoded data removed]",
      "text/plain": [
       "<Figure size 432x288 with 1 Axes>"
      ]
     },
     "metadata": {},
     "output_type": "display_data"
    }
   ],
   "source": [
    "MAXLAG = 2\n",
    "DATETIME_FORMAT = \"%m/%d/%Y %H:%M\"\n",
    "\n",
    "def propagation_timestamp_next_node(current_node, neighbor, nodes_to_visit):\n",
    "    if neighbor in nodes_to_visit:\n",
    "        return None\n",
    "    print(graph.nodes[neighbor])\n",
    "    neighbor_data = graph.nodes[neighbor]\n",
    "    if not neighbor_data.get(\"anomaly\"):\n",
    "        return None\n",
    "    current_timestamp = G.nodes[current_node][\"propagation_timestamp\"]\n",
    "    current_timestamp = datetime.strptime(current_timestamp, DATETIME_FORMAT)\n",
    "    neighbor_anomaly_timestamps = np.array([datetime.strptime(timestamp, DATETIME_FORMAT) for timestamp in neighbor_data[\"anomaly_timestamps\"]])\n",
    "    max_propagation_timestamp = None\n",
    "    \n",
    "    time_diff = neighbor_anomaly_timestamps - current_timestamp\n",
    "    propagation_timestamps = neighbor_anomaly_timestamps[np.logical_and((timedelta(minutes=0) <= time_diff), (time_diff <= timedelta(minutes=MAXLAG)))]\n",
    "    if not len(propagation_timestamps):\n",
    "        return None\n",
    "    max_propagation_timestamp = datetime.strftime(np.max(propagation_timestamps), DATETIME_FORMAT)\n",
    "    return max_propagation_timestamp\n",
    "    \n",
    "\n",
    "\n",
    "\n",
    "G=nx.Graph()\n",
    "G.add_node(frontend_node[0], propagation_timestamp='3/2/2022 13:22')\n",
    "nodes_to_visit = [frontend_node[0]]\n",
    "for node in nodes_to_visit:\n",
    "    #current_timestamp =\n",
    "    #print(node)\n",
    "    potential_next_nodes = []\n",
    "    print(\"Next node\")\n",
    "    for n in list(graph.neighbors(node)):\n",
    "        propagation_timestamp = propagation_timestamp_next_node(node, n, nodes_to_visit)\n",
    "        if propagation_timestamp is not None:\n",
    "            potential_next_nodes.append((n, propagation_timestamp))\n",
    "    \n",
    "    if len(potential_next_nodes) > 0:\n",
    "        if np.random.choice([0, 1]):\n",
    "            # bfs way\n",
    "            next_nodes = potential_next_nodes\n",
    "        else:\n",
    "            # dfs way\n",
    "            next_nodes = [potential_next_nodes[np.random.choice(len(potential_next_nodes))]]\n",
    "            \n",
    "        nodes_to_visit += [n for n, timestamp in next_nodes]\n",
    "        for next_node, p_timestamp in next_nodes:\n",
    "            G.add_node(next_node, propagation_timestamp=p_timestamp)\n",
    "            G.add_edge(node, next_node, propagation_timestamp=p_timestamp)\n",
    "        print(next_nodes)\n",
    "nx.draw(G, with_labels=True)"
   ]
  },
  {
   "cell_type": "code",
   "execution_count": 162,
   "metadata": {},
   "outputs": [
    {
     "data": {
      "image/png": "[encoded data removed]",
      "text/plain": [
       "<Figure size 432x288 with 1 Axes>"
      ]
     },
     "metadata": {},
     "output_type": "display_data"
    }
   ],
   "source": [
    "MAXLAG = 2\n",
    "\n",
    "G=nx.Graph()\n",
    "G.add_node(frontend_node[0])\n",
    "# idea for timestep sampling\n",
    "time=0\n",
    "nodes_to_visit = [frontend_node[0]]\n",
    "for node in nodes_to_visit:\n",
    "    #current_timestamp =\n",
    "    #print(node)\n",
    "    potential_next_nodes = []\n",
    "    potential_next_nodes = [n for n in list(graph.neighbors(node)) if not n in nodes_to_visit]\n",
    "    \n",
    "    if len(potential_next_nodes) > 0:\n",
    "        if np.random.choice([0, 1]):\n",
    "            # bfs way\n",
    "            next_nodes = potential_next_nodes\n",
    "        else:\n",
    "            # dfs way\n",
    "            next_nodes = [potential_next_nodes[np.random.choice(len(potential_next_nodes))]]\n",
    "            \n",
    "        nodes_to_visit += next_nodes\n",
    "        for next_node in next_nodes:\n",
    "            G.add_node(next_node)\n",
    "            G.add_edge(node, next_node, timestamp=time)\n",
    "        time +=1\n",
    "nx.draw(G, with_labels=True)"
   ]
  },
  {
   "cell_type": "code",
   "execution_count": 163,
   "metadata": {},
   "outputs": [
    {
     "data": {
      "text/html": [
       "<div>\n",
       "<style scoped>\n",
       "    .dataframe tbody tr th:only-of-type {\n",
       "        vertical-align: middle;\n",
       "    }\n",
       "\n",
       "    .dataframe tbody tr th {\n",
       "        vertical-align: top;\n",
       "    }\n",
       "\n",
       "    .dataframe thead th {\n",
       "        text-align: right;\n",
       "    }\n",
       "</style>\n",
       "<table border=\"1\" class=\"dataframe\">\n",
       "  <thead>\n",
       "    <tr style=\"text-align: right;\">\n",
       "      <th></th>\n",
       "      <th>source</th>\n",
       "      <th>target</th>\n",
       "      <th>timestamp</th>\n",
       "    </tr>\n",
       "  </thead>\n",
       "  <tbody>\n",
       "    <tr>\n",
       "      <th>0</th>\n",
       "      <td>n13</td>\n",
       "      <td>n2</td>\n",
       "      <td>0</td>\n",
       "    </tr>\n",
       "    <tr>\n",
       "      <th>1</th>\n",
       "      <td>n13</td>\n",
       "      <td>n5</td>\n",
       "      <td>0</td>\n",
       "    </tr>\n",
       "    <tr>\n",
       "      <th>2</th>\n",
       "      <td>n13</td>\n",
       "      <td>n6</td>\n",
       "      <td>0</td>\n",
       "    </tr>\n",
       "    <tr>\n",
       "      <th>3</th>\n",
       "      <td>n2</td>\n",
       "      <td>n1</td>\n",
       "      <td>1</td>\n",
       "    </tr>\n",
       "    <tr>\n",
       "      <th>4</th>\n",
       "      <td>n5</td>\n",
       "      <td>n14</td>\n",
       "      <td>2</td>\n",
       "    </tr>\n",
       "    <tr>\n",
       "      <th>5</th>\n",
       "      <td>n5</td>\n",
       "      <td>n9</td>\n",
       "      <td>2</td>\n",
       "    </tr>\n",
       "    <tr>\n",
       "      <th>6</th>\n",
       "      <td>n6</td>\n",
       "      <td>n0</td>\n",
       "      <td>3</td>\n",
       "    </tr>\n",
       "    <tr>\n",
       "      <th>7</th>\n",
       "      <td>n1</td>\n",
       "      <td>n16</td>\n",
       "      <td>4</td>\n",
       "    </tr>\n",
       "    <tr>\n",
       "      <th>8</th>\n",
       "      <td>n1</td>\n",
       "      <td>n3</td>\n",
       "      <td>4</td>\n",
       "    </tr>\n",
       "    <tr>\n",
       "      <th>9</th>\n",
       "      <td>n1</td>\n",
       "      <td>n4</td>\n",
       "      <td>4</td>\n",
       "    </tr>\n",
       "    <tr>\n",
       "      <th>10</th>\n",
       "      <td>n1</td>\n",
       "      <td>n7</td>\n",
       "      <td>4</td>\n",
       "    </tr>\n",
       "    <tr>\n",
       "      <th>11</th>\n",
       "      <td>n1</td>\n",
       "      <td>n8</td>\n",
       "      <td>4</td>\n",
       "    </tr>\n",
       "    <tr>\n",
       "      <th>12</th>\n",
       "      <td>n1</td>\n",
       "      <td>n15</td>\n",
       "      <td>4</td>\n",
       "    </tr>\n",
       "  </tbody>\n",
       "</table>\n",
       "</div>"
      ],
      "text/plain": [
       "   source target  timestamp\n",
       "0     n13     n2          0\n",
       "1     n13     n5          0\n",
       "2     n13     n6          0\n",
       "3      n2     n1          1\n",
       "4      n5    n14          2\n",
       "5      n5     n9          2\n",
       "6      n6     n0          3\n",
       "7      n1    n16          4\n",
       "8      n1     n3          4\n",
       "9      n1     n4          4\n",
       "10     n1     n7          4\n",
       "11     n1     n8          4\n",
       "12     n1    n15          4"
      ]
     },
     "execution_count": 163,
     "metadata": {},
     "output_type": "execute_result"
    }
   ],
   "source": [
    "nx.to_pandas_edgelist(G)"
   ]
  },
  {
   "cell_type": "code",
   "execution_count": 119,
   "metadata": {},
   "outputs": [
    {
     "name": "stdout",
     "output_type": "stream",
     "text": [
      "['3/2/2022 11:50', '3/2/2022 13:22', '3/2/2022 15:47', '3/2/2022 17:48']\n"
     ]
    }
   ],
   "source": [
    "print(frontend_node[1][\"anomaly_timestamps\"])"
   ]
  },
  {
   "cell_type": "code",
   "execution_count": 66,
   "metadata": {},
   "outputs": [
    {
     "data": {
      "text/plain": [
       "['n2', 'n5', 'n6']"
      ]
     },
     "execution_count": 66,
     "metadata": {},
     "output_type": "execute_result"
    }
   ],
   "source": [
    "list(graph['n13'])"
   ]
  },
  {
   "cell_type": "code",
   "execution_count": 67,
   "metadata": {},
   "outputs": [
    {
     "name": "stdout",
     "output_type": "stream",
     "text": [
      "[{'labels': ':Node', 'id': 'user-db'}, {'labels': ':Node', 'id': 'orders-db', 'anomaly': True, 'anomaly_timestamps': ['3/2/2022;12:13', '3/2/2022;13:22', '3/2/2022;13:23', '3/2/2022;17:39', '3/2/2022;19:41']}, {'labels': ':Node', 'id': 'carts-db', 'anomaly': True, 'anomaly_timestamps': ['3/2/2022;13:22', '3/2/2022;13:23']}]\n"
     ]
    }
   ],
   "source": [
    "print([graph.nodes[node] for node in list(graph.neighbors(frontend_node[0]))])"
   ]
  }
 ],
 "metadata": {
  "kernelspec": {
   "display_name": "Python 3.9.13 ('spatiotemporal')",
   "language": "python",
   "name": "python3"
  },
  "language_info": {
   "codemirror_mode": {
    "name": "ipython",
    "version": 3
   },
   "file_extension": ".py",
   "mimetype": "text/x-python",
   "name": "python",
   "nbconvert_exporter": "python",
   "pygments_lexer": "ipython3",
   "version": "3.9.13"
  },
  "orig_nbformat": 4,
  "vscode": {
   "interpreter": {
    "hash": "064a5b36ab56d5365b55a4d783520d2b91c49e06f5a89f0a19392309d7ec8e8d"
   }
  }
 },
 "nbformat": 4,
 "nbformat_minor": 2
}
