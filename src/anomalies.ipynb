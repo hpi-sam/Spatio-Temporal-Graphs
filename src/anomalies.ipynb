{
 "cells": [
  {
   "cell_type": "markdown",
   "metadata": {},
   "source": [
    "# WP1 - Anomaly subgraph extraction: Finding anomalies"
   ]
  },
  {
   "cell_type": "code",
   "execution_count": 44,
   "metadata": {},
   "outputs": [],
   "source": [
    "from importlib import reload\n",
    "import pandas as pd\n",
    "import numpy as np\n",
    "import networkx as nx\n",
    "from tqdm import tqdm\n",
    "import networkx.algorithms.isomorphism as iso\n",
    "from anomaly_detection import detect_anomalies\n",
    "from temporal_graph_generation import sample_subgraph, sample_subgraph_with_timestamp_constraint, add_timesteps_to_graph\n",
    "import correlation"
   ]
  },
  {
   "cell_type": "code",
   "execution_count": 45,
   "metadata": {},
   "outputs": [
    {
     "data": {
      "text/plain": [
       "<module 'correlation' from '/Users/lisa/Documents/GitHub/Spatio-Temporal-Graphs/src/correlation.py'>"
      ]
     },
     "execution_count": 45,
     "metadata": {},
     "output_type": "execute_result"
    }
   ],
   "source": [
    "reload(correlation)"
   ]
  },
  {
   "cell_type": "code",
   "execution_count": 2,
   "metadata": {},
   "outputs": [
    {
     "name": "stderr",
     "output_type": "stream",
     "text": [
      "/Users/lisa/opt/anaconda3/envs/graphs_ml/lib/python3.9/site-packages/networkx/readwrite/graphml.py:1032: UserWarning: No key type for id id. Using string\n",
      "  warnings.warn(f\"No key type for id {attr_id}. Using string\")\n",
      "/Users/lisa/opt/anaconda3/envs/graphs_ml/lib/python3.9/site-packages/networkx/readwrite/graphml.py:1032: UserWarning: No key type for id labels. Using string\n",
      "  warnings.warn(f\"No key type for id {attr_id}. Using string\")\n",
      "/Users/lisa/opt/anaconda3/envs/graphs_ml/lib/python3.9/site-packages/networkx/readwrite/graphml.py:1032: UserWarning: No key type for id causal. Using string\n",
      "  warnings.warn(f\"No key type for id {attr_id}. Using string\")\n",
      "/Users/lisa/opt/anaconda3/envs/graphs_ml/lib/python3.9/site-packages/networkx/readwrite/graphml.py:1032: UserWarning: No key type for id label. Using string\n",
      "  warnings.warn(f\"No key type for id {attr_id}. Using string\")\n"
     ]
    }
   ],
   "source": [
    "graph = nx.read_graphml(\"../data/causality_chi2.graphml\")\n",
    "graph = graph.to_undirected()"
   ]
  },
  {
   "cell_type": "code",
   "execution_count": 3,
   "metadata": {},
   "outputs": [],
   "source": [
    "graph = nx.convert_node_labels_to_integers(graph)"
   ]
  },
  {
   "cell_type": "code",
   "execution_count": 4,
   "metadata": {},
   "outputs": [
    {
     "data": {
      "text/html": [
       "<div>\n",
       "<style scoped>\n",
       "    .dataframe tbody tr th:only-of-type {\n",
       "        vertical-align: middle;\n",
       "    }\n",
       "\n",
       "    .dataframe tbody tr th {\n",
       "        vertical-align: top;\n",
       "    }\n",
       "\n",
       "    .dataframe thead th {\n",
       "        text-align: right;\n",
       "    }\n",
       "</style>\n",
       "<table border=\"1\" class=\"dataframe\">\n",
       "  <thead>\n",
       "    <tr style=\"text-align: right;\">\n",
       "      <th></th>\n",
       "      <th>Unnamed: 0</th>\n",
       "      <th>Time</th>\n",
       "      <th>carts</th>\n",
       "      <th>carts-db</th>\n",
       "      <th>catalogue</th>\n",
       "      <th>catalogue-db</th>\n",
       "      <th>front-end</th>\n",
       "      <th>orders</th>\n",
       "      <th>orders-db</th>\n",
       "      <th>payment</th>\n",
       "      <th>queue-master</th>\n",
       "      <th>rabbitmq</th>\n",
       "      <th>session-db</th>\n",
       "      <th>shipping</th>\n",
       "      <th>user</th>\n",
       "      <th>user-db</th>\n",
       "      <th>Date</th>\n",
       "    </tr>\n",
       "  </thead>\n",
       "  <tbody>\n",
       "    <tr>\n",
       "      <th>674</th>\n",
       "      <td>674</td>\n",
       "      <td>11:27</td>\n",
       "      <td>0.00245</td>\n",
       "      <td>0.00824</td>\n",
       "      <td>0.00129</td>\n",
       "      <td>0.001150</td>\n",
       "      <td>0.00313</td>\n",
       "      <td>0.00260</td>\n",
       "      <td>0.00901</td>\n",
       "      <td>0.001250</td>\n",
       "      <td>0.00254</td>\n",
       "      <td>0.0145</td>\n",
       "      <td>0.00232</td>\n",
       "      <td>0.00223</td>\n",
       "      <td>0.00178</td>\n",
       "      <td>0.00942</td>\n",
       "      <td>10/14/2021</td>\n",
       "    </tr>\n",
       "    <tr>\n",
       "      <th>675</th>\n",
       "      <td>675</td>\n",
       "      <td>11:28</td>\n",
       "      <td>0.00279</td>\n",
       "      <td>0.01020</td>\n",
       "      <td>0.00128</td>\n",
       "      <td>0.001080</td>\n",
       "      <td>0.00352</td>\n",
       "      <td>0.00273</td>\n",
       "      <td>0.00974</td>\n",
       "      <td>0.001310</td>\n",
       "      <td>0.00249</td>\n",
       "      <td>0.0136</td>\n",
       "      <td>0.00268</td>\n",
       "      <td>0.00235</td>\n",
       "      <td>0.00191</td>\n",
       "      <td>0.01060</td>\n",
       "      <td>10/14/2021</td>\n",
       "    </tr>\n",
       "    <tr>\n",
       "      <th>676</th>\n",
       "      <td>676</td>\n",
       "      <td>11:29</td>\n",
       "      <td>0.00345</td>\n",
       "      <td>0.00929</td>\n",
       "      <td>0.00140</td>\n",
       "      <td>0.001180</td>\n",
       "      <td>0.00379</td>\n",
       "      <td>0.00262</td>\n",
       "      <td>0.00938</td>\n",
       "      <td>0.001370</td>\n",
       "      <td>0.00329</td>\n",
       "      <td>0.0132</td>\n",
       "      <td>0.00260</td>\n",
       "      <td>0.00214</td>\n",
       "      <td>0.00198</td>\n",
       "      <td>0.01020</td>\n",
       "      <td>10/14/2021</td>\n",
       "    </tr>\n",
       "    <tr>\n",
       "      <th>677</th>\n",
       "      <td>677</td>\n",
       "      <td>11:30</td>\n",
       "      <td>0.00233</td>\n",
       "      <td>0.00890</td>\n",
       "      <td>0.00108</td>\n",
       "      <td>0.001120</td>\n",
       "      <td>0.00343</td>\n",
       "      <td>0.00227</td>\n",
       "      <td>0.00783</td>\n",
       "      <td>0.001300</td>\n",
       "      <td>0.00239</td>\n",
       "      <td>0.0113</td>\n",
       "      <td>0.00223</td>\n",
       "      <td>0.00221</td>\n",
       "      <td>0.00173</td>\n",
       "      <td>0.00869</td>\n",
       "      <td>10/14/2021</td>\n",
       "    </tr>\n",
       "    <tr>\n",
       "      <th>678</th>\n",
       "      <td>678</td>\n",
       "      <td>11:31</td>\n",
       "      <td>0.00421</td>\n",
       "      <td>0.00914</td>\n",
       "      <td>0.00148</td>\n",
       "      <td>0.001380</td>\n",
       "      <td>0.00405</td>\n",
       "      <td>0.00297</td>\n",
       "      <td>0.00980</td>\n",
       "      <td>0.001410</td>\n",
       "      <td>0.00250</td>\n",
       "      <td>0.0127</td>\n",
       "      <td>0.00259</td>\n",
       "      <td>0.00234</td>\n",
       "      <td>0.00233</td>\n",
       "      <td>0.01030</td>\n",
       "      <td>10/14/2021</td>\n",
       "    </tr>\n",
       "    <tr>\n",
       "      <th>...</th>\n",
       "      <td>...</td>\n",
       "      <td>...</td>\n",
       "      <td>...</td>\n",
       "      <td>...</td>\n",
       "      <td>...</td>\n",
       "      <td>...</td>\n",
       "      <td>...</td>\n",
       "      <td>...</td>\n",
       "      <td>...</td>\n",
       "      <td>...</td>\n",
       "      <td>...</td>\n",
       "      <td>...</td>\n",
       "      <td>...</td>\n",
       "      <td>...</td>\n",
       "      <td>...</td>\n",
       "      <td>...</td>\n",
       "      <td>...</td>\n",
       "    </tr>\n",
       "    <tr>\n",
       "      <th>527</th>\n",
       "      <td>527</td>\n",
       "      <td>20:33</td>\n",
       "      <td>0.00312</td>\n",
       "      <td>0.01000</td>\n",
       "      <td>0.00139</td>\n",
       "      <td>0.000967</td>\n",
       "      <td>0.00300</td>\n",
       "      <td>0.00320</td>\n",
       "      <td>0.00924</td>\n",
       "      <td>0.001150</td>\n",
       "      <td>0.00214</td>\n",
       "      <td>0.0152</td>\n",
       "      <td>0.00238</td>\n",
       "      <td>0.00187</td>\n",
       "      <td>0.00234</td>\n",
       "      <td>0.00920</td>\n",
       "      <td>3/2/2022</td>\n",
       "    </tr>\n",
       "    <tr>\n",
       "      <th>528</th>\n",
       "      <td>528</td>\n",
       "      <td>20:34</td>\n",
       "      <td>0.00252</td>\n",
       "      <td>0.01080</td>\n",
       "      <td>0.00116</td>\n",
       "      <td>0.001060</td>\n",
       "      <td>0.00311</td>\n",
       "      <td>0.00259</td>\n",
       "      <td>0.01050</td>\n",
       "      <td>0.001480</td>\n",
       "      <td>0.00210</td>\n",
       "      <td>0.0118</td>\n",
       "      <td>0.00260</td>\n",
       "      <td>0.00220</td>\n",
       "      <td>0.00195</td>\n",
       "      <td>0.00965</td>\n",
       "      <td>3/2/2022</td>\n",
       "    </tr>\n",
       "    <tr>\n",
       "      <th>529</th>\n",
       "      <td>529</td>\n",
       "      <td>20:35</td>\n",
       "      <td>0.00311</td>\n",
       "      <td>0.01030</td>\n",
       "      <td>0.00134</td>\n",
       "      <td>0.001460</td>\n",
       "      <td>0.00366</td>\n",
       "      <td>0.00278</td>\n",
       "      <td>0.01060</td>\n",
       "      <td>0.001330</td>\n",
       "      <td>0.00222</td>\n",
       "      <td>0.0122</td>\n",
       "      <td>0.00247</td>\n",
       "      <td>0.00271</td>\n",
       "      <td>0.00237</td>\n",
       "      <td>0.01090</td>\n",
       "      <td>3/2/2022</td>\n",
       "    </tr>\n",
       "    <tr>\n",
       "      <th>530</th>\n",
       "      <td>530</td>\n",
       "      <td>20:36</td>\n",
       "      <td>0.00220</td>\n",
       "      <td>0.01030</td>\n",
       "      <td>0.00102</td>\n",
       "      <td>0.000994</td>\n",
       "      <td>0.00334</td>\n",
       "      <td>0.00458</td>\n",
       "      <td>0.00998</td>\n",
       "      <td>0.000969</td>\n",
       "      <td>0.00222</td>\n",
       "      <td>0.0128</td>\n",
       "      <td>0.00241</td>\n",
       "      <td>0.00213</td>\n",
       "      <td>0.00180</td>\n",
       "      <td>0.00955</td>\n",
       "      <td>3/2/2022</td>\n",
       "    </tr>\n",
       "    <tr>\n",
       "      <th>531</th>\n",
       "      <td>531</td>\n",
       "      <td>20:37</td>\n",
       "      <td>0.00240</td>\n",
       "      <td>0.00999</td>\n",
       "      <td>0.00109</td>\n",
       "      <td>0.001170</td>\n",
       "      <td>0.00322</td>\n",
       "      <td>0.00273</td>\n",
       "      <td>0.00947</td>\n",
       "      <td>0.001190</td>\n",
       "      <td>0.00221</td>\n",
       "      <td>0.0131</td>\n",
       "      <td>0.00240</td>\n",
       "      <td>0.00218</td>\n",
       "      <td>0.00207</td>\n",
       "      <td>0.00923</td>\n",
       "      <td>3/2/2022</td>\n",
       "    </tr>\n",
       "  </tbody>\n",
       "</table>\n",
       "<p>813 rows × 17 columns</p>\n",
       "</div>"
      ],
      "text/plain": [
       "     Unnamed: 0   Time    carts  carts-db  catalogue  catalogue-db  front-end  \\\n",
       "674         674  11:27  0.00245   0.00824    0.00129      0.001150    0.00313   \n",
       "675         675  11:28  0.00279   0.01020    0.00128      0.001080    0.00352   \n",
       "676         676  11:29  0.00345   0.00929    0.00140      0.001180    0.00379   \n",
       "677         677  11:30  0.00233   0.00890    0.00108      0.001120    0.00343   \n",
       "678         678  11:31  0.00421   0.00914    0.00148      0.001380    0.00405   \n",
       "..          ...    ...      ...       ...        ...           ...        ...   \n",
       "527         527  20:33  0.00312   0.01000    0.00139      0.000967    0.00300   \n",
       "528         528  20:34  0.00252   0.01080    0.00116      0.001060    0.00311   \n",
       "529         529  20:35  0.00311   0.01030    0.00134      0.001460    0.00366   \n",
       "530         530  20:36  0.00220   0.01030    0.00102      0.000994    0.00334   \n",
       "531         531  20:37  0.00240   0.00999    0.00109      0.001170    0.00322   \n",
       "\n",
       "      orders  orders-db   payment  queue-master  rabbitmq  session-db  \\\n",
       "674  0.00260    0.00901  0.001250       0.00254    0.0145     0.00232   \n",
       "675  0.00273    0.00974  0.001310       0.00249    0.0136     0.00268   \n",
       "676  0.00262    0.00938  0.001370       0.00329    0.0132     0.00260   \n",
       "677  0.00227    0.00783  0.001300       0.00239    0.0113     0.00223   \n",
       "678  0.00297    0.00980  0.001410       0.00250    0.0127     0.00259   \n",
       "..       ...        ...       ...           ...       ...         ...   \n",
       "527  0.00320    0.00924  0.001150       0.00214    0.0152     0.00238   \n",
       "528  0.00259    0.01050  0.001480       0.00210    0.0118     0.00260   \n",
       "529  0.00278    0.01060  0.001330       0.00222    0.0122     0.00247   \n",
       "530  0.00458    0.00998  0.000969       0.00222    0.0128     0.00241   \n",
       "531  0.00273    0.00947  0.001190       0.00221    0.0131     0.00240   \n",
       "\n",
       "     shipping     user  user-db        Date  \n",
       "674   0.00223  0.00178  0.00942  10/14/2021  \n",
       "675   0.00235  0.00191  0.01060  10/14/2021  \n",
       "676   0.00214  0.00198  0.01020  10/14/2021  \n",
       "677   0.00221  0.00173  0.00869  10/14/2021  \n",
       "678   0.00234  0.00233  0.01030  10/14/2021  \n",
       "..        ...      ...      ...         ...  \n",
       "527   0.00187  0.00234  0.00920    3/2/2022  \n",
       "528   0.00220  0.00195  0.00965    3/2/2022  \n",
       "529   0.00271  0.00237  0.01090    3/2/2022  \n",
       "530   0.00213  0.00180  0.00955    3/2/2022  \n",
       "531   0.00218  0.00207  0.00923    3/2/2022  \n",
       "\n",
       "[813 rows x 17 columns]"
      ]
     },
     "execution_count": 4,
     "metadata": {},
     "output_type": "execute_result"
    }
   ],
   "source": [
    "full_data = pd.read_csv('../data/loadtest-timestamp.csv')\n",
    "full_data[['Date', 'Time']] = full_data['Time'].str.split(\" \", expand=True)\n",
    "full_data = full_data.sort_values(by=['Date','Time'])\n",
    "full_data"
   ]
  },
  {
   "cell_type": "code",
   "execution_count": 5,
   "metadata": {},
   "outputs": [
    {
     "name": "stdout",
     "output_type": "stream",
     "text": [
      "Node names from data csv:  ['carts', 'carts-db', 'catalogue', 'catalogue-db', 'front-end', 'orders', 'orders-db', 'payment', 'queue-master', 'rabbitmq', 'session-db', 'shipping', 'user', 'user-db']\n",
      "Node names from graph:  ['carts', 'carts-db', 'catalogue', 'catalogue-db', 'front-end', 'master', 'orders', 'orders-db', 'payment', 'queue-master', 'rabbitmq', 'session-db', 'shipping', 'user', 'user-db', 'worker1', 'worker2']\n",
      "Nodes in graph but not in data csv:  ['master', 'worker1', 'worker2']\n",
      "Nodes in data csv but not in graph:  []\n"
     ]
    },
    {
     "name": "stderr",
     "output_type": "stream",
     "text": [
      "100%|██████████| 589/589 [00:00<00:00, 593.71it/s]\n",
      "100%|██████████| 589/589 [00:00<00:00, 923.90it/s] \n",
      "100%|██████████| 589/589 [00:00<00:00, 4729.85it/s]\n",
      "100%|██████████| 589/589 [00:00<00:00, 13460.72it/s]\n",
      "100%|██████████| 589/589 [00:00<00:00, 1174.20it/s]\n",
      "100%|██████████| 589/589 [00:00<00:00, 1468.51it/s]\n",
      "100%|██████████| 589/589 [00:00<00:00, 1650.37it/s]\n",
      "100%|██████████| 589/589 [00:00<00:00, 3958.70it/s]\n",
      "100%|██████████| 589/589 [00:00<00:00, 778.09it/s] \n",
      "100%|██████████| 589/589 [00:02<00:00, 278.93it/s]\n",
      "100%|██████████| 589/589 [00:00<00:00, 20037.35it/s]\n",
      "100%|██████████| 589/589 [00:00<00:00, 4031.43it/s]\n",
      "100%|██████████| 589/589 [00:00<00:00, 3544.58it/s]\n"
     ]
    },
    {
     "name": "stdout",
     "output_type": "stream",
     "text": [
      "Traceback (most recent call last):\n",
      "  File \"/Users/lisa/Documents/GitHub/Spatio-Temporal-Graphs/src/anomaly_detection.py\", line 28, in detect_anomalies\n",
      "    s.initialize(verbose=False) \t\t# initialization step\n",
      "  File \"/Users/lisa/Documents/GitHub/Spatio-Temporal-Graphs/src/spot.py\", line 199, in initialize\n",
      "    g,s,l = self._grimshaw()\n",
      "  File \"/Users/lisa/Documents/GitHub/Spatio-Temporal-Graphs/src/spot.py\", line 345, in _grimshaw\n",
      "    right_zeros = SPOT._rootsFinder(lambda t: w(self.peaks,t),\n",
      "  File \"/Users/lisa/Documents/GitHub/Spatio-Temporal-Graphs/src/spot.py\", line 238, in _rootsFinder\n",
      "    X0 = np.arange(bounds[0]+step,bounds[1],step)\n",
      "ValueError: arange: cannot compute length\n",
      "\n"
     ]
    },
    {
     "name": "stderr",
     "output_type": "stream",
     "text": [
      "/Users/lisa/Documents/GitHub/Spatio-Temporal-Graphs/src/spot.py:238: RuntimeWarning: invalid value encountered in double_scalars\n",
      "  X0 = np.arange(bounds[0]+step,bounds[1],step)\n"
     ]
    }
   ],
   "source": [
    "detect_anomalies(full_data, graph, ['2/17/2022', '3/2/2022'], ['10/14/2021', '10/19/2021', '10/20/2021'])"
   ]
  },
  {
   "cell_type": "code",
   "execution_count": 6,
   "metadata": {},
   "outputs": [],
   "source": [
    "remove_edges = [e for e in graph.edges(data=True) if e[2].get('causal')!='true']\n",
    "graph.remove_edges_from(remove_edges)\n"
   ]
  },
  {
   "cell_type": "code",
   "execution_count": 7,
   "metadata": {},
   "outputs": [],
   "source": [
    "frontend_node = [n for n in graph.nodes.data() if n[1][\"id\"] == \"front-end\"][0]"
   ]
  },
  {
   "cell_type": "markdown",
   "metadata": {},
   "source": [
    "### Sample subgraph with dfs/bfs tree combination"
   ]
  },
  {
   "cell_type": "code",
   "execution_count": 8,
   "metadata": {},
   "outputs": [
    {
     "data": {
      "image/png": "[encoded data removed]",
      "text/plain": [
       "<Figure size 432x288 with 1 Axes>"
      ]
     },
     "metadata": {},
     "output_type": "display_data"
    }
   ],
   "source": [
    "MAXLAG = 2\n",
    "DATETIME_FORMAT = \"%m/%d/%Y %H:%M\"\n",
    "\n",
    "tg= sample_subgraph_with_timestamp_constraint(graph, frontend_node[0], bfs_prob=0.5, random_seed=111, start_timestamp='3/2/2022 13:22', datetime_format=DATETIME_FORMAT, maxlag=MAXLAG)\n",
    "nx.draw(tg, with_labels=True)"
   ]
  },
  {
   "cell_type": "code",
   "execution_count": 9,
   "metadata": {},
   "outputs": [
    {
     "name": "stderr",
     "output_type": "stream",
     "text": [
      "100%|██████████| 50000/50000 [03:01<00:00, 274.80it/s]\n"
     ]
    }
   ],
   "source": [
    "np.random.seed(111)\n",
    "subgraphs = []\n",
    "for seed in tqdm(np.random.choice(10000000, 50000)):\n",
    "    #bfs_bias = np.random.uniform(0,1)\n",
    "    for bfs_prob in [0.1, 0.5, 0.9]:\n",
    "        subgraph = sample_subgraph(graph, frontend_node[0], max_nodes=6, bfs_prob=bfs_prob, random_seed=seed)\n",
    "        if subgraphs:\n",
    "            if not np.any([nx.is_isomorphic(subgraph, s) for s in subgraphs]):\n",
    "                subgraphs.append(subgraph)\n",
    "        else:\n",
    "            subgraphs.append(subgraph)\n",
    "#nx.draw(subgraph, with_labels=True)"
   ]
  },
  {
   "cell_type": "code",
   "execution_count": 10,
   "metadata": {},
   "outputs": [
    {
     "data": {
      "text/plain": [
       "[<networkx.classes.digraph.DiGraph at 0x7fc3e62ff220>,\n",
       " <networkx.classes.digraph.DiGraph at 0x7fc3e62ff850>,\n",
       " <networkx.classes.digraph.DiGraph at 0x7fc3e62ffeb0>,\n",
       " <networkx.classes.digraph.DiGraph at 0x7fc3ebc938e0>,\n",
       " <networkx.classes.digraph.DiGraph at 0x7fc3ebcaf8e0>,\n",
       " <networkx.classes.digraph.DiGraph at 0x7fc3ebcaf940>,\n",
       " <networkx.classes.digraph.DiGraph at 0x7fc3ebcaf910>,\n",
       " <networkx.classes.digraph.DiGraph at 0x7fc3ebcc57f0>]"
      ]
     },
     "execution_count": 10,
     "metadata": {},
     "output_type": "execute_result"
    }
   ],
   "source": [
    "subgraphs"
   ]
  },
  {
   "cell_type": "code",
   "execution_count": 11,
   "metadata": {},
   "outputs": [],
   "source": [
    "np.save('apg_unique_subgraphs_static.npy', correlation.encode_graphs(subgraphs))"
   ]
  },
  {
   "cell_type": "code",
   "execution_count": 62,
   "metadata": {},
   "outputs": [
    {
     "data": {
      "image/png": "[encoded data removed]",
      "text/plain": [
       "<Figure size 576x2160 with 8 Axes>"
      ]
     },
     "metadata": {},
     "output_type": "display_data"
    }
   ],
   "source": [
    "import matplotlib.pyplot as plt\n",
    "fig, axes = plt.subplots(len(subgraphs), 1, figsize=(8,30))\n",
    "for i, subgraph in enumerate(subgraphs):\n",
    "    nx.draw(subgraph, ax=axes[i], with_labels=True)"
   ]
  },
  {
   "cell_type": "code",
   "execution_count": 17,
   "metadata": {},
   "outputs": [
    {
     "name": "stderr",
     "output_type": "stream",
     "text": [
      "100%|██████████| 50000/50000 [11:10<00:00, 74.59it/s] \n"
     ]
    }
   ],
   "source": [
    "subgraphs = []\n",
    "em = iso.numerical_edge_match(\"timestep\", 0)\n",
    "for seed in tqdm(np.random.choice(10000000, 50000)):\n",
    "    #bfs_bias = np.random.uniform(0,1)\n",
    "    for bfs_prob in [0.1, 0.5, 0.9]:\n",
    "        subgraph = sample_subgraph(graph, frontend_node[0], max_nodes=6, bfs_prob=bfs_prob, random_seed=seed)\n",
    "        add_timesteps_to_graph(subgraph, frontend_node[0], random_seed=seed)\n",
    "        if subgraphs:\n",
    "            if not np.any([nx.is_isomorphic(subgraph, s, edge_match=em) for s in subgraphs]):\n",
    "                subgraphs.append(subgraph)\n",
    "        else:\n",
    "            subgraphs.append(subgraph)"
   ]
  },
  {
   "cell_type": "code",
   "execution_count": 41,
   "metadata": {},
   "outputs": [
    {
     "data": {
      "text/plain": [
       "[<networkx.classes.digraph.DiGraph at 0x7fc3e62ff400>,\n",
       " <networkx.classes.digraph.DiGraph at 0x7fc3ebdc7370>,\n",
       " <networkx.classes.digraph.DiGraph at 0x7fc3e6316610>,\n",
       " <networkx.classes.digraph.DiGraph at 0x7fc3ebcdd7c0>,\n",
       " <networkx.classes.digraph.DiGraph at 0x7fc3ebcaf610>,\n",
       " <networkx.classes.digraph.DiGraph at 0x7fc3ebcaf3d0>,\n",
       " <networkx.classes.digraph.DiGraph at 0x7fc3ebcafd30>,\n",
       " <networkx.classes.digraph.DiGraph at 0x7fc3ebcaf580>,\n",
       " <networkx.classes.digraph.DiGraph at 0x7fc3ebc931f0>,\n",
       " <networkx.classes.digraph.DiGraph at 0x7fc3ebcafcd0>,\n",
       " <networkx.classes.digraph.DiGraph at 0x7fc3e63ee520>,\n",
       " <networkx.classes.digraph.DiGraph at 0x7fc3ebd87fd0>,\n",
       " <networkx.classes.digraph.DiGraph at 0x7fc3ebc93580>,\n",
       " <networkx.classes.digraph.DiGraph at 0x7fc3ebcdd760>,\n",
       " <networkx.classes.digraph.DiGraph at 0x7fc3ebc93d60>,\n",
       " <networkx.classes.digraph.DiGraph at 0x7fc3ebcafd90>,\n",
       " <networkx.classes.digraph.DiGraph at 0x7fc3ebcdddf0>,\n",
       " <networkx.classes.digraph.DiGraph at 0x7fc3ebc93400>,\n",
       " <networkx.classes.digraph.DiGraph at 0x7fc3ebcafc10>,\n",
       " <networkx.classes.digraph.DiGraph at 0x7fc3e631e3a0>,\n",
       " <networkx.classes.digraph.DiGraph at 0x7fc3ebda4a90>,\n",
       " <networkx.classes.digraph.DiGraph at 0x7fc3ebcaf5e0>,\n",
       " <networkx.classes.digraph.DiGraph at 0x7fc3ebcafac0>,\n",
       " <networkx.classes.digraph.DiGraph at 0x7fc3e63052b0>,\n",
       " <networkx.classes.digraph.DiGraph at 0x7fc3ebc938b0>,\n",
       " <networkx.classes.digraph.DiGraph at 0x7fc3ebcaf5b0>,\n",
       " <networkx.classes.digraph.DiGraph at 0x7fc3ebd870d0>,\n",
       " <networkx.classes.digraph.DiGraph at 0x7fc3ebcafa00>,\n",
       " <networkx.classes.digraph.DiGraph at 0x7fc3e63eed30>,\n",
       " <networkx.classes.digraph.DiGraph at 0x7fc3ebe7cdc0>]"
      ]
     },
     "execution_count": 41,
     "metadata": {},
     "output_type": "execute_result"
    }
   ],
   "source": [
    "subgraphs"
   ]
  },
  {
   "cell_type": "code",
   "execution_count": 43,
   "metadata": {},
   "outputs": [],
   "source": [
    "np.save('apg_unique_subgraphs_temporal.npy', correlation.encode_temporal_graphs(subgraphs))"
   ]
  },
  {
   "cell_type": "code",
   "execution_count": 47,
   "metadata": {},
   "outputs": [],
   "source": [
    "read_apg = correlation.decode_temporal_graphs(np.load('apg_unique_subgraphs_temporal.npy'))"
   ]
  },
  {
   "cell_type": "code",
   "execution_count": 56,
   "metadata": {},
   "outputs": [
    {
     "data": {
      "text/plain": [
       "{(13, 2): Text(-0.17034994149457766, -0.20308064091382372, '1'),\n",
       " (13, 5): Text(0.2423642713468261, 0.37651511004615545, '3'),\n",
       " (13, 6): Text(0.2907236445191546, -0.5155884247756041, '0'),\n",
       " (2, 9): Text(-0.5566246648994092, -0.4074869263518304, '2'),\n",
       " (5, 14): Text(0.26590102038025454, 0.9230753511274346, '4')}"
      ]
     },
     "execution_count": 56,
     "metadata": {},
     "output_type": "execute_result"
    },
    {
     "data": {
      "image/png": "[encoded data removed]",
      "text/plain": [
       "<Figure size 432x288 with 1 Axes>"
      ]
     },
     "metadata": {},
     "output_type": "display_data"
    }
   ],
   "source": [
    "nx.draw(read_apg[15], nx.spring_layout(read_apg[15], seed=7), with_labels=True)\n",
    "edge_labels = nx.get_edge_attributes(read_apg[15], \"timestep\")\n",
    "nx.draw_networkx_edge_labels(read_apg[15], nx.spring_layout(read_apg[15], seed=7), edge_labels)"
   ]
  },
  {
   "cell_type": "code",
   "execution_count": 57,
   "metadata": {},
   "outputs": [
    {
     "data": {
      "text/plain": [
       "{(13, 2): Text(-0.17034994149457766, -0.20308064091382372, '1'),\n",
       " (13, 5): Text(0.2423642713468261, 0.37651511004615545, '3'),\n",
       " (13, 6): Text(0.2907236445191546, -0.5155884247756041, '0'),\n",
       " (2, 9): Text(-0.5566246648994092, -0.4074869263518304, '2'),\n",
       " (5, 14): Text(0.26590102038025454, 0.9230753511274346, '4')}"
      ]
     },
     "execution_count": 57,
     "metadata": {},
     "output_type": "execute_result"
    },
    {
     "data": {
      "image/png": "[encoded data removed]",
      "text/plain": [
       "<Figure size 432x288 with 1 Axes>"
      ]
     },
     "metadata": {},
     "output_type": "display_data"
    }
   ],
   "source": [
    "nx.draw(subgraphs[15], nx.spring_layout(subgraphs[15], seed=7), with_labels=True)\n",
    "edge_labels = nx.get_edge_attributes(subgraphs[15], \"timestep\")\n",
    "nx.draw_networkx_edge_labels(subgraphs[15], nx.spring_layout(subgraphs[15], seed=7), edge_labels)"
   ]
  },
  {
   "cell_type": "code",
   "execution_count": 19,
   "metadata": {},
   "outputs": [
    {
     "data": {
      "text/plain": [
       "{(13, 2): Text(-0.08277929173787942, 0.0954409040775308, '2'),\n",
       " (13, 5): Text(0.5616704821946441, -0.10523982900993561, '1'),\n",
       " (13, 6): Text(0.024099151517029342, -0.5844970356444581, '0'),\n",
       " (2, 1): Text(-0.6677576013411897, 0.10444199492687452, '4'),\n",
       " (2, 9): Text(-0.0007913241083633282, 0.6807357738050501, '3')}"
      ]
     },
     "execution_count": 19,
     "metadata": {},
     "output_type": "execute_result"
    },
    {
     "data": {
      "image/png": "[encoded data removed]",
      "text/plain": [
       "<Figure size 432x288 with 1 Axes>"
      ]
     },
     "metadata": {},
     "output_type": "display_data"
    }
   ],
   "source": [
    "nx.draw(subgraph, nx.spring_layout(subgraph, seed=7), with_labels=True)\n",
    "edge_labels = nx.get_edge_attributes(subgraph, \"timestep\")\n",
    "nx.draw_networkx_edge_labels(subgraph, nx.spring_layout(subgraph, seed=7), edge_labels)\n",
    "#plt.tight_layout()\n"
   ]
  },
  {
   "cell_type": "code",
   "execution_count": 61,
   "metadata": {},
   "outputs": [
    {
     "name": "stderr",
     "output_type": "stream",
     "text": [
      "100%|██████████| 5000/5000 [25:08<00:00,  3.31it/s]\n"
     ]
    }
   ],
   "source": [
    "tn_subgraphs = []\n",
    "em = iso.numerical_edge_match(\"timestep\", 0)\n",
    "for seed in tqdm(np.random.choice(10000000, 5000)):\n",
    "    max_nodes_no = np.random.choice(range(2,6))\n",
    "    for bfs_prob in [0.1, 0.5, 0.9]:\n",
    "        tn_subgraph = sample_subgraph(graph, frontend_node[0], max_nodes=max_nodes_no, bfs_prob=bfs_prob, random_seed=seed)\n",
    "        add_timesteps_to_graph(tn_subgraph, frontend_node[0], random_seed=seed)\n",
    "        if tn_subgraphs:\n",
    "            if not np.any([nx.is_isomorphic(tn_subgraph, s, edge_match=em) for s in tn_subgraphs]):\n",
    "                tn_subgraphs.append(subgraph)\n",
    "        else:\n",
    "            tn_subgraphs.append(subgraph)"
   ]
  },
  {
   "cell_type": "code",
   "execution_count": 62,
   "metadata": {},
   "outputs": [],
   "source": [
    "np.save('apg_unique_subgraphs_temporal_node2-6.npy', correlation.encode_temporal_graphs(tn_subgraphs))"
   ]
  },
  {
   "cell_type": "code",
   "execution_count": 64,
   "metadata": {},
   "outputs": [
    {
     "data": {
      "text/plain": [
       "15000"
      ]
     },
     "execution_count": 64,
     "metadata": {},
     "output_type": "execute_result"
    }
   ],
   "source": [
    "len(tn_subgraphs)"
   ]
  },
  {
   "cell_type": "code",
   "execution_count": 69,
   "metadata": {},
   "outputs": [
    {
     "data": {
      "image/png": "[encoded data removed]",
      "text/plain": [
       "<Figure size 432x288 with 1 Axes>"
      ]
     },
     "metadata": {},
     "output_type": "display_data"
    }
   ],
   "source": [
    "nx.draw(tn_subgraphs[10000], with_labels=True)"
   ]
  },
  {
   "cell_type": "markdown",
   "metadata": {},
   "source": [
    "### Test temporal centralities"
   ]
  },
  {
   "cell_type": "code",
   "execution_count": 12,
   "metadata": {},
   "outputs": [
    {
     "data": {
      "text/html": [
       "<div>\n",
       "<style scoped>\n",
       "    .dataframe tbody tr th:only-of-type {\n",
       "        vertical-align: middle;\n",
       "    }\n",
       "\n",
       "    .dataframe tbody tr th {\n",
       "        vertical-align: top;\n",
       "    }\n",
       "\n",
       "    .dataframe thead th {\n",
       "        text-align: right;\n",
       "    }\n",
       "</style>\n",
       "<table border=\"1\" class=\"dataframe\">\n",
       "  <thead>\n",
       "    <tr style=\"text-align: right;\">\n",
       "      <th></th>\n",
       "      <th>i</th>\n",
       "      <th>j</th>\n",
       "      <th>t</th>\n",
       "    </tr>\n",
       "  </thead>\n",
       "  <tbody>\n",
       "    <tr>\n",
       "      <th>0</th>\n",
       "      <td>13</td>\n",
       "      <td>2</td>\n",
       "      <td>3</td>\n",
       "    </tr>\n",
       "    <tr>\n",
       "      <th>1</th>\n",
       "      <td>13</td>\n",
       "      <td>5</td>\n",
       "      <td>0</td>\n",
       "    </tr>\n",
       "    <tr>\n",
       "      <th>2</th>\n",
       "      <td>13</td>\n",
       "      <td>6</td>\n",
       "      <td>2</td>\n",
       "    </tr>\n",
       "    <tr>\n",
       "      <th>3</th>\n",
       "      <td>2</td>\n",
       "      <td>1</td>\n",
       "      <td>4</td>\n",
       "    </tr>\n",
       "    <tr>\n",
       "      <th>4</th>\n",
       "      <td>5</td>\n",
       "      <td>14</td>\n",
       "      <td>1</td>\n",
       "    </tr>\n",
       "  </tbody>\n",
       "</table>\n",
       "</div>"
      ],
      "text/plain": [
       "    i   j  t\n",
       "0  13   2  3\n",
       "1  13   5  0\n",
       "2  13   6  2\n",
       "3   2   1  4\n",
       "4   5  14  1"
      ]
     },
     "execution_count": 12,
     "metadata": {},
     "output_type": "execute_result"
    }
   ],
   "source": [
    "edge_df = nx.to_pandas_edgelist(subgraph)\n",
    "edge_df.columns = ['i','j','t']\n",
    "edge_df = edge_df.replace(to_replace=r'^n', value='', regex=True)\n",
    "edge_df = edge_df.apply(pd.to_numeric)\n",
    "edge_df"
   ]
  },
  {
   "cell_type": "code",
   "execution_count": 13,
   "metadata": {},
   "outputs": [],
   "source": [
    "add_edges = []\n",
    "max_time = np.max(edge_df['t'])\n",
    "for i in edge_df.index:\n",
    "    row = edge_df.iloc[i]\n",
    "    times_to_add = np.arange(row[\"t\"], max_time+1)\n",
    "    for t_to_add in times_to_add:\n",
    "        add_edges.append([row[\"i\"], row[\"j\"], t_to_add])"
   ]
  },
  {
   "cell_type": "code",
   "execution_count": 14,
   "metadata": {},
   "outputs": [
    {
     "data": {
      "text/html": [
       "<div>\n",
       "<style scoped>\n",
       "    .dataframe tbody tr th:only-of-type {\n",
       "        vertical-align: middle;\n",
       "    }\n",
       "\n",
       "    .dataframe tbody tr th {\n",
       "        vertical-align: top;\n",
       "    }\n",
       "\n",
       "    .dataframe thead th {\n",
       "        text-align: right;\n",
       "    }\n",
       "</style>\n",
       "<table border=\"1\" class=\"dataframe\">\n",
       "  <thead>\n",
       "    <tr style=\"text-align: right;\">\n",
       "      <th></th>\n",
       "      <th>i</th>\n",
       "      <th>j</th>\n",
       "      <th>t</th>\n",
       "    </tr>\n",
       "  </thead>\n",
       "  <tbody>\n",
       "    <tr>\n",
       "      <th>0</th>\n",
       "      <td>13</td>\n",
       "      <td>2</td>\n",
       "      <td>3</td>\n",
       "    </tr>\n",
       "    <tr>\n",
       "      <th>1</th>\n",
       "      <td>13</td>\n",
       "      <td>2</td>\n",
       "      <td>4</td>\n",
       "    </tr>\n",
       "    <tr>\n",
       "      <th>2</th>\n",
       "      <td>13</td>\n",
       "      <td>5</td>\n",
       "      <td>0</td>\n",
       "    </tr>\n",
       "    <tr>\n",
       "      <th>3</th>\n",
       "      <td>13</td>\n",
       "      <td>5</td>\n",
       "      <td>1</td>\n",
       "    </tr>\n",
       "    <tr>\n",
       "      <th>4</th>\n",
       "      <td>13</td>\n",
       "      <td>5</td>\n",
       "      <td>2</td>\n",
       "    </tr>\n",
       "    <tr>\n",
       "      <th>5</th>\n",
       "      <td>13</td>\n",
       "      <td>5</td>\n",
       "      <td>3</td>\n",
       "    </tr>\n",
       "    <tr>\n",
       "      <th>6</th>\n",
       "      <td>13</td>\n",
       "      <td>5</td>\n",
       "      <td>4</td>\n",
       "    </tr>\n",
       "    <tr>\n",
       "      <th>7</th>\n",
       "      <td>13</td>\n",
       "      <td>6</td>\n",
       "      <td>2</td>\n",
       "    </tr>\n",
       "    <tr>\n",
       "      <th>8</th>\n",
       "      <td>13</td>\n",
       "      <td>6</td>\n",
       "      <td>3</td>\n",
       "    </tr>\n",
       "    <tr>\n",
       "      <th>9</th>\n",
       "      <td>13</td>\n",
       "      <td>6</td>\n",
       "      <td>4</td>\n",
       "    </tr>\n",
       "    <tr>\n",
       "      <th>10</th>\n",
       "      <td>2</td>\n",
       "      <td>1</td>\n",
       "      <td>4</td>\n",
       "    </tr>\n",
       "    <tr>\n",
       "      <th>11</th>\n",
       "      <td>5</td>\n",
       "      <td>14</td>\n",
       "      <td>1</td>\n",
       "    </tr>\n",
       "    <tr>\n",
       "      <th>12</th>\n",
       "      <td>5</td>\n",
       "      <td>14</td>\n",
       "      <td>2</td>\n",
       "    </tr>\n",
       "    <tr>\n",
       "      <th>13</th>\n",
       "      <td>5</td>\n",
       "      <td>14</td>\n",
       "      <td>3</td>\n",
       "    </tr>\n",
       "    <tr>\n",
       "      <th>14</th>\n",
       "      <td>5</td>\n",
       "      <td>14</td>\n",
       "      <td>4</td>\n",
       "    </tr>\n",
       "  </tbody>\n",
       "</table>\n",
       "</div>"
      ],
      "text/plain": [
       "     i   j  t\n",
       "0   13   2  3\n",
       "1   13   2  4\n",
       "2   13   5  0\n",
       "3   13   5  1\n",
       "4   13   5  2\n",
       "5   13   5  3\n",
       "6   13   5  4\n",
       "7   13   6  2\n",
       "8   13   6  3\n",
       "9   13   6  4\n",
       "10   2   1  4\n",
       "11   5  14  1\n",
       "12   5  14  2\n",
       "13   5  14  3\n",
       "14   5  14  4"
      ]
     },
     "execution_count": 14,
     "metadata": {},
     "output_type": "execute_result"
    }
   ],
   "source": [
    "fill_edges = pd.DataFrame(add_edges, columns=edge_df.columns)\n",
    "fill_edges"
   ]
  },
  {
   "cell_type": "code",
   "execution_count": 14,
   "metadata": {},
   "outputs": [],
   "source": [
    "#%pip install teneto"
   ]
  },
  {
   "cell_type": "code",
   "execution_count": null,
   "metadata": {},
   "outputs": [],
   "source": [
    "from teneto import TemporalNetwork\n",
    "import teneto\n",
    "tnet = TemporalNetwork(from_df=fill_edges)"
   ]
  },
  {
   "cell_type": "code",
   "execution_count": 16,
   "metadata": {},
   "outputs": [
    {
     "data": {
      "text/html": [
       "<div>\n",
       "<style scoped>\n",
       "    .dataframe tbody tr th:only-of-type {\n",
       "        vertical-align: middle;\n",
       "    }\n",
       "\n",
       "    .dataframe tbody tr th {\n",
       "        vertical-align: top;\n",
       "    }\n",
       "\n",
       "    .dataframe thead th {\n",
       "        text-align: right;\n",
       "    }\n",
       "</style>\n",
       "<table border=\"1\" class=\"dataframe\">\n",
       "  <thead>\n",
       "    <tr style=\"text-align: right;\">\n",
       "      <th></th>\n",
       "      <th>i</th>\n",
       "      <th>j</th>\n",
       "      <th>t</th>\n",
       "    </tr>\n",
       "  </thead>\n",
       "  <tbody>\n",
       "    <tr>\n",
       "      <th>0</th>\n",
       "      <td>13</td>\n",
       "      <td>2</td>\n",
       "      <td>3</td>\n",
       "    </tr>\n",
       "    <tr>\n",
       "      <th>1</th>\n",
       "      <td>13</td>\n",
       "      <td>2</td>\n",
       "      <td>4</td>\n",
       "    </tr>\n",
       "    <tr>\n",
       "      <th>2</th>\n",
       "      <td>13</td>\n",
       "      <td>5</td>\n",
       "      <td>0</td>\n",
       "    </tr>\n",
       "    <tr>\n",
       "      <th>3</th>\n",
       "      <td>13</td>\n",
       "      <td>5</td>\n",
       "      <td>1</td>\n",
       "    </tr>\n",
       "    <tr>\n",
       "      <th>4</th>\n",
       "      <td>13</td>\n",
       "      <td>5</td>\n",
       "      <td>2</td>\n",
       "    </tr>\n",
       "    <tr>\n",
       "      <th>5</th>\n",
       "      <td>13</td>\n",
       "      <td>5</td>\n",
       "      <td>3</td>\n",
       "    </tr>\n",
       "    <tr>\n",
       "      <th>6</th>\n",
       "      <td>13</td>\n",
       "      <td>5</td>\n",
       "      <td>4</td>\n",
       "    </tr>\n",
       "    <tr>\n",
       "      <th>7</th>\n",
       "      <td>13</td>\n",
       "      <td>6</td>\n",
       "      <td>2</td>\n",
       "    </tr>\n",
       "    <tr>\n",
       "      <th>8</th>\n",
       "      <td>13</td>\n",
       "      <td>6</td>\n",
       "      <td>3</td>\n",
       "    </tr>\n",
       "    <tr>\n",
       "      <th>9</th>\n",
       "      <td>13</td>\n",
       "      <td>6</td>\n",
       "      <td>4</td>\n",
       "    </tr>\n",
       "    <tr>\n",
       "      <th>10</th>\n",
       "      <td>2</td>\n",
       "      <td>1</td>\n",
       "      <td>4</td>\n",
       "    </tr>\n",
       "    <tr>\n",
       "      <th>11</th>\n",
       "      <td>5</td>\n",
       "      <td>14</td>\n",
       "      <td>1</td>\n",
       "    </tr>\n",
       "    <tr>\n",
       "      <th>12</th>\n",
       "      <td>5</td>\n",
       "      <td>14</td>\n",
       "      <td>2</td>\n",
       "    </tr>\n",
       "    <tr>\n",
       "      <th>13</th>\n",
       "      <td>5</td>\n",
       "      <td>14</td>\n",
       "      <td>3</td>\n",
       "    </tr>\n",
       "    <tr>\n",
       "      <th>14</th>\n",
       "      <td>5</td>\n",
       "      <td>14</td>\n",
       "      <td>4</td>\n",
       "    </tr>\n",
       "  </tbody>\n",
       "</table>\n",
       "</div>"
      ],
      "text/plain": [
       "     i   j  t\n",
       "0   13   2  3\n",
       "1   13   2  4\n",
       "2   13   5  0\n",
       "3   13   5  1\n",
       "4   13   5  2\n",
       "5   13   5  3\n",
       "6   13   5  4\n",
       "7   13   6  2\n",
       "8   13   6  3\n",
       "9   13   6  4\n",
       "10   2   1  4\n",
       "11   5  14  1\n",
       "12   5  14  2\n",
       "13   5  14  3\n",
       "14   5  14  4"
      ]
     },
     "execution_count": 16,
     "metadata": {},
     "output_type": "execute_result"
    }
   ],
   "source": [
    "tnet.network"
   ]
  },
  {
   "cell_type": "code",
   "execution_count": 17,
   "metadata": {},
   "outputs": [
    {
     "name": "stderr",
     "output_type": "stream",
     "text": [
      "/Users/lisa/opt/anaconda3/envs/graphs_ml/lib/python3.9/site-packages/teneto/networkmeasures/temporal_closeness_centrality.py:76: RuntimeWarning: Mean of empty slice\n",
      "  closeness = np.nansum(1 / np.nanmean(pathmat, axis=2),\n"
     ]
    }
   ],
   "source": [
    "closeness_centrality =  teneto.networkmeasures.temporal_closeness_centrality(tnet=tnet)"
   ]
  },
  {
   "cell_type": "code",
   "execution_count": 20,
   "metadata": {},
   "outputs": [
    {
     "data": {
      "text/html": [
       "<div>\n",
       "<style scoped>\n",
       "    .dataframe tbody tr th:only-of-type {\n",
       "        vertical-align: middle;\n",
       "    }\n",
       "\n",
       "    .dataframe tbody tr th {\n",
       "        vertical-align: top;\n",
       "    }\n",
       "\n",
       "    .dataframe thead th {\n",
       "        text-align: right;\n",
       "    }\n",
       "</style>\n",
       "<table border=\"1\" class=\"dataframe\">\n",
       "  <thead>\n",
       "    <tr style=\"text-align: right;\">\n",
       "      <th></th>\n",
       "      <th>i</th>\n",
       "      <th>j</th>\n",
       "      <th>t</th>\n",
       "      <th>c</th>\n",
       "    </tr>\n",
       "  </thead>\n",
       "  <tbody>\n",
       "    <tr>\n",
       "      <th>0</th>\n",
       "      <td>13</td>\n",
       "      <td>2</td>\n",
       "      <td>3</td>\n",
       "      <td>0.000000</td>\n",
       "    </tr>\n",
       "    <tr>\n",
       "      <th>1</th>\n",
       "      <td>13</td>\n",
       "      <td>2</td>\n",
       "      <td>4</td>\n",
       "      <td>0.000000</td>\n",
       "    </tr>\n",
       "    <tr>\n",
       "      <th>2</th>\n",
       "      <td>13</td>\n",
       "      <td>5</td>\n",
       "      <td>0</td>\n",
       "      <td>0.023810</td>\n",
       "    </tr>\n",
       "    <tr>\n",
       "      <th>3</th>\n",
       "      <td>13</td>\n",
       "      <td>5</td>\n",
       "      <td>1</td>\n",
       "      <td>0.000000</td>\n",
       "    </tr>\n",
       "    <tr>\n",
       "      <th>4</th>\n",
       "      <td>13</td>\n",
       "      <td>5</td>\n",
       "      <td>2</td>\n",
       "      <td>0.000000</td>\n",
       "    </tr>\n",
       "    <tr>\n",
       "      <th>5</th>\n",
       "      <td>13</td>\n",
       "      <td>5</td>\n",
       "      <td>3</td>\n",
       "      <td>0.059524</td>\n",
       "    </tr>\n",
       "    <tr>\n",
       "      <th>6</th>\n",
       "      <td>13</td>\n",
       "      <td>5</td>\n",
       "      <td>4</td>\n",
       "      <td>0.000000</td>\n",
       "    </tr>\n",
       "    <tr>\n",
       "      <th>7</th>\n",
       "      <td>13</td>\n",
       "      <td>6</td>\n",
       "      <td>2</td>\n",
       "      <td>0.000000</td>\n",
       "    </tr>\n",
       "    <tr>\n",
       "      <th>8</th>\n",
       "      <td>13</td>\n",
       "      <td>6</td>\n",
       "      <td>3</td>\n",
       "      <td>0.000000</td>\n",
       "    </tr>\n",
       "    <tr>\n",
       "      <th>9</th>\n",
       "      <td>13</td>\n",
       "      <td>6</td>\n",
       "      <td>4</td>\n",
       "      <td>0.000000</td>\n",
       "    </tr>\n",
       "    <tr>\n",
       "      <th>10</th>\n",
       "      <td>2</td>\n",
       "      <td>1</td>\n",
       "      <td>4</td>\n",
       "      <td>0.000000</td>\n",
       "    </tr>\n",
       "    <tr>\n",
       "      <th>11</th>\n",
       "      <td>5</td>\n",
       "      <td>14</td>\n",
       "      <td>1</td>\n",
       "      <td>0.000000</td>\n",
       "    </tr>\n",
       "    <tr>\n",
       "      <th>12</th>\n",
       "      <td>5</td>\n",
       "      <td>14</td>\n",
       "      <td>2</td>\n",
       "      <td>0.000000</td>\n",
       "    </tr>\n",
       "    <tr>\n",
       "      <th>13</th>\n",
       "      <td>5</td>\n",
       "      <td>14</td>\n",
       "      <td>3</td>\n",
       "      <td>0.231872</td>\n",
       "    </tr>\n",
       "    <tr>\n",
       "      <th>14</th>\n",
       "      <td>5</td>\n",
       "      <td>14</td>\n",
       "      <td>4</td>\n",
       "      <td>0.000000</td>\n",
       "    </tr>\n",
       "  </tbody>\n",
       "</table>\n",
       "</div>"
      ],
      "text/plain": [
       "     i   j  t         c\n",
       "0   13   2  3  0.000000\n",
       "1   13   2  4  0.000000\n",
       "2   13   5  0  0.023810\n",
       "3   13   5  1  0.000000\n",
       "4   13   5  2  0.000000\n",
       "5   13   5  3  0.059524\n",
       "6   13   5  4  0.000000\n",
       "7   13   6  2  0.000000\n",
       "8   13   6  3  0.000000\n",
       "9   13   6  4  0.000000\n",
       "10   2   1  4  0.000000\n",
       "11   5  14  1  0.000000\n",
       "12   5  14  2  0.000000\n",
       "13   5  14  3  0.231872\n",
       "14   5  14  4  0.000000"
      ]
     },
     "execution_count": 20,
     "metadata": {},
     "output_type": "execute_result"
    }
   ],
   "source": [
    "temporal_closeness_vectors = []\n",
    "temporal_betweenness_vectors = []\n",
    "for s in subgraphs:\n",
    "   edge_list = get_complete_teneto_edgelist(s)\n",
    "   tnet = TemporalNetwork(from_df=edge_list)\n",
    "   closeness_centrality =  teneto.networkmeasures.temporal_closeness_centrality(tnet=tnet)\n",
    "   temporal_closeness_vectors.append(closeness_centrality)\n",
    "   betweenness_centrality = teneto.networkmeasures.temporal_betweenness_centrality(tnet=tnet)\n",
    "   temporal_betweenness_vectors.append(betweenness_centrality)"
   ]
  },
  {
   "cell_type": "code",
   "execution_count": 21,
   "metadata": {},
   "outputs": [],
   "source": [
    "existing_temporal_paths = teneto.networkmeasures.shortest_temporal_path(tnet, minimise='temporal_distance')\n",
    "existing_temporal_paths.dropna(how='all', subset=['path includes'])"
   ]
  },
  {
   "cell_type": "code",
   "execution_count": null,
   "metadata": {},
   "outputs": [],
   "source": [
    "#degree centrality\n",
    "pd.Series(teneto.networkmeasures.temporal_degree_centrality(tnet=tnet))"
   ]
  },
  {
   "cell_type": "code",
   "execution_count": 26,
   "metadata": {},
   "outputs": [],
   "source": [
    "betweenness_centrality =  teneto.networkmeasures.temporal_betweenness_centrality(tnet=tnet)\n",
    "betweenness_centrality"
   ]
  },
  {
   "cell_type": "markdown",
   "metadata": {},
   "source": [
    "### Check anomaly timestamps"
   ]
  },
  {
   "cell_type": "code",
   "execution_count": 23,
   "metadata": {},
   "outputs": [
    {
     "name": "stdout",
     "output_type": "stream",
     "text": [
      "['3/2/2022 11:50', '3/2/2022 13:22', '3/2/2022 15:47', '3/2/2022 17:48']\n"
     ]
    }
   ],
   "source": [
    "print(frontend_node[1][\"anomaly_timestamps\"])"
   ]
  },
  {
   "cell_type": "code",
   "execution_count": 24,
   "metadata": {},
   "outputs": [
    {
     "name": "stdout",
     "output_type": "stream",
     "text": [
      "[{'labels': ':Node', 'id': 'user-db'}, {'labels': ':Node', 'id': 'orders-db', 'anomaly': True, 'anomaly_timestamps': ['3/2/2022 12:13', '3/2/2022 13:22', '3/2/2022 13:23', '3/2/2022 17:39', '3/2/2022 19:41']}, {'labels': ':Node', 'id': 'carts-db', 'anomaly': True, 'anomaly_timestamps': ['3/2/2022 13:22', '3/2/2022 13:23']}]\n"
     ]
    }
   ],
   "source": [
    "print([graph.nodes[node] for node in list(graph.neighbors(frontend_node[0]))])"
   ]
  }
 ],
 "metadata": {
  "kernelspec": {
   "display_name": "Python 3.9.0 ('graphs_ml')",
   "language": "python",
   "name": "python3"
  },
  "language_info": {
   "codemirror_mode": {
    "name": "ipython",
    "version": 3
   },
   "file_extension": ".py",
   "mimetype": "text/x-python",
   "name": "python",
   "nbconvert_exporter": "python",
   "pygments_lexer": "ipython3",
   "version": "3.9.0"
  },
  "orig_nbformat": 4,
  "vscode": {
   "interpreter": {
    "hash": "d29e24484652cf81adbd39cba5ca18d14ce256afd8a74e36b8d095905f91e803"
   }
  }
 },
 "nbformat": 4,
 "nbformat_minor": 2
}
