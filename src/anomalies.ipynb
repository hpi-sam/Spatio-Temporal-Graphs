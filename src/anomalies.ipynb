{
 "cells": [
  {
   "cell_type": "markdown",
   "metadata": {},
   "source": [
    "# WP1 - Anomaly subgraph extraction: Finding anomalies"
   ]
  },
  {
   "cell_type": "code",
   "execution_count": 5,
   "metadata": {},
   "outputs": [],
   "source": [
    "import py2neo\n",
    "import pandas as pd\n",
    "import numpy as np\n",
    "from spot import bidSPOT, dSPOT,  SPOT"
   ]
  },
  {
   "cell_type": "code",
   "execution_count": 3,
   "metadata": {},
   "outputs": [],
   "source": [
    "# TODO: remove before upload\n",
    "graph = py2neo.Graph(\"bolt://192.168.1.185:7687\", auth=(\"neo4j\", \"\"))"
   ]
  },
  {
   "cell_type": "code",
   "execution_count": 20,
   "metadata": {},
   "outputs": [
    {
     "name": "stdout",
     "output_type": "stream",
     "text": [
      "Node names from data csv:  ['carts', 'carts-db', 'catalogue', 'catalogue-db', 'front-end', 'orders', 'orders-db', 'payment', 'queue-master', 'rabbitmq', 'session-db', 'shipping', 'user', 'user-db']\n",
      "Node names from graph:  ['carts', 'carts-db', 'catalogue', 'catalogue-db', 'front-end', 'master', 'orders', 'orders-db', 'payment', 'queue-master', 'rabbitmq', 'session-db', 'shipping', 'user', 'user-db', 'worker1', 'worker2']\n",
      "Nodes in graph but not in data csv:  ['master', 'worker1', 'worker2']\n",
      "Nodes in data csv but not in graph:  []\n"
     ]
    },
    {
     "name": "stderr",
     "output_type": "stream",
     "text": [
      "100%|██████████| 589/589 [00:01<00:00, 467.89it/s]\n"
     ]
    },
    {
     "name": "stdout",
     "output_type": "stream",
     "text": [
      "carts\n",
      "had an anomaly\n"
     ]
    },
    {
     "name": "stderr",
     "output_type": "stream",
     "text": [
      "100%|██████████| 589/589 [00:00<00:00, 657.27it/s]\n"
     ]
    },
    {
     "name": "stdout",
     "output_type": "stream",
     "text": [
      "carts-db\n",
      "had an anomaly\n"
     ]
    },
    {
     "name": "stderr",
     "output_type": "stream",
     "text": [
      "100%|██████████| 589/589 [00:00<00:00, 3809.99it/s]\n"
     ]
    },
    {
     "name": "stdout",
     "output_type": "stream",
     "text": [
      "catalogue\n"
     ]
    },
    {
     "name": "stderr",
     "output_type": "stream",
     "text": [
      "100%|██████████| 589/589 [00:00<00:00, 9842.96it/s]\n"
     ]
    },
    {
     "name": "stdout",
     "output_type": "stream",
     "text": [
      "catalogue-db\n",
      "had an anomaly\n"
     ]
    },
    {
     "name": "stderr",
     "output_type": "stream",
     "text": [
      "100%|██████████| 589/589 [00:00<00:00, 735.38it/s] \n"
     ]
    },
    {
     "name": "stdout",
     "output_type": "stream",
     "text": [
      "front-end\n",
      "had an anomaly\n"
     ]
    },
    {
     "name": "stderr",
     "output_type": "stream",
     "text": [
      "100%|██████████| 589/589 [00:00<00:00, 712.79it/s]\n"
     ]
    },
    {
     "name": "stdout",
     "output_type": "stream",
     "text": [
      "orders\n",
      "had an anomaly\n"
     ]
    },
    {
     "name": "stderr",
     "output_type": "stream",
     "text": [
      "100%|██████████| 589/589 [00:00<00:00, 916.25it/s] \n"
     ]
    },
    {
     "name": "stdout",
     "output_type": "stream",
     "text": [
      "orders-db\n",
      "had an anomaly\n"
     ]
    },
    {
     "name": "stderr",
     "output_type": "stream",
     "text": [
      "100%|██████████| 589/589 [00:00<00:00, 1736.98it/s]\n"
     ]
    },
    {
     "name": "stdout",
     "output_type": "stream",
     "text": [
      "payment\n",
      "had an anomaly\n"
     ]
    },
    {
     "name": "stderr",
     "output_type": "stream",
     "text": [
      "100%|██████████| 589/589 [00:01<00:00, 346.41it/s]\n"
     ]
    },
    {
     "name": "stdout",
     "output_type": "stream",
     "text": [
      "queue-master\n",
      "had an anomaly\n"
     ]
    },
    {
     "name": "stderr",
     "output_type": "stream",
     "text": [
      "100%|██████████| 589/589 [00:02<00:00, 224.30it/s]\n"
     ]
    },
    {
     "name": "stdout",
     "output_type": "stream",
     "text": [
      "rabbitmq\n",
      "had an anomaly\n"
     ]
    },
    {
     "name": "stderr",
     "output_type": "stream",
     "text": [
      "100%|██████████| 589/589 [00:00<00:00, 14226.58it/s]\n"
     ]
    },
    {
     "name": "stdout",
     "output_type": "stream",
     "text": [
      "session-db\n",
      "had an anomaly\n"
     ]
    },
    {
     "name": "stderr",
     "output_type": "stream",
     "text": [
      "100%|██████████| 589/589 [00:00<00:00, 2559.99it/s]\n"
     ]
    },
    {
     "name": "stdout",
     "output_type": "stream",
     "text": [
      "shipping\n",
      "had an anomaly\n"
     ]
    },
    {
     "name": "stderr",
     "output_type": "stream",
     "text": [
      "100%|██████████| 589/589 [00:00<00:00, 2343.58it/s]\n",
      "c:\\Users\\Andrea1\\Documents\\HPI\\MLGraphs\\Spatio-Temporal-Graphs\\src\\spot.py:238: RuntimeWarning: invalid value encountered in double_scalars\n",
      "  X0 = np.arange(bounds[0]+step,bounds[1],step)\n"
     ]
    },
    {
     "name": "stdout",
     "output_type": "stream",
     "text": [
      "user\n"
     ]
    },
    {
     "ename": "ValueError",
     "evalue": "arange: cannot compute length",
     "output_type": "error",
     "traceback": [
      "\u001b[1;31m---------------------------------------------------------------------------\u001b[0m",
      "\u001b[1;31mValueError\u001b[0m                                Traceback (most recent call last)",
      "\u001b[1;32mc:\\Users\\Andrea1\\Documents\\HPI\\MLGraphs\\Spatio-Temporal-Graphs\\src\\anomalies.ipynb Cell 4'\u001b[0m in \u001b[0;36m<cell line: 16>\u001b[1;34m()\u001b[0m\n\u001b[0;32m     <a href='vscode-notebook-cell:/c%3A/Users/Andrea1/Documents/HPI/MLGraphs/Spatio-Temporal-Graphs/src/anomalies.ipynb#ch0000005?line=20'>21</a>\u001b[0m s \u001b[39m=\u001b[39m SPOT(q)  \t\t\u001b[39m# SPOT object\u001b[39;00m\n\u001b[0;32m     <a href='vscode-notebook-cell:/c%3A/Users/Andrea1/Documents/HPI/MLGraphs/Spatio-Temporal-Graphs/src/anomalies.ipynb#ch0000005?line=21'>22</a>\u001b[0m s\u001b[39m.\u001b[39mfit(init_data,data) \t\u001b[39m# data import\u001b[39;00m\n\u001b[1;32m---> <a href='vscode-notebook-cell:/c%3A/Users/Andrea1/Documents/HPI/MLGraphs/Spatio-Temporal-Graphs/src/anomalies.ipynb#ch0000005?line=22'>23</a>\u001b[0m s\u001b[39m.\u001b[39;49minitialize(verbose\u001b[39m=\u001b[39;49m\u001b[39mFalse\u001b[39;49;00m) \t\t\u001b[39m# initialization step\u001b[39;00m\n\u001b[0;32m     <a href='vscode-notebook-cell:/c%3A/Users/Andrea1/Documents/HPI/MLGraphs/Spatio-Temporal-Graphs/src/anomalies.ipynb#ch0000005?line=23'>24</a>\u001b[0m results \u001b[39m=\u001b[39m s\u001b[39m.\u001b[39mrun() \t\u001b[39m# run\u001b[39;00m\n\u001b[0;32m     <a href='vscode-notebook-cell:/c%3A/Users/Andrea1/Documents/HPI/MLGraphs/Spatio-Temporal-Graphs/src/anomalies.ipynb#ch0000005?line=24'>25</a>\u001b[0m \u001b[39m#s.plot(results) \t# plot\u001b[39;00m\n",
      "File \u001b[1;32mc:\\Users\\Andrea1\\Documents\\HPI\\MLGraphs\\Spatio-Temporal-Graphs\\src\\spot.py:199\u001b[0m, in \u001b[0;36mSPOT.initialize\u001b[1;34m(self, level, verbose)\u001b[0m\n\u001b[0;32m    <a href='file:///c%3A/Users/Andrea1/Documents/HPI/MLGraphs/Spatio-Temporal-Graphs/src/spot.py?line=195'>196</a>\u001b[0m     \u001b[39mprint\u001b[39m(\u001b[39m'\u001b[39m\u001b[39mNumber of peaks : \u001b[39m\u001b[39m%s\u001b[39;00m\u001b[39m'\u001b[39m \u001b[39m%\u001b[39m \u001b[39mself\u001b[39m\u001b[39m.\u001b[39mNt)\n\u001b[0;32m    <a href='file:///c%3A/Users/Andrea1/Documents/HPI/MLGraphs/Spatio-Temporal-Graphs/src/spot.py?line=196'>197</a>\u001b[0m     \u001b[39mprint\u001b[39m(\u001b[39m'\u001b[39m\u001b[39mGrimshaw maximum log-likelihood estimation ... \u001b[39m\u001b[39m'\u001b[39m, end \u001b[39m=\u001b[39m \u001b[39m'\u001b[39m\u001b[39m'\u001b[39m)\n\u001b[1;32m--> <a href='file:///c%3A/Users/Andrea1/Documents/HPI/MLGraphs/Spatio-Temporal-Graphs/src/spot.py?line=198'>199</a>\u001b[0m g,s,l \u001b[39m=\u001b[39m \u001b[39mself\u001b[39;49m\u001b[39m.\u001b[39;49m_grimshaw()\n\u001b[0;32m    <a href='file:///c%3A/Users/Andrea1/Documents/HPI/MLGraphs/Spatio-Temporal-Graphs/src/spot.py?line=199'>200</a>\u001b[0m \u001b[39mself\u001b[39m\u001b[39m.\u001b[39mextreme_quantile \u001b[39m=\u001b[39m \u001b[39mself\u001b[39m\u001b[39m.\u001b[39m_quantile(g,s)\n\u001b[0;32m    <a href='file:///c%3A/Users/Andrea1/Documents/HPI/MLGraphs/Spatio-Temporal-Graphs/src/spot.py?line=201'>202</a>\u001b[0m \u001b[39mif\u001b[39;00m verbose:\n",
      "File \u001b[1;32mc:\\Users\\Andrea1\\Documents\\HPI\\MLGraphs\\Spatio-Temporal-Graphs\\src\\spot.py:345\u001b[0m, in \u001b[0;36mSPOT._grimshaw\u001b[1;34m(self, epsilon, n_points)\u001b[0m\n\u001b[0;32m    <a href='file:///c%3A/Users/Andrea1/Documents/HPI/MLGraphs/Spatio-Temporal-Graphs/src/spot.py?line=338'>339</a>\u001b[0m \u001b[39m# We look for possible roots\u001b[39;00m\n\u001b[0;32m    <a href='file:///c%3A/Users/Andrea1/Documents/HPI/MLGraphs/Spatio-Temporal-Graphs/src/spot.py?line=339'>340</a>\u001b[0m left_zeros \u001b[39m=\u001b[39m SPOT\u001b[39m.\u001b[39m_rootsFinder(\u001b[39mlambda\u001b[39;00m t: w(\u001b[39mself\u001b[39m\u001b[39m.\u001b[39mpeaks,t),\n\u001b[0;32m    <a href='file:///c%3A/Users/Andrea1/Documents/HPI/MLGraphs/Spatio-Temporal-Graphs/src/spot.py?line=340'>341</a>\u001b[0m                          \u001b[39mlambda\u001b[39;00m t: jac_w(\u001b[39mself\u001b[39m\u001b[39m.\u001b[39mpeaks,t),\n\u001b[0;32m    <a href='file:///c%3A/Users/Andrea1/Documents/HPI/MLGraphs/Spatio-Temporal-Graphs/src/spot.py?line=341'>342</a>\u001b[0m                          (a\u001b[39m+\u001b[39mepsilon,\u001b[39m-\u001b[39mepsilon),\n\u001b[0;32m    <a href='file:///c%3A/Users/Andrea1/Documents/HPI/MLGraphs/Spatio-Temporal-Graphs/src/spot.py?line=342'>343</a>\u001b[0m                          n_points,\u001b[39m'\u001b[39m\u001b[39mregular\u001b[39m\u001b[39m'\u001b[39m)\n\u001b[1;32m--> <a href='file:///c%3A/Users/Andrea1/Documents/HPI/MLGraphs/Spatio-Temporal-Graphs/src/spot.py?line=344'>345</a>\u001b[0m right_zeros \u001b[39m=\u001b[39m SPOT\u001b[39m.\u001b[39;49m_rootsFinder(\u001b[39mlambda\u001b[39;49;00m t: w(\u001b[39mself\u001b[39;49m\u001b[39m.\u001b[39;49mpeaks,t),\n\u001b[0;32m    <a href='file:///c%3A/Users/Andrea1/Documents/HPI/MLGraphs/Spatio-Temporal-Graphs/src/spot.py?line=345'>346</a>\u001b[0m                           \u001b[39mlambda\u001b[39;49;00m t: jac_w(\u001b[39mself\u001b[39;49m\u001b[39m.\u001b[39;49mpeaks,t),\n\u001b[0;32m    <a href='file:///c%3A/Users/Andrea1/Documents/HPI/MLGraphs/Spatio-Temporal-Graphs/src/spot.py?line=346'>347</a>\u001b[0m                           (b,c),\n\u001b[0;32m    <a href='file:///c%3A/Users/Andrea1/Documents/HPI/MLGraphs/Spatio-Temporal-Graphs/src/spot.py?line=347'>348</a>\u001b[0m                           n_points,\u001b[39m'\u001b[39;49m\u001b[39mregular\u001b[39;49m\u001b[39m'\u001b[39;49m)\n\u001b[0;32m    <a href='file:///c%3A/Users/Andrea1/Documents/HPI/MLGraphs/Spatio-Temporal-Graphs/src/spot.py?line=349'>350</a>\u001b[0m \u001b[39m# all the possible roots\u001b[39;00m\n\u001b[0;32m    <a href='file:///c%3A/Users/Andrea1/Documents/HPI/MLGraphs/Spatio-Temporal-Graphs/src/spot.py?line=350'>351</a>\u001b[0m zeros \u001b[39m=\u001b[39m np\u001b[39m.\u001b[39mconcatenate((left_zeros,right_zeros))\n",
      "File \u001b[1;32mc:\\Users\\Andrea1\\Documents\\HPI\\MLGraphs\\Spatio-Temporal-Graphs\\src\\spot.py:238\u001b[0m, in \u001b[0;36mSPOT._rootsFinder\u001b[1;34m(fun, jac, bounds, npoints, method)\u001b[0m\n\u001b[0;32m    <a href='file:///c%3A/Users/Andrea1/Documents/HPI/MLGraphs/Spatio-Temporal-Graphs/src/spot.py?line=235'>236</a>\u001b[0m \u001b[39mif\u001b[39;00m method \u001b[39m==\u001b[39m \u001b[39m'\u001b[39m\u001b[39mregular\u001b[39m\u001b[39m'\u001b[39m:\n\u001b[0;32m    <a href='file:///c%3A/Users/Andrea1/Documents/HPI/MLGraphs/Spatio-Temporal-Graphs/src/spot.py?line=236'>237</a>\u001b[0m     step \u001b[39m=\u001b[39m (bounds[\u001b[39m1\u001b[39m]\u001b[39m-\u001b[39mbounds[\u001b[39m0\u001b[39m])\u001b[39m/\u001b[39m(npoints\u001b[39m+\u001b[39m\u001b[39m1\u001b[39m)\n\u001b[1;32m--> <a href='file:///c%3A/Users/Andrea1/Documents/HPI/MLGraphs/Spatio-Temporal-Graphs/src/spot.py?line=237'>238</a>\u001b[0m     X0 \u001b[39m=\u001b[39m np\u001b[39m.\u001b[39;49marange(bounds[\u001b[39m0\u001b[39;49m]\u001b[39m+\u001b[39;49mstep,bounds[\u001b[39m1\u001b[39;49m],step)\n\u001b[0;32m    <a href='file:///c%3A/Users/Andrea1/Documents/HPI/MLGraphs/Spatio-Temporal-Graphs/src/spot.py?line=238'>239</a>\u001b[0m \u001b[39melif\u001b[39;00m method \u001b[39m==\u001b[39m \u001b[39m'\u001b[39m\u001b[39mrandom\u001b[39m\u001b[39m'\u001b[39m:\n\u001b[0;32m    <a href='file:///c%3A/Users/Andrea1/Documents/HPI/MLGraphs/Spatio-Temporal-Graphs/src/spot.py?line=239'>240</a>\u001b[0m     X0 \u001b[39m=\u001b[39m np\u001b[39m.\u001b[39mrandom\u001b[39m.\u001b[39muniform(bounds[\u001b[39m0\u001b[39m],bounds[\u001b[39m1\u001b[39m],npoints)\n",
      "\u001b[1;31mValueError\u001b[0m: arange: cannot compute length"
     ]
    }
   ],
   "source": [
    "full_data = pd.read_csv('../data/loadtest-Updated.csv').sort_values(by=['Time', 'Unnamed: 0'])\n",
    "\n",
    "# Prepare data\n",
    "u_data = (full_data['Time'] == '2/17/2022')| (full_data['Time'] == '3/2/2022')\n",
    "all_data = full_data[u_data]\n",
    "# initial batch\n",
    "u_init_data = (full_data['Time'] == '10/14/2021') | (full_data['Time'] == '10/20/2021')| (full_data['Time'] == '10/19/2021')\n",
    "all_init_data = full_data[u_init_data]\n",
    "\n",
    "csv_nodes = full_data.columns.drop(['Time', 'Unnamed: 0'])\n",
    "print(\"Node names from data csv: \", sorted(csv_nodes))\n",
    "graph_nodes = [node['id'] for node in graph.nodes.match().all()]\n",
    "print(\"Node names from graph: \", sorted(graph_nodes))\n",
    "print(\"Nodes in graph but not in data csv: \", sorted(set(graph_nodes) - set(csv_nodes)))\n",
    "print(\"Nodes in data csv but not in graph: \", sorted(set(csv_nodes) - set(graph_nodes)))\n",
    "for column_name in csv_nodes:\n",
    "    init_data = all_init_data[column_name].to_numpy()\n",
    "    data = all_data[column_name].to_numpy()\n",
    "\n",
    "    q = 1e-5  \t\t\t# risk parameter\n",
    "    s = SPOT(q)  \t\t# SPOT object\n",
    "    s.fit(init_data,data) \t# data import\n",
    "    s.initialize(verbose=False) \t\t# initialization step\n",
    "    results = s.run() \t# run\n",
    "    #s.plot(results) \t# plot\n",
    "    alarms = results[\"alarms\"]\n",
    "    print(column_name)\n",
    "    if len(alarms) > 0:\n",
    "        print(\"had an anomaly\")\n"
   ]
  },
  {
   "cell_type": "code",
   "execution_count": 15,
   "metadata": {},
   "outputs": [
    {
     "data": {
      "text/plain": [
       "['carts',\n",
       " 'user',\n",
       " 'user-db',\n",
       " 'catalogue',\n",
       " 'catalogue-db',\n",
       " 'orders-db',\n",
       " 'carts-db',\n",
       " 'queue-master',\n",
       " 'rabbitmq',\n",
       " 'session-db',\n",
       " 'master',\n",
       " 'worker1',\n",
       " 'worker2',\n",
       " 'front-end',\n",
       " 'orders',\n",
       " 'shipping',\n",
       " 'payment']"
      ]
     },
     "execution_count": 15,
     "metadata": {},
     "output_type": "execute_result"
    }
   ],
   "source": []
  },
  {
   "cell_type": "code",
   "execution_count": 9,
   "metadata": {},
   "outputs": [
    {
     "name": "stdout",
     "output_type": "stream",
     "text": [
      "Initial threshold : 0.0115\n",
      "Number of peaks : 4\n",
      "Grimshaw maximum log-likelihood estimation ... [done]\n",
      "\tγ = -0.29489623181763014\n",
      "\tσ = 0.0008983580938078887\n",
      "\tL = 25.23935213122546\n",
      "Extreme quantile (probability = 1e-05): 0.014211516462822898\n"
     ]
    },
    {
     "name": "stderr",
     "output_type": "stream",
     "text": [
      "100%|██████████| 589/589 [00:00<00:00, 784.54it/s] \n"
     ]
    },
    {
     "name": "stdout",
     "output_type": "stream",
     "text": [
      "had an anomaly\n"
     ]
    },
    {
     "data": {
      "image/png": "[encoded data removed]",
      "text/plain": [
       "<Figure size 432x288 with 1 Axes>"
      ]
     },
     "metadata": {
      "needs_background": "light"
     },
     "output_type": "display_data"
    }
   ],
   "source": [
    "f = '../data/loadtest-Updated.csv'\n",
    "P = pd.read_csv(f)\n",
    "# stream\n",
    "u_data = (P['Time'] == '2/17/2022')| (P['Time'] == '3/2/2022')\n",
    "data = P['orders-db'][u_data].values\n",
    "# initial batch\n",
    "u_init_data = (P['Time'] == '10/14/2021') | (P['Time'] == '10/20/2021')| (P['Time'] == '10/19/2021')\n",
    "init_data = P['orders-db'][u_init_data].values\n",
    "q = 1e-5  \t\t\t# risk parameter\n",
    "s = SPOT(q)  \t\t# SPOT object\n",
    "s.fit(init_data,data) \t# data import\n",
    "s.initialize() \t\t# initialization step\n",
    "results = s.run() \t# run\n",
    "s.plot(results) \t# plot\n",
    "alarms = results[\"alarms\"]\n",
    "if len(alarms) > 0:\n",
    "    print(\"had an anomaly\")\n"
   ]
  }
 ],
 "metadata": {
  "interpreter": {
   "hash": "f03307d1bb0471bbb711ed68faf0750467181c557f162581fcb4bba89eeec9c2"
  },
  "kernelspec": {
   "display_name": "Python 3.9.13 ('spatiotemporal')",
   "language": "python",
   "name": "python3"
  },
  "language_info": {
   "codemirror_mode": {
    "name": "ipython",
    "version": 3
   },
   "file_extension": ".py",
   "mimetype": "text/x-python",
   "name": "python",
   "nbconvert_exporter": "python",
   "pygments_lexer": "ipython3",
   "version": "3.9.13"
  },
  "orig_nbformat": 4
 },
 "nbformat": 4,
 "nbformat_minor": 2
}
