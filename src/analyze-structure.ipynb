{
 "cells": [
  {
   "cell_type": "code",
   "execution_count": 8,
   "metadata": {},
   "outputs": [],
   "source": [
    "import pandas as pd\n",
    "import numpy as np\n",
    "import matplotlib.pyplot as plt\n",
    "from correlation import decode_temporal_graphs\n",
    "import zipfile"
   ]
  },
  {
   "cell_type": "code",
   "execution_count": 26,
   "metadata": {},
   "outputs": [],
   "source": [
    "source_node_order = ['carts', 'user', 'user-db', 'catalogue', 'catalogue-db', 'orders-db', 'carts-db', 'queue-master', 'rabbitmq', 'session-db', 'master', 'worker1', 'worker2', 'front-end', 'orders', 'shipping', 'payment']\n",
    "target_node_order = ['carts', 'carts-db', 'catalogue', 'catalogue-db', 'front-end', 'orders', 'orders-db', 'payment', 'queue-master', 'rabbitmq', 'session-db', 'shipping', 'user', 'user-db', 'worker1', 'worker2', 'master']\n",
    "target_node_order_as_source_permutation = [source_node_order.index(node) for node in target_node_order]"
   ]
  },
  {
   "cell_type": "code",
   "execution_count": 10,
   "metadata": {},
   "outputs": [],
   "source": [
    "source_graphs = decode_temporal_graphs(np.load(\"/Users/max/Code/hpi/Machine-Learning-on-Spatio-Temporal-Graphs/Spatio-Temporal-Graphs/data/apg_unique_subgraphs_temporal_node2-17.npy\"))\n",
    "target_graphs = np.load(\"/Users/max/Code/hpi/Machine-Learning-on-Spatio-Temporal-Graphs/Spatio-Temporal-Graphs/src/artificial-graph-generation/generated/100k_frontend_graphs_temporal_unique.npy\")"
   ]
  },
  {
   "cell_type": "code",
   "execution_count": 11,
   "metadata": {},
   "outputs": [],
   "source": [
    "num_edges_per_source_graph = np.array(list(map(lambda x: x.number_of_edges(), source_graphs)), dtype=np.uint8)\n",
    "num_edges_per_target_graph = np.array([loaded[:,:,-1].sum() for loaded in target_graphs], dtype=np.uint8)\n",
    "np.save(\"source_graph_num_edges.npy\", num_edges_per_source_graph)\n",
    "np.save(\"target_graph_num_edges.npy\", num_edges_per_target_graph)"
   ]
  },
  {
   "cell_type": "code",
   "execution_count": 13,
   "metadata": {},
   "outputs": [],
   "source": [
    "temporal_betweenness_vectors_sources = np.load('../data/temporal_betweenness_vectors_overtime.npy')[:,target_node_order_as_source_permutation]\n",
    "temporal_closeness_vectors_sources = np.load('../data/temporal_closeness_vectors_overtime.npy')[:,target_node_order_as_source_permutation]\n",
    "temporal_degree_vectors_sources = np.load('../data/temporal_degree_vectors_overtime.npy')[:,target_node_order_as_source_permutation]"
   ]
  },
  {
   "cell_type": "code",
   "execution_count": 14,
   "metadata": {},
   "outputs": [],
   "source": [
    "temporal_betweenness_vectors_targets = np.load('artificial-graph-generation/generated/temporal_betweennesses_unique.npy')\n",
    "temporal_closeness_vectors_targets = np.load('artificial-graph-generation/generated/temporal_closenesses_unique.npy')\n",
    "temporal_degree_vectors_targets = np.load('artificial-graph-generation/generated/temporal_degrees_unique.npy')"
   ]
  },
  {
   "cell_type": "code",
   "execution_count": 30,
   "metadata": {},
   "outputs": [],
   "source": [
    "import networkx as nx"
   ]
  },
  {
   "cell_type": "code",
   "execution_count": 31,
   "metadata": {},
   "outputs": [],
   "source": [
    "g = nx.DiGraph()"
   ]
  },
  {
   "cell_type": "code",
   "execution_count": 32,
   "metadata": {},
   "outputs": [],
   "source": []
  },
  {
   "cell_type": "code",
   "execution_count": 33,
   "metadata": {},
   "outputs": [],
   "source": [
    "g = nx.DiGraph()\n",
    "g.add_edge(\"Front-End\", \"Catalogue\")\n",
    "g.add_edge(\"Front-End\", \"Session-DB\")\n",
    "g.add_edge(\"Catalogue\", \"Catalogue-DB\")\n",
    "g.add_edge(\"Catalogue\", \"Cart\")\n",
    "g.add_edge(\"Cart\", \"Cart-DB\")"
   ]
  },
  {
   "cell_type": "code",
   "execution_count": 39,
   "metadata": {},
   "outputs": [
    {
     "data": {
      "image/png": "[encoded data removed]",
      "text/plain": [
       "<Figure size 432x288 with 1 Axes>"
      ]
     },
     "metadata": {},
     "output_type": "display_data"
    }
   ],
   "source": [
    "nx.draw_spring(g, with_labels = True)"
   ]
  },
  {
   "cell_type": "code",
   "execution_count": 40,
   "metadata": {},
   "outputs": [
    {
     "data": {
      "text/plain": [
       "{'Front-End': 0.0,\n",
       " 'Catalogue': 0.15000000000000002,\n",
       " 'Session-DB': 0.0,\n",
       " 'Catalogue-DB': 0.0,\n",
       " 'Cart': 0.1,\n",
       " 'Cart-DB': 0.0}"
      ]
     },
     "execution_count": 40,
     "metadata": {},
     "output_type": "execute_result"
    }
   ],
   "source": [
    "nx.centrality.betweenness_centrality(g)"
   ]
  },
  {
   "cell_type": "code",
   "execution_count": 41,
   "metadata": {},
   "outputs": [
    {
     "data": {
      "text/plain": [
       "{'Front-End': 0.5555555555555556,\n",
       " 'Catalogue': 0.44999999999999996,\n",
       " 'Session-DB': 0.0,\n",
       " 'Catalogue-DB': 0.0,\n",
       " 'Cart': 0.2,\n",
       " 'Cart-DB': 0.0}"
      ]
     },
     "execution_count": 41,
     "metadata": {},
     "output_type": "execute_result"
    }
   ],
   "source": [
    "nx.centrality.closeness_centrality(g.reverse())\n"
   ]
  },
  {
   "cell_type": "code",
   "execution_count": 36,
   "metadata": {},
   "outputs": [
    {
     "data": {
      "text/plain": [
       "{'Front-End': 0.4,\n",
       " 'Catalogue': 0.6000000000000001,\n",
       " 'Session-DB': 0.2,\n",
       " 'Catalogue-DB': 0.2,\n",
       " 'Cart': 0.4,\n",
       " 'Cart-DB': 0.2}"
      ]
     },
     "execution_count": 36,
     "metadata": {},
     "output_type": "execute_result"
    }
   ],
   "source": [
    "nx.centrality.degree_centrality(g)"
   ]
  }
 ],
 "metadata": {
  "kernelspec": {
   "display_name": "Python 3.9.13 64-bit",
   "language": "python",
   "name": "python3"
  },
  "language_info": {
   "codemirror_mode": {
    "name": "ipython",
    "version": 3
   },
   "file_extension": ".py",
   "mimetype": "text/x-python",
   "name": "python",
   "nbconvert_exporter": "python",
   "pygments_lexer": "ipython3",
   "version": "3.9.13"
  },
  "orig_nbformat": 4,
  "vscode": {
   "interpreter": {
    "hash": "b0fa6594d8f4cbf19f97940f81e996739fb7646882a419484c72d19e05852a7e"
   }
  }
 },
 "nbformat": 4,
 "nbformat_minor": 2
}
