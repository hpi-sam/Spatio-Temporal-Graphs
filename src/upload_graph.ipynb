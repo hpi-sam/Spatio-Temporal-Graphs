{
 "cells": [
  {
   "cell_type": "markdown",
   "metadata": {},
   "source": [
    "# WP1 - Anomaly detection"
   ]
  },
  {
   "cell_type": "code",
   "execution_count": 47,
   "metadata": {},
   "outputs": [],
   "source": [
    "from neo4j import GraphDatabase\n",
    "import nxneo4j as nx\n",
    "import xml.etree.ElementTree as ET\n",
    "import matplotlib.pyplot as plt"
   ]
  },
  {
   "cell_type": "markdown",
   "metadata": {},
   "source": [
    "### Read sock-shop graph into neo4j database"
   ]
  },
  {
   "cell_type": "code",
   "execution_count": null,
   "metadata": {},
   "outputs": [],
   "source": [
    "driver = GraphDatabase.driver(uri=\"bolt://phoenix:7687\",auth=(\"neo4j\",\"hpi\"))"
   ]
  },
  {
   "cell_type": "code",
   "execution_count": 23,
   "metadata": {},
   "outputs": [],
   "source": [
    "def read_graph(filename) -> nx.Graph:\n",
    "    \"\"\"\n",
    "    Reads a graph from a file.\n",
    "    \"\"\"\n",
    "    tree = ET.parse(filename)\n",
    "    print(tree)\n",
    "    root = tree.getroot()\n",
    "    nodes = set()\n",
    "    G = nx.Graph(driver)\n",
    "    for child in root.iter(\"vertex\"):\n",
    "        node = child.attrib[\"id\"]\n",
    "        if node not in nodes:\n",
    "            nodes.add(node)\n",
    "            G.add_node(node)\n",
    "        for adj in child.iter(\"adjacent\"):\n",
    "            adjacent_node = adj.attrib[\"vertex\"]\n",
    "            if adjacent_node not in nodes:\n",
    "                nodes.add(adjacent_node)\n",
    "                G.add_node(adjacent_node)\n",
    "            G.add_edge(node, adjacent_node)\n",
    "    return G"
   ]
  },
  {
   "cell_type": "code",
   "execution_count": 24,
   "metadata": {},
   "outputs": [
    {
     "name": "stdout",
     "output_type": "stream",
     "text": [
      "<xml.etree.ElementTree.ElementTree object at 0x7f8452d00670>\n"
     ]
    }
   ],
   "source": [
    "#add graph to neo4j\n",
    "graph = read_graph(\"../data/Sock-shop-xml.txt\")"
   ]
  },
  {
   "cell_type": "code",
   "execution_count": 27,
   "metadata": {},
   "outputs": [
    {
     "data": {
      "text/plain": [
       "{'direction': 'UNDIRECTED',\n",
       " 'node_label': 'Node',\n",
       " 'relationship_type': 'CONNECTED',\n",
       " 'identifier_property': 'id'}"
      ]
     },
     "execution_count": 27,
     "metadata": {},
     "output_type": "execute_result"
    }
   ],
   "source": [
    "graph.base_params()"
   ]
  }
 ],
 "metadata": {
  "kernelspec": {
   "display_name": "Python 3.9.0 ('graphs_ml')",
   "language": "python",
   "name": "python3"
  },
  "language_info": {
   "codemirror_mode": {
    "name": "ipython",
    "version": 3
   },
   "file_extension": ".py",
   "mimetype": "text/x-python",
   "name": "python",
   "nbconvert_exporter": "python",
   "pygments_lexer": "ipython3",
   "version": "3.9.0"
  },
  "orig_nbformat": 4,
  "vscode": {
   "interpreter": {
    "hash": "d29e24484652cf81adbd39cba5ca18d14ce256afd8a74e36b8d095905f91e803"
   }
  }
 },
 "nbformat": 4,
 "nbformat_minor": 2
}
