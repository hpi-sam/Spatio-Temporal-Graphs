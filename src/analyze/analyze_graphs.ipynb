{
 "cells": [
  {
   "cell_type": "code",
   "execution_count": 12,
   "metadata": {},
   "outputs": [],
   "source": [
    "import torch\n",
    "import matplotlib.pyplot as plt\n",
    "import seaborn as sns\n",
    "import networkx as nx\n",
    "import numpy\n",
    "import numpy as np"
   ]
  },
  {
   "cell_type": "code",
   "execution_count": 6,
   "metadata": {},
   "outputs": [],
   "source": [
    "loaded = torch.load(\"../artificial-graph-generation/generated/100k_frontend_graphs-temporal.npz.torch\")"
   ]
  },
  {
   "cell_type": "code",
   "execution_count": 7,
   "metadata": {},
   "outputs": [
    {
     "data": {
      "text/plain": [
       "torch.Size([100000, 17, 17, 16])"
      ]
     },
     "execution_count": 7,
     "metadata": {},
     "output_type": "execute_result"
    }
   ],
   "source": [
    "loaded.shape"
   ]
  },
  {
   "cell_type": "code",
   "execution_count": 8,
   "metadata": {},
   "outputs": [],
   "source": []
  },
  {
   "cell_type": "code",
   "execution_count": 14,
   "metadata": {},
   "outputs": [
    {
     "data": {
      "image/png": "[encoded data removed]",
      "text/plain": [
       "<Figure size 720x360 with 1 Axes>"
      ]
     },
     "metadata": {
      "needs_background": "light"
     },
     "output_type": "display_data"
    }
   ],
   "source": [
    "sizes = torch.zeros((100000))\n",
    "for i in range(loaded.size(0)):\n",
    "    sizes[i] = loaded[i,:,:,15].sum()\n",
    "(sizes.numpy()).max()\n",
    "plt.figure(figsize=(10,5))\n",
    "plt.hist(sizes.numpy(), alpha=0.7, rwidth=0.85, bins=numpy.arange(16) - 0.5)\n",
    "plt.xlabel(\"Network size\")\n",
    "plt.ylabel(\"Number of graphs\")\n",
    "plt.title(\"Histogramm over network sizes\")\n",
    "plt.tight_layout()"
   ]
  },
  {
   "cell_type": "code",
   "execution_count": 25,
   "metadata": {},
   "outputs": [
    {
     "name": "stdout",
     "output_type": "stream",
     "text": [
      "60316\n",
      "torch.Size([60317, 17, 17, 16])\n"
     ]
    }
   ],
   "source": [
    "unique_graphs = torch.unique(loaded, False, False, False, 0)\n",
    "print(np.count_nonzero(unique_graphs.sum(dim=(1,2,3))))\n",
    "print(unique_graphs.shape)"
   ]
  },
  {
   "cell_type": "code",
   "execution_count": null,
   "metadata": {},
   "outputs": [],
   "source": []
  },
  {
   "cell_type": "code",
   "execution_count": 110,
   "metadata": {},
   "outputs": [
    {
     "name": "stdout",
     "output_type": "stream",
     "text": [
      "1\n"
     ]
    },
    {
     "data": {
      "image/png": "[encoded data removed]",
      "text/plain": [
       "<Figure size 648x576 with 1 Axes>"
      ]
     },
     "metadata": {
      "needs_background": "light"
     },
     "output_type": "display_data"
    }
   ],
   "source": [
    "sizes = np.zeros((len(unique_graphs)))\n",
    "for i in range(unique_graphs.shape[0]):\n",
    "    sizes[i] = unique_graphs[i][:,:,15].sum()\n",
    "(sizes).max()\n",
    "print(len(sizes) - np.count_nonzero(sizes))\n",
    "plt.figure(figsize=(9,8))\n",
    "plt.hist(sizes, alpha=0.7, rwidth=0.85, bins=numpy.arange(16) - 0.5)\n",
    "plt.xlabel(\"Network size\")\n",
    "plt.ylabel(\"Number of graphs\")\n",
    "plt.title(\"Histogramm over Network Sizes of Target Dataset\")\n",
    "plt.tight_layout()"
   ]
  },
  {
   "cell_type": "code",
   "execution_count": 33,
   "metadata": {},
   "outputs": [],
   "source": [
    "nodes = ['carts', 'carts-db', 'catalogue', 'catalogue-db', 'front-end', 'orders', 'orders-db', 'payment', 'queue-master', 'rabbitmq', 'session-db', 'shipping', 'user', 'user-db', 'worker1', 'worker2', 'master']"
   ]
  },
  {
   "cell_type": "code",
   "execution_count": 91,
   "metadata": {},
   "outputs": [
    {
     "data": {
      "application/vnd.jupyter.widget-view+json": {
       "model_id": "0f83fe3240fd4b81bc66dec8bc788e01",
       "version_major": 2,
       "version_minor": 0
      },
      "text/plain": [
       "  0%|          | 0/60317 [00:00<?, ?it/s]"
      ]
     },
     "metadata": {},
     "output_type": "display_data"
    },
    {
     "name": "stdout",
     "output_type": "stream",
     "text": [
      "Closeness failed\n",
      "Degree failed\n"
     ]
    }
   ],
   "source": [
    "import traceback\n",
    "import overtime\n",
    "from overtime.algorithms import temporal_betweenness, temporal_degree, temporal_closeness, temporal_pagerank\n",
    "from tqdm.notebook import tqdm\n",
    "import numpy as np\n",
    "unique_graphs=np.load(\"/Users/max/Code/hpi/Machine-Learning-on-Spatio-Temporal-Graphs/Spatio-Temporal-Graphs/src/artificial-graph-generation/generated/100k_frontend_graphs_temporal_unique.npy\")\n",
    "metrics = {}\n",
    "temporal_closenesses = np.zeros((unique_graphs.shape[0], len(nodes)))\n",
    "temporal_betweennesses = np.zeros((unique_graphs.shape[0], len(nodes)))\n",
    "temporal_degrees = np.zeros((unique_graphs.shape[0], len(nodes)))\n",
    "for j in tqdm(range(unique_graphs.shape[0])):\n",
    "    el = unique_graphs[j]\n",
    "    tdi = overtime.TemporalDiGraph(\"Temporal Graph\")\n",
    "    this_edges = set()\n",
    "    this_nodes = set()\n",
    "    for t in range(el.shape[-1]):\n",
    "        ones = np.transpose(np.nonzero(el[:,:,t]))\n",
    "        for element in ones:\n",
    "            element = tuple(element.tolist())\n",
    "            if element[0] not in this_nodes:\n",
    "                this_nodes.add(element[0])\n",
    "                tdi.add_node(str(element[0]))\n",
    "            if element[1] not in this_nodes:\n",
    "                this_nodes.add(element[1])\n",
    "                tdi.add_node(str(element[1]))\n",
    "            if element not in this_edges:\n",
    "                this_edges.add(element)\n",
    "                tdi.add_edge(str(element[0]),str(element[1]), t+1, el.shape[-1]+2)\n",
    "    try:\n",
    "        for key, item in temporal_betweenness(tdi, optimality=\"foremost\").items():\n",
    "            temporal_betweennesses[j, int(key) - 1] = item\n",
    "    except Exception as e:\n",
    "        print(\"Betweenness failed\")\n",
    "    try:\n",
    "        for key, item in temporal_closeness(tdi, optimality=\"fastest\").items():\n",
    "            temporal_closenesses[j, int(key) - 1] = item\n",
    "    except Exception as e:\n",
    "        print(\"Closeness failed\")\n",
    "    try:\n",
    "        for key, item in temporal_degree(tdi, in_out=\"out\").items():\n",
    "            temporal_degrees[j, int(key) - 1] = item\n",
    "    except Exception as e:\n",
    "        print(\"Degree failed\")\n"
   ]
  },
  {
   "cell_type": "code",
   "execution_count": 95,
   "metadata": {},
   "outputs": [
    {
     "data": {
      "text/plain": [
       "(59959, 17)"
      ]
     },
     "execution_count": 95,
     "metadata": {},
     "output_type": "execute_result"
    }
   ],
   "source": [
    "np.unique(temporal_closenesses, axis=0).shape"
   ]
  },
  {
   "cell_type": "code",
   "execution_count": 96,
   "metadata": {},
   "outputs": [
    {
     "data": {
      "text/plain": [
       "array([0.        , 0.        , 0.        , 0.05882353, 0.        ,\n",
       "       0.        , 0.        , 0.        , 0.        , 0.        ,\n",
       "       0.        , 0.        , 0.41176471, 0.        , 0.        ,\n",
       "       0.        , 0.        ])"
      ]
     },
     "execution_count": 96,
     "metadata": {},
     "output_type": "execute_result"
    }
   ],
   "source": [
    "temporal_degrees[6]"
   ]
  },
  {
   "cell_type": "code",
   "execution_count": 97,
   "metadata": {},
   "outputs": [
    {
     "data": {
      "text/plain": [
       "(55624, 17)"
      ]
     },
     "execution_count": 97,
     "metadata": {},
     "output_type": "execute_result"
    }
   ],
   "source": [
    "np.unique(temporal_degrees, axis=0).shape"
   ]
  },
  {
   "cell_type": "code",
   "execution_count": 98,
   "metadata": {},
   "outputs": [],
   "source": [
    "np.save(\"temporal_betweennesses_unique.npy\", temporal_betweennesses)\n",
    "np.save(\"temporal_closenesses_unique.npy\", temporal_closenesses)\n",
    "np.save(\"temporal_degrees_unique.npy\", temporal_degrees)"
   ]
  },
  {
   "cell_type": "code",
   "execution_count": 59,
   "metadata": {},
   "outputs": [],
   "source": [
    "np.save(\"100k_frontend_graphs_temporal_unique.npy\", a.numpy())"
   ]
  },
  {
   "cell_type": "code",
   "execution_count": 99,
   "metadata": {},
   "outputs": [
    {
     "data": {
      "image/png": "[encoded data removed]",
      "text/plain": [
       "<Figure size 720x360 with 1 Axes>"
      ]
     },
     "metadata": {
      "needs_background": "light"
     },
     "output_type": "display_data"
    }
   ],
   "source": [
    "plt.figure(figsize=(10,5))\n",
    "for key, item in sorted(metrics.items(), key=lambda x: int(x[0])):\n",
    "    plt.bar(key, numpy.mean(item))\n",
    "plt.title(\"Temporal Closeness\")\n",
    "plt.xlabel(\"Node\")\n",
    "plt.ylabel(\"Mean temporal closeness\")\n",
    "plt.xticks(numpy.arange(17), nodes, rotation=90)\n",
    "pass"
   ]
  },
  {
   "cell_type": "code",
   "execution_count": null,
   "metadata": {},
   "outputs": [
    {
     "data": {
      "application/vnd.jupyter.widget-view+json": {
       "model_id": "ae39602c92014e3a94d3d68f041b2923",
       "version_major": 2,
       "version_minor": 0
      },
      "text/plain": [
       "  0%|          | 0/100000 [00:00<?, ?it/s]"
      ]
     },
     "metadata": {},
     "output_type": "display_data"
    },
    {
     "ename": "IndexError",
     "evalue": "list index out of range",
     "output_type": "error",
     "traceback": [
      "\u001b[0;31m---------------------------------------------------------------------------\u001b[0m",
      "\u001b[0;31mIndexError\u001b[0m                                Traceback (most recent call last)",
      "\u001b[0;32m/var/folders/ft/nrl43w791nv5zxyttws04wsc0000gn/T/ipykernel_41286/1147516265.py\u001b[0m in \u001b[0;36m<module>\u001b[0;34m\u001b[0m\n\u001b[1;32m     21\u001b[0m                 \u001b[0mthis_edges\u001b[0m\u001b[0;34m.\u001b[0m\u001b[0madd\u001b[0m\u001b[0;34m(\u001b[0m\u001b[0melement\u001b[0m\u001b[0;34m)\u001b[0m\u001b[0;34m\u001b[0m\u001b[0;34m\u001b[0m\u001b[0m\n\u001b[1;32m     22\u001b[0m                 \u001b[0mtdi\u001b[0m\u001b[0;34m.\u001b[0m\u001b[0madd_edge\u001b[0m\u001b[0;34m(\u001b[0m\u001b[0mstr\u001b[0m\u001b[0;34m(\u001b[0m\u001b[0melement\u001b[0m\u001b[0;34m[\u001b[0m\u001b[0;36m0\u001b[0m\u001b[0;34m]\u001b[0m\u001b[0;34m)\u001b[0m\u001b[0;34m,\u001b[0m\u001b[0mstr\u001b[0m\u001b[0;34m(\u001b[0m\u001b[0melement\u001b[0m\u001b[0;34m[\u001b[0m\u001b[0;36m1\u001b[0m\u001b[0;34m]\u001b[0m\u001b[0;34m)\u001b[0m\u001b[0;34m,\u001b[0m \u001b[0mi\u001b[0m\u001b[0;34m,\u001b[0m \u001b[0;36m16\u001b[0m\u001b[0;34m)\u001b[0m\u001b[0;34m\u001b[0m\u001b[0;34m\u001b[0m\u001b[0m\n\u001b[0;32m---> 23\u001b[0;31m     \u001b[0;32mfor\u001b[0m \u001b[0mkey\u001b[0m\u001b[0;34m,\u001b[0m \u001b[0mitem\u001b[0m \u001b[0;32min\u001b[0m \u001b[0mtemporal_closeness\u001b[0m\u001b[0;34m(\u001b[0m\u001b[0mtdi\u001b[0m\u001b[0;34m)\u001b[0m\u001b[0;34m.\u001b[0m\u001b[0mitems\u001b[0m\u001b[0;34m(\u001b[0m\u001b[0;34m)\u001b[0m\u001b[0;34m:\u001b[0m\u001b[0;34m\u001b[0m\u001b[0;34m\u001b[0m\u001b[0m\n\u001b[0m\u001b[1;32m     24\u001b[0m         \u001b[0;32mif\u001b[0m \u001b[0mkey\u001b[0m \u001b[0;32mnot\u001b[0m \u001b[0;32min\u001b[0m \u001b[0mmetrics\u001b[0m\u001b[0;34m:\u001b[0m\u001b[0;34m\u001b[0m\u001b[0;34m\u001b[0m\u001b[0m\n\u001b[1;32m     25\u001b[0m             \u001b[0mmetrics\u001b[0m\u001b[0;34m[\u001b[0m\u001b[0mkey\u001b[0m\u001b[0;34m]\u001b[0m \u001b[0;34m=\u001b[0m \u001b[0;34m[\u001b[0m\u001b[0;34m]\u001b[0m\u001b[0;34m\u001b[0m\u001b[0;34m\u001b[0m\u001b[0m\n",
      "\u001b[0;32m/opt/homebrew/lib/python3.9/site-packages/overtime/algorithms/centrality/closeness.py\u001b[0m in \u001b[0;36mtemporal_closeness\u001b[0;34m(graph, optimality, labels, intervals, normalize, cent_evo, sum_evo, add_data)\u001b[0m\n\u001b[1;32m     88\u001b[0m \u001b[0;34m\u001b[0m\u001b[0m\n\u001b[1;32m     89\u001b[0m     \u001b[0;31m# Iterate over [t, j] such that graph.edges.start() <= t <= graph.edges.end() -- for centrality evolution\u001b[0m\u001b[0;34m\u001b[0m\u001b[0;34m\u001b[0m\u001b[0m\n\u001b[0;32m---> 90\u001b[0;31m     \u001b[0;32mfor\u001b[0m \u001b[0mt\u001b[0m \u001b[0;32min\u001b[0m \u001b[0mrange\u001b[0m\u001b[0;34m(\u001b[0m\u001b[0mgraph\u001b[0m\u001b[0;34m.\u001b[0m\u001b[0medges\u001b[0m\u001b[0;34m.\u001b[0m\u001b[0mstart\u001b[0m\u001b[0;34m(\u001b[0m\u001b[0;34m)\u001b[0m\u001b[0;34m,\u001b[0m \u001b[0mgraph\u001b[0m\u001b[0;34m.\u001b[0m\u001b[0medges\u001b[0m\u001b[0;34m.\u001b[0m\u001b[0mend\u001b[0m\u001b[0;34m(\u001b[0m\u001b[0;34m)\u001b[0m\u001b[0;34m)\u001b[0m\u001b[0;34m:\u001b[0m\u001b[0;34m\u001b[0m\u001b[0;34m\u001b[0m\u001b[0m\n\u001b[0m\u001b[1;32m     91\u001b[0m \u001b[0;34m\u001b[0m\u001b[0m\n\u001b[1;32m     92\u001b[0m         \u001b[0;31m# Iterate over nodes\u001b[0m\u001b[0;34m\u001b[0m\u001b[0;34m\u001b[0m\u001b[0m\n",
      "\u001b[0;32m/opt/homebrew/lib/python3.9/site-packages/overtime/components/edges.py\u001b[0m in \u001b[0;36mstart\u001b[0;34m(self)\u001b[0m\n\u001b[1;32m    635\u001b[0m                 \u001b[0mThe\u001b[0m \u001b[0msmallest\u001b[0m \u001b[0mstart\u001b[0m \u001b[0mtime\u001b[0m \u001b[0mof\u001b[0m \u001b[0mthe\u001b[0m \u001b[0mcollection\u001b[0m\u001b[0;34m.\u001b[0m\u001b[0;34m\u001b[0m\u001b[0;34m\u001b[0m\u001b[0m\n\u001b[1;32m    636\u001b[0m         \"\"\"\n\u001b[0;32m--> 637\u001b[0;31m         \u001b[0;32mreturn\u001b[0m \u001b[0mself\u001b[0m\u001b[0;34m.\u001b[0m\u001b[0mset\u001b[0m\u001b[0;34m[\u001b[0m\u001b[0;36m0\u001b[0m\u001b[0;34m]\u001b[0m\u001b[0;34m.\u001b[0m\u001b[0mstart\u001b[0m\u001b[0;34m\u001b[0m\u001b[0;34m\u001b[0m\u001b[0m\n\u001b[0m\u001b[1;32m    638\u001b[0m \u001b[0;34m\u001b[0m\u001b[0m\n\u001b[1;32m    639\u001b[0m \u001b[0;34m\u001b[0m\u001b[0m\n",
      "\u001b[0;31mIndexError\u001b[0m: list index out of range"
     ]
    }
   ],
   "source": [
    "import overtime\n",
    "from overtime.algorithms import temporal_betweenness, temporal_degree, temporal_closeness, temporal_pagerank\n",
    "from tqdm.notebook import tqdm\n",
    "metrics = {}\n",
    "for j in tqdm(range(b.size(0))):\n",
    "    el = b[j]\n",
    "    tdi = overtime.TemporalDiGraph(\"Temporal Graph\")\n",
    "    this_edges = set()\n",
    "    this_nodes = set()\n",
    "    for i in range(el.size(-1)):\n",
    "        ones = torch.nonzero(el[:,:,i])\n",
    "        for element in ones:\n",
    "            element = tuple(element.numpy())\n",
    "            if element[0] not in this_nodes:\n",
    "                this_nodes.add(element[0])\n",
    "                tdi.add_node(str(element[0]))\n",
    "            if element[1] not in this_nodes:\n",
    "                this_nodes.add(element[1])\n",
    "                tdi.add_node(str(element[1]))\n",
    "            if element not in this_edges:\n",
    "                this_edges.add(element)\n",
    "                tdi.add_edge(str(element[0]),str(element[1]), i+1, 16)\n",
    "    for key, item in temporal_closeness(tdi).items():\n",
    "        if key not in metrics:\n",
    "            metrics[key] = []\n",
    "        metrics[key].append(item)\n"
   ]
  },
  {
   "cell_type": "code",
   "execution_count": null,
   "metadata": {},
   "outputs": [
    {
     "data": {
      "text/plain": [
       "Text(0, 0.5, 'Mean temporal betweenness')"
      ]
     },
     "execution_count": 60,
     "metadata": {},
     "output_type": "execute_result"
    },
    {
     "data": {
      "image/png": "[encoded data removed]",
      "text/plain": [
       "<Figure size 720x360 with 1 Axes>"
      ]
     },
     "metadata": {
      "needs_background": "light"
     },
     "output_type": "display_data"
    }
   ],
   "source": [
    "plt.figure(figsize=(10,5))\n",
    "for key, item in sorted(metrics.items(), key=lambda x: int(x[0])):\n",
    "    plt.bar(key, numpy.mean(item))\n",
    "plt.title(\"Temporal Pagerank\")\n",
    "plt.xlabel(\"Node\")\n",
    "plt.ylabel(\"Mean temporal betweenness\")"
   ]
  },
  {
   "cell_type": "code",
   "execution_count": 50,
   "metadata": {},
   "outputs": [],
   "source": [
    "randomTarget = np.random.random((100_000, 17))\n",
    "randomSource = np.random.random((9000,17,))"
   ]
  },
  {
   "cell_type": "code",
   "execution_count": 40,
   "metadata": {},
   "outputs": [],
   "source": [
    "from sklearn.neighbors import NearestNeighbors\n",
    "\n"
   ]
  },
  {
   "cell_type": "code",
   "execution_count": 51,
   "metadata": {},
   "outputs": [],
   "source": [
    "neigh = NearestNeighbors(n_neighbors=10)"
   ]
  },
  {
   "cell_type": "code",
   "execution_count": 52,
   "metadata": {},
   "outputs": [
    {
     "data": {
      "text/plain": [
       "NearestNeighbors(n_neighbors=10)"
      ]
     },
     "execution_count": 52,
     "metadata": {},
     "output_type": "execute_result"
    }
   ],
   "source": [
    "neigh.fit(randomTarget)"
   ]
  },
  {
   "cell_type": "code",
   "execution_count": 56,
   "metadata": {},
   "outputs": [],
   "source": [
    "result, dist = neigh.kneighbors(randomSource, 100_000, True)"
   ]
  },
  {
   "cell_type": "code",
   "execution_count": null,
   "metadata": {},
   "outputs": [],
   "source": [
    "from sklearn.metrics import dcg_score\n",
    "\n",
    "dcg_score()"
   ]
  }
 ],
 "metadata": {
  "kernelspec": {
   "display_name": "Python 3.9.13 64-bit",
   "language": "python",
   "name": "python3"
  },
  "language_info": {
   "codemirror_mode": {
    "name": "ipython",
    "version": 3
   },
   "file_extension": ".py",
   "mimetype": "text/x-python",
   "name": "python",
   "nbconvert_exporter": "python",
   "pygments_lexer": "ipython3",
   "version": "3.9.13"
  },
  "orig_nbformat": 4,
  "vscode": {
   "interpreter": {
    "hash": "b0fa6594d8f4cbf19f97940f81e996739fb7646882a419484c72d19e05852a7e"
   }
  }
 },
 "nbformat": 4,
 "nbformat_minor": 2
}
