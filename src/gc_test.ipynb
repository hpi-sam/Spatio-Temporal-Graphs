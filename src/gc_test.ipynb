{
 "cells": [
  {
   "cell_type": "markdown",
   "metadata": {},
   "source": [
    "# WP1 - Anomaly subgraph extraction: Finding Granger causalities"
   ]
  },
  {
   "cell_type": "code",
   "execution_count": 2,
   "metadata": {},
   "outputs": [],
   "source": [
    "import py2neo\n",
    "import pandas as pd\n",
    "import numpy as np\n",
    "from statsmodels.tsa.stattools import grangercausalitytests"
   ]
  },
  {
   "cell_type": "code",
   "execution_count": 2,
   "metadata": {},
   "outputs": [],
   "source": [
    "# TODO: remove before upload\n",
    "graph = py2neo.Graph(\"bolt://192.168.1.185:7687\", auth=(\"neo4j\", \"\"))"
   ]
  },
  {
   "cell_type": "code",
   "execution_count": 3,
   "metadata": {},
   "outputs": [],
   "source": [
    "graph_rel = graph.relationships.match().all()"
   ]
  },
  {
   "cell_type": "markdown",
   "metadata": {},
   "source": [
    "### Calculate granger causality on dataset and update graph"
   ]
  },
  {
   "cell_type": "code",
   "execution_count": 3,
   "metadata": {},
   "outputs": [],
   "source": [
    "MAXLAG = 2\n",
    "f = '../data/loadtest-Updated.csv'\n",
    "P = pd.read_csv(f).sort_values(by=['Time', 'Unnamed: 0'])"
   ]
  },
  {
   "cell_type": "code",
   "execution_count": 4,
   "metadata": {},
   "outputs": [
    {
     "name": "stdout",
     "output_type": "stream",
     "text": [
      "carts front-end\n",
      "not causal\n",
      "user user-db\n",
      "causal\n",
      "user front-end\n",
      "not causal\n",
      "catalogue front-end\n",
      "not causal\n",
      "catalogue-db catalogue\n",
      "not causal\n",
      "orders-db orders\n",
      "causal\n",
      "carts-db carts\n",
      "causal\n",
      "orders shipping\n",
      "causal\n",
      "orders front-end\n",
      "not causal\n",
      "shipping queue-master\n",
      "causal\n"
     ]
    }
   ],
   "source": [
    "#perform Granger-Causality test\n",
    "for rel in graph_rel:\n",
    "    source = rel.start_node['id']\n",
    "    target = rel.end_node['id']\n",
    "    if source in P.columns and target in P.columns:\n",
    "        gc_dicts = grangercausalitytests(P[[source, target]], MAXLAG, verbose=False)\n",
    "        p_values = [lag_result[0]['ssr_chi2test'][1] for lag_result in gc_dicts.values()]\n",
    "        print(source, target)\n",
    "        if np.min(p_values) < 0.05:\n",
    "            print('causal')\n",
    "            rel[\"causal\"] = True\n",
    "            graph.push(rel)\n",
    "        else:\n",
    "            print('not causal')\n",
    "            rel[\"causal\"] = False\n",
    "            graph.push(rel)\n",
    "           "
   ]
  },
  {
   "cell_type": "code",
   "execution_count": 15,
   "metadata": {},
   "outputs": [],
   "source": [
    "neighbor_q1 = '''MATCH (a)-[r]-(b) where a.id='worker1' RETURN b'''\n",
    "worker1_neighbors = [i.get('b') for i in graph.run(neighbor_q1).data()]"
   ]
  },
  {
   "cell_type": "code",
   "execution_count": 16,
   "metadata": {},
   "outputs": [],
   "source": [
    "neighbor_q2 = '''MATCH (a)-[r]-(b) where a.id='worker2' RETURN b'''\n",
    "worker2_neighbors = [i.get('b') for i in graph.run(neighbor_q2).data()]"
   ]
  },
  {
   "cell_type": "code",
   "execution_count": 18,
   "metadata": {},
   "outputs": [],
   "source": [
    "def granger_causality_for_neighbors(neighbors, graph):\n",
    "    for i in range(len(neighbors)):\n",
    "        for j in range(i+1, len(neighbors)):\n",
    "            n1 = neighbors[i]\n",
    "            n2 = neighbors[j]\n",
    "            node1 = n1['id']\n",
    "            node2 = n2['id']\n",
    "            if node1 == node2:\n",
    "                continue\n",
    "            if node1 in P.columns and node2 in P.columns:\n",
    "                gc_dicts_direction_1 = grangercausalitytests(P[[node1, node2]], MAXLAG, verbose=False)\n",
    "                p_values_direction_1 = [lag_result[0]['ssr_chi2test'][1] for lag_result in gc_dicts_direction_1.values()]\n",
    "\n",
    "                gc_dicts_direction_2 = grangercausalitytests(P[[node2, node1]], MAXLAG, verbose=False)\n",
    "                p_values_direction_2 = [lag_result[0]['ssr_chi2test'][1] for lag_result in gc_dicts_direction_2.values()]\n",
    "\n",
    "\n",
    "                print(node1, node2)\n",
    "                if np.min(p_values_direction_1) < 0.05 or np.min(p_values_direction_2) < 0.05:\n",
    "                    print('causal')\n",
    "                    graph.create(py2neo.Relationship(n1, \"GC\", n2, causal=True))\n",
    "                else:\n",
    "                    print('not causal')"
   ]
  },
  {
   "cell_type": "code",
   "execution_count": 19,
   "metadata": {},
   "outputs": [
    {
     "name": "stdout",
     "output_type": "stream",
     "text": [
      "rabbitmq queue-master\n",
      "causal\n",
      "rabbitmq shipping\n",
      "causal\n",
      "rabbitmq catalogue-db\n",
      "not causal\n",
      "rabbitmq catalogue\n",
      "causal\n",
      "rabbitmq user\n",
      "causal\n",
      "rabbitmq carts\n",
      "causal\n",
      "rabbitmq payment\n",
      "causal\n",
      "rabbitmq orders\n",
      "causal\n",
      "queue-master shipping\n",
      "causal\n",
      "queue-master catalogue-db\n",
      "causal\n",
      "queue-master catalogue\n",
      "causal\n",
      "queue-master user\n",
      "causal\n",
      "queue-master carts\n",
      "causal\n",
      "queue-master payment\n",
      "not causal\n",
      "queue-master orders\n",
      "causal\n",
      "shipping catalogue-db\n",
      "causal\n",
      "shipping catalogue\n",
      "not causal\n",
      "shipping user\n",
      "causal\n",
      "shipping carts\n",
      "causal\n",
      "shipping payment\n",
      "not causal\n",
      "shipping orders\n",
      "causal\n",
      "catalogue-db catalogue\n",
      "not causal\n",
      "catalogue-db user\n",
      "causal\n",
      "catalogue-db carts\n",
      "causal\n",
      "catalogue-db payment\n",
      "not causal\n",
      "catalogue-db orders\n",
      "causal\n",
      "catalogue user\n",
      "causal\n",
      "catalogue carts\n",
      "not causal\n",
      "catalogue payment\n",
      "causal\n",
      "catalogue orders\n",
      "causal\n",
      "user carts\n",
      "causal\n",
      "user payment\n",
      "causal\n",
      "user orders\n",
      "causal\n",
      "carts payment\n",
      "not causal\n",
      "carts orders\n",
      "causal\n",
      "payment orders\n",
      "not causal\n"
     ]
    }
   ],
   "source": [
    "granger_causality_for_neighbors(worker1_neighbors, graph)"
   ]
  },
  {
   "cell_type": "code",
   "execution_count": 20,
   "metadata": {},
   "outputs": [
    {
     "name": "stdout",
     "output_type": "stream",
     "text": [
      "session-db carts-db\n",
      "causal\n",
      "session-db orders-db\n",
      "causal\n",
      "session-db user-db\n",
      "causal\n",
      "session-db front-end\n",
      "not causal\n",
      "carts-db orders-db\n",
      "causal\n",
      "carts-db user-db\n",
      "causal\n",
      "carts-db front-end\n",
      "causal\n",
      "orders-db user-db\n",
      "causal\n",
      "orders-db front-end\n",
      "causal\n",
      "user-db front-end\n",
      "causal\n"
     ]
    }
   ],
   "source": [
    "granger_causality_for_neighbors(worker2_neighbors, graph)"
   ]
  }
 ],
 "metadata": {
  "kernelspec": {
   "display_name": "Python 3 (ipykernel)",
   "language": "python",
   "name": "python3"
  },
  "language_info": {
   "codemirror_mode": {
    "name": "ipython",
    "version": 3
   },
   "file_extension": ".py",
   "mimetype": "text/x-python",
   "name": "python",
   "nbconvert_exporter": "python",
   "pygments_lexer": "ipython3",
   "version": "3.9.0"
  },
  "vscode": {
   "interpreter": {
    "hash": "d29e24484652cf81adbd39cba5ca18d14ce256afd8a74e36b8d095905f91e803"
   }
  }
 },
 "nbformat": 4,
 "nbformat_minor": 4
}
