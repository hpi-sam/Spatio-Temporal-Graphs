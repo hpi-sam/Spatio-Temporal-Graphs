{
 "cells": [
  {
   "cell_type": "markdown",
   "metadata": {},
   "source": [
    "# Experiments for Graph Matching\n",
    "This notebook contains the experiments to compare the graph matching results via embeddings produced by a GNN to graph matching results via embeddings that are represented by temporal centralities. "
   ]
  },
  {
   "cell_type": "code",
   "execution_count": 2,
   "metadata": {},
   "outputs": [],
   "source": [
    "import numpy as np"
   ]
  },
  {
   "cell_type": "code",
   "execution_count": 3,
   "metadata": {},
   "outputs": [],
   "source": [
    "temporal_betweenness_vectors_sources = np.load('../data/temporal_betweenness_vectors_overtime.npy')\n",
    "temporal_closeness_vectors_sources = np.load('../data/temporal_closeness_vectors_overtime.npy')\n",
    "temporal_degree_vectors_sources = np.load('../data/temporal_degree_vectors_overtime.npy')"
   ]
  },
  {
   "cell_type": "code",
   "execution_count": 4,
   "metadata": {},
   "outputs": [],
   "source": [
    "temporal_betweenness_vectors_targets = np.load('artificial-graph-generation/generated/temporal_betweennesses_unique.npy')\n",
    "temporal_closeness_vectors_targets = np.load('artificial-graph-generation/generated/temporal_closenesses_unique.npy')\n",
    "temporal_degree_vectors_targets = np.load('artificial-graph-generation/generated/temporal_degrees_unique.npy')"
   ]
  },
  {
   "cell_type": "code",
   "execution_count": 5,
   "metadata": {},
   "outputs": [],
   "source": [
    "source_encodings = np.load(\"../data/anomaly_source_embeddings_17_dims_30_epochs.npy\")\n",
    "target_encodings = np.load(\"../data/anomaly_target_embeddings_17_dims_30_epochs.npy\")"
   ]
  },
  {
   "cell_type": "code",
   "execution_count": 6,
   "metadata": {},
   "outputs": [],
   "source": [
    "num_sources = len(temporal_betweenness_vectors_sources)\n",
    "assert len(temporal_closeness_vectors_sources) == len(temporal_degree_vectors_sources) and len(temporal_closeness_vectors_sources) == num_sources\n",
    "num_targets = len(temporal_betweenness_vectors_targets)\n",
    "assert len(temporal_closeness_vectors_targets) == len(temporal_degree_vectors_targets) and len(temporal_closeness_vectors_targets) == num_targets\n"
   ]
  },
  {
   "cell_type": "markdown",
   "metadata": {},
   "source": [
    "## Comparison of GNN to temporal betweenness"
   ]
  },
  {
   "cell_type": "code",
   "execution_count": 7,
   "metadata": {},
   "outputs": [],
   "source": [
    "from scipy.spatial import distance\n",
    "from tqdm import tqdm\n",
    "from sklearn.metrics import dcg_score\n",
    "from sklearn.neighbors import NearestNeighbors\n",
    "from tqdm import tqdm"
   ]
  },
  {
   "cell_type": "code",
   "execution_count": 8,
   "metadata": {},
   "outputs": [
    {
     "name": "stderr",
     "output_type": "stream",
     "text": [
      " 66%|██████▌   | 12041/18312 [37:48<16:26,  6.36it/s] IOStream.flush timed out\n",
      "100%|██████████| 18312/18312 [54:43<00:00,  5.58it/s]  \n",
      "  0%|          | 2/18312 [05:56<907:45:07, 178.48s/it]"
     ]
    },
    {
     "ename": "",
     "evalue": "",
     "output_type": "error",
     "traceback": [
      "The Kernel crashed while executing code in the the current cell or a previous cell. Please review the code in the cell(s) to identify a possible cause of the failure. Click <a href='https://aka.ms/vscodeJupyterKernelCrash'>here</a> for more info. View Jupyter <a href='command:jupyter.viewOutput'>log</a> for further details."
     ]
    },
    {
     "ename": "",
     "evalue": "",
     "output_type": "error",
     "traceback": [
      "\u001b[1;31mCanceled future for execute_request message before replies were done"
     ]
    }
   ],
   "source": [
    "# Temporal closeness\n",
    "temporal_closeness_distances = []\n",
    "temporal_closeness_rankings = []\n",
    "for i in tqdm(range(num_sources)):\n",
    "    temporal_closeness_distances.append([])\n",
    "    for j in range(num_targets):\n",
    "        temporal_closeness_distances[-1].append(distance.euclidean(temporal_betweenness_vectors_sources[i], temporal_betweenness_vectors_targets[j]))\n",
    "    temporal_closeness_rankings.append(np.argsort(temporal_closeness_distances[-1]))\n",
    "\n",
    "# Embeddings\n",
    "embedding_distances = []\n",
    "embedding_rankings = []\n",
    "for i in tqdm(range(num_sources)):\n",
    "    embedding_distances.append([])\n",
    "    for j in range(num_targets):\n",
    "        embedding_distances[-1].append(distance.euclidean(source_encodings[i], target_encodings[j]))\n",
    "        embedding_rankings.append(np.argsort(embedding_distances[-1]))\n",
    "\n",
    "scores = []\n",
    "for i in tqdm(range(num_sources)):\n",
    "    scores.append(dcg_score(temporal_closeness_rankings[i], embedding_rankings[i]))"
   ]
  },
  {
   "cell_type": "code",
   "execution_count": null,
   "metadata": {},
   "outputs": [],
   "source": [
    "# TODO: do the graph matching ranking (as Til implemented), compare rankings of GNN and TCMs (comparison of top-k via DCG where the TCM is the truth?)\n",
    "matching_scores_GNN_betweenness = []\n",
    "euc_distances_betweenness = {}\n",
    "\n",
    "for source_idx in tqdm(range(5)):\n",
    "    source_temporal_closeness = temporal_closeness_vectors_sources[source_idx]\n",
    "    #source_GNN = ...\n",
    "    euc_distances_betweenness[source_idx] = []\n",
    "\n",
    "    for target_idx in range(5):\n",
    "        target_temporal_betweenness = temporal_betweenness_vectors_targets[target_idx]\n",
    "        NearestNeighbors(n_neighbors=)\n",
    "        euc_distances_betweenness[source_idx].append(distance.euclidean(temporal_betweenness_vectors_sources, target_temporal_betweenness))\n",
    "        \n",
    "        \n",
    "\n",
    "    #source_GNN = GNN_vectors_sources[source_idx]\n",
    "    # TODO: do the graph matching for GNN\n",
    "\n",
    "    # TODO: compare both matchings and compute a score\n",
    "    #matching_scores_GNN_betweenness.append(score)\n",
    "# TODO: somehow aggregate the scores and generate a total score (average? histograms?)\n",
    "\n"
   ]
  },
  {
   "cell_type": "code",
   "execution_count": 25,
   "metadata": {},
   "outputs": [
    {
     "name": "stderr",
     "output_type": "stream",
     "text": [
      "100%|██████████| 5/5 [00:00<00:00, 3342.07it/s]\n"
     ]
    }
   ],
   "source": [
    "# TODO: do the graph matching ranking (as Til implemented), compare rankings of GNN and TCMs (comparison of top-k via DCG where the TCM is the truth?)\n",
    "matching_scores_GNN_closeness = []\n",
    "euc_distances_closeness = {}\n",
    "\n",
    "\n",
    "\n",
    "\n",
    "for source_idx in tqdm(range(5)):\n",
    "    source_temporal_closeness = temporal_closeness_vectors_sources[source_idx]\n",
    "    #source_GNN = ...\n",
    "    euc_distances_closeness[source_idx] = []\n",
    "\n",
    "    for target_idx in range(5):\n",
    "        target_temporal_closeness = temporal_closeness_vectors_targets[target_idx]\n",
    "        euc_distances_closeness[source_idx].append(distance.euclidean(source_temporal_closeness, target_temporal_closeness))\n",
    "    \n",
    "    # TODO: do the graph matching for closeness\n",
    "    #rank vectors with index ranking based on euclidean distance\n",
    "    ranking_tcms = ...\n",
    "\n",
    "\n",
    "    #source_GNN = GNN_vectors_sources[source_idx]\n",
    "    # TODO: do the graph matching for GNN\n",
    "    ranking_gnn = ...\n",
    "\n",
    "    # TODO: compare both matchings and compute a score\n",
    "    matching_score = dcg_score(y_true=ranking_tcms, y_score=ranking_gnn)\n",
    "    matching_scores_GNN_closeness.append(matching_score)\n",
    "# TODO: somehow aggregate the scores and generate a total score (average? histograms?)\n",
    "\n",
    "\n"
   ]
  },
  {
   "cell_type": "code",
   "execution_count": 26,
   "metadata": {},
   "outputs": [
    {
     "data": {
      "text/plain": [
       "1.0019512213675874"
      ]
     },
     "execution_count": 26,
     "metadata": {},
     "output_type": "execute_result"
    }
   ],
   "source": [
    "distance.euclidean(temporal_closeness_vectors_sources[0], temporal_closeness_vectors_targets[0])"
   ]
  },
  {
   "cell_type": "code",
   "execution_count": 27,
   "metadata": {},
   "outputs": [
    {
     "data": {
      "text/plain": [
       "array([[0. , 0. , 0. , 0. , 0. , 0. , 0. , 0. , 0. , 0. , 0. , 0. , 0. ,\n",
       "        1. , 0. , 0. , 0. ],\n",
       "       [0. , 0. , 0. , 0. , 0. , 1. , 0. , 0. , 0. , 0. , 0. , 0. , 0. ,\n",
       "        1. , 0. , 0. , 0. ],\n",
       "       [0. , 0. , 0. , 0. , 0. , 0. , 0. , 0. , 0. , 0. , 0. , 0. , 0. ,\n",
       "        1.5, 0. , 0. , 0. ],\n",
       "       [0. , 0. , 0. , 0. , 0. , 1. , 0. , 0. , 0. , 0. , 0. , 0. , 0. ,\n",
       "        1. , 1. , 0. , 0. ],\n",
       "       [0. , 0. , 0. , 0. , 0. , 1.5, 0. , 0. , 0. , 0. , 0. , 0. , 0. ,\n",
       "        1. , 0. , 0. , 0. ]])"
      ]
     },
     "execution_count": 27,
     "metadata": {},
     "output_type": "execute_result"
    }
   ],
   "source": [
    "temporal_closeness_vectors_sources[:5]"
   ]
  },
  {
   "cell_type": "code",
   "execution_count": 28,
   "metadata": {},
   "outputs": [
    {
     "data": {
      "text/plain": [
       "array([[0.        , 0.        , 0.        , 0.0625    , 0.        ,\n",
       "        0.        , 0.        , 0.        , 0.        , 0.        ,\n",
       "        0.        , 0.        , 0.        , 0.        , 0.        ,\n",
       "        0.        , 0.        ],\n",
       "       [0.        , 0.        , 0.        , 0.125     , 0.        ,\n",
       "        0.        , 0.        , 0.06666667, 0.06666667, 0.        ,\n",
       "        0.        , 0.        , 0.        , 0.        , 0.        ,\n",
       "        0.        , 0.06666667],\n",
       "       [0.        , 0.        , 0.        , 0.1875    , 0.        ,\n",
       "        0.        , 0.        , 0.        , 0.        , 0.        ,\n",
       "        0.        , 0.        , 0.        , 0.        , 0.        ,\n",
       "        0.        , 0.13809524],\n",
       "       [0.07692308, 0.        , 0.        , 0.25      , 0.        ,\n",
       "        0.07692308, 0.        , 0.        , 0.07692308, 0.        ,\n",
       "        0.        , 0.        , 0.        , 0.        , 0.        ,\n",
       "        0.        , 0.2047619 ],\n",
       "       [0.16025641, 0.        , 0.        , 0.3125    , 0.        ,\n",
       "        0.07692308, 0.        , 0.        , 0.07692308, 0.        ,\n",
       "        0.        , 0.        , 0.        , 0.        , 0.        ,\n",
       "        0.        , 0.27142857]])"
      ]
     },
     "execution_count": 28,
     "metadata": {},
     "output_type": "execute_result"
    }
   ],
   "source": [
    "temporal_closeness_vectors_targets[:5]"
   ]
  },
  {
   "cell_type": "code",
   "execution_count": 29,
   "metadata": {},
   "outputs": [
    {
     "data": {
      "text/plain": [
       "{0: [1.0019512213675874,\n",
       "  1.0143758343598952,\n",
       "  1.026755348067192,\n",
       "  1.0593294657148287,\n",
       "  1.0994754003353842],\n",
       " 1: [1.4155939566132656,\n",
       "  1.4244150846341572,\n",
       "  1.4332573198084775,\n",
       "  1.4029728304872873,\n",
       "  1.4335271194143833],\n",
       " 2: [1.5013015186830392,\n",
       "  1.5096219173466359,\n",
       "  1.5179678997872716,\n",
       "  1.5401879485737007,\n",
       "  1.5680708389427607],\n",
       " 3: [1.733178077982756,\n",
       "  1.740390281900394,\n",
       "  1.7476345569896987,\n",
       "  1.7228850115679544,\n",
       "  1.747855829894588],\n",
       " 4: [1.8038587112077265,\n",
       "  1.8107894226920294,\n",
       "  1.8177531583756306,\n",
       "  1.7724022359956653,\n",
       "  1.7966849821750674]}"
      ]
     },
     "execution_count": 29,
     "metadata": {},
     "output_type": "execute_result"
    }
   ],
   "source": [
    "euc_distances_closeness"
   ]
  },
  {
   "cell_type": "code",
   "execution_count": null,
   "metadata": {},
   "outputs": [],
   "source": [
    "# TODO: do the same for closeness and degree"
   ]
  },
  {
   "cell_type": "code",
   "execution_count": null,
   "metadata": {},
   "outputs": [],
   "source": [
    "# TODO: compare scores for closeness, betweenness and degree and find out something meaningful (regarding the use cases)"
   ]
  }
 ],
 "metadata": {
  "kernelspec": {
   "display_name": "Python 3.9.13 64-bit",
   "language": "python",
   "name": "python3"
  },
  "language_info": {
   "codemirror_mode": {
    "name": "ipython",
    "version": 3
   },
   "file_extension": ".py",
   "mimetype": "text/x-python",
   "name": "python",
   "nbconvert_exporter": "python",
   "pygments_lexer": "ipython3",
   "version": "3.9.13"
  },
  "orig_nbformat": 4,
  "vscode": {
   "interpreter": {
    "hash": "b0fa6594d8f4cbf19f97940f81e996739fb7646882a419484c72d19e05852a7e"
   }
  }
 },
 "nbformat": 4,
 "nbformat_minor": 2
}
