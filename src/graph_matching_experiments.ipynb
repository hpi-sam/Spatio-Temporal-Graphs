{
 "cells": [
  {
   "cell_type": "markdown",
   "metadata": {},
   "source": [
    "# Experiments for Graph Matching\n",
    "This notebook contains the experiments to compare the graph matching results via embeddings produced by a GNN to graph matching results via embeddings that are represented by temporal centralities. "
   ]
  },
  {
   "cell_type": "code",
   "execution_count": 2,
   "metadata": {},
   "outputs": [],
   "source": [
    "import numpy as np"
   ]
  },
  {
   "cell_type": "code",
   "execution_count": 3,
   "metadata": {},
   "outputs": [],
   "source": [
    "temporal_betweenness_vectors_sources = np.load('../data/temporal_betweenness_vectors_overtime.npy')\n",
    "temporal_closeness_vectors_sources = np.load('../data/temporal_closeness_vectors_overtime.npy')\n",
    "temporal_degree_vectors_sources = np.load('../data/temporal_degree_vectors_overtime.npy')"
   ]
  },
  {
   "cell_type": "code",
   "execution_count": null,
   "metadata": {},
   "outputs": [],
   "source": [
    "# TODO load temporal centralities vectors for targets (by Max)"
   ]
  },
  {
   "cell_type": "code",
   "execution_count": null,
   "metadata": {},
   "outputs": [],
   "source": [
    "# TODO: load encoding vectors from GNN (by Til) for sources and targets"
   ]
  },
  {
   "cell_type": "code",
   "execution_count": null,
   "metadata": {},
   "outputs": [],
   "source": [
    "num_sources = len(temporal_betweenness_vectors_sources)\n",
    "assert len(temporal_closeness_vectors_sources) == len(temporal_degree_vectors_sources) and len(temporal_closeness_vectors_sources) == num_sources\n",
    "# TODO: do the same for targets and other sanity checks"
   ]
  },
  {
   "cell_type": "markdown",
   "metadata": {},
   "source": [
    "## Comparison of GNN to temporal betweenness"
   ]
  },
  {
   "cell_type": "code",
   "execution_count": null,
   "metadata": {},
   "outputs": [],
   "source": [
    "# TODO: do the graph matching ranking (as Til implemented), compare rankings of GNN and TCMs (comparison of top-k via DCG where the TCM is the truth?)\n",
    "matching_scores_GNN_betweenness = []\n",
    "\n",
    "for source_idx in range(num_sources):\n",
    "    source_temporal_betweenness = temporal_betweenness_vectors_sources[source_idx]\n",
    "    # TODO: do the graph matching for betweenness\n",
    "\n",
    "    source_GNN = GNN_vectors_sources[source_idx]\n",
    "    # TODO: do the graph matching for GNN\n",
    "\n",
    "    # TODO: compare both matchings and compute a score\n",
    "    matching_scores_GNN_betweenness.append(score)\n",
    "# TODO: somehow aggregate the scores and generate a total score (average? histograms?)\n",
    "\n"
   ]
  },
  {
   "cell_type": "code",
   "execution_count": null,
   "metadata": {},
   "outputs": [],
   "source": [
    "# TODO: do the same for closeness and degree"
   ]
  },
  {
   "cell_type": "code",
   "execution_count": null,
   "metadata": {},
   "outputs": [],
   "source": [
    "# TODO: compare scores for closeness, betweenness and degree and find out something meaningful (regarding the use cases)"
   ]
  }
 ],
 "metadata": {
  "kernelspec": {
   "display_name": "Python 3.9.12",
   "language": "python",
   "name": "python3"
  },
  "language_info": {
   "codemirror_mode": {
    "name": "ipython",
    "version": 3
   },
   "file_extension": ".py",
   "mimetype": "text/x-python",
   "name": "python",
   "nbconvert_exporter": "python",
   "pygments_lexer": "ipython3",
   "version": "3.9.12"
  },
  "orig_nbformat": 4,
  "vscode": {
   "interpreter": {
    "hash": "e4b127629bab3ca549ba9d8b9f69e25c2502f541bc04342ce8df183608b3b649"
   }
  }
 },
 "nbformat": 4,
 "nbformat_minor": 2
}
