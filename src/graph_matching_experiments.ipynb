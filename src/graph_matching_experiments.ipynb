{
 "cells": [
  {
   "cell_type": "markdown",
   "metadata": {},
   "source": [
    "# Experiments for Graph Matching\n",
    "This notebook contains the experiments to compare the graph matching results via embeddings produced by a GNN to graph matching results via embeddings that are represented by temporal centralities. "
   ]
  },
  {
   "cell_type": "code",
   "execution_count": 1,
   "metadata": {},
   "outputs": [],
   "source": [
    "import numpy as np"
   ]
  },
  {
   "cell_type": "code",
   "execution_count": 2,
   "metadata": {},
   "outputs": [],
   "source": [
    "temporal_betweenness_vectors_sources = np.load('../data/temporal_betweenness_vectors_overtime.npy')\n",
    "temporal_closeness_vectors_sources = np.load('../data/temporal_closeness_vectors_overtime.npy')\n",
    "temporal_degree_vectors_sources = np.load('../data/temporal_degree_vectors_overtime.npy')"
   ]
  },
  {
   "cell_type": "code",
   "execution_count": 3,
   "metadata": {},
   "outputs": [],
   "source": [
    "temporal_betweenness_vectors_targets = np.load('artificial-graph-generation/generated/temporal_betweennesses_unique.npy')\n",
    "temporal_closeness_vectors_targets = np.load('artificial-graph-generation/generated/temporal_closenesses_unique.npy')\n",
    "temporal_degree_vectors_targets = np.load('artificial-graph-generation/generated/temporal_degrees_unique.npy')"
   ]
  },
  {
   "cell_type": "code",
   "execution_count": 4,
   "metadata": {},
   "outputs": [],
   "source": [
    "source_encodings = np.load(\"../data/anomaly_source_embeddings_17_dims_30_epochs.npy\")\n",
    "target_encodings = np.load(\"../data/anomaly_target_embeddings_17_dims_30_epochs.npy\")"
   ]
  },
  {
   "cell_type": "code",
   "execution_count": 5,
   "metadata": {},
   "outputs": [],
   "source": [
    "num_sources = len(temporal_betweenness_vectors_sources)\n",
    "assert len(temporal_closeness_vectors_sources) == len(temporal_degree_vectors_sources) and len(temporal_closeness_vectors_sources) == num_sources\n",
    "num_targets = len(temporal_betweenness_vectors_targets)\n",
    "assert len(temporal_closeness_vectors_targets) == len(temporal_degree_vectors_targets) and len(temporal_closeness_vectors_targets) == num_targets\n"
   ]
  },
  {
   "cell_type": "markdown",
   "metadata": {},
   "source": [
    "## Comparison of GNN to temporal betweenness"
   ]
  },
  {
   "cell_type": "code",
   "execution_count": 7,
   "metadata": {},
   "outputs": [],
   "source": [
    "from scipy.spatial import distance\n",
    "from tqdm import tqdm\n",
    "from sklearn.metrics import dcg_score"
   ]
  },
  {
   "cell_type": "code",
   "execution_count": 9,
   "metadata": {},
   "outputs": [
    {
     "name": "stderr",
     "output_type": "stream",
     "text": [
      "  0%|          | 72/18312 [00:54<3:48:01,  1.33it/s]\n"
     ]
    },
    {
     "ename": "KeyboardInterrupt",
     "evalue": "",
     "output_type": "error",
     "traceback": [
      "\u001b[0;31m---------------------------------------------------------------------------\u001b[0m",
      "\u001b[0;31mKeyboardInterrupt\u001b[0m                         Traceback (most recent call last)",
      "\u001b[1;32m/Users/lisa/Documents/GitHub/Spatio-Temporal-Graphs/src/graph_matching_experiments.ipynb Cell 9\u001b[0m in \u001b[0;36m<cell line: 4>\u001b[0;34m()\u001b[0m\n\u001b[1;32m      <a href='vscode-notebook-cell:/Users/lisa/Documents/GitHub/Spatio-Temporal-Graphs/src/graph_matching_experiments.ipynb#X11sZmlsZQ%3D%3D?line=4'>5</a>\u001b[0m     temporal_closeness_distances\u001b[39m.\u001b[39mappend([])\n\u001b[1;32m      <a href='vscode-notebook-cell:/Users/lisa/Documents/GitHub/Spatio-Temporal-Graphs/src/graph_matching_experiments.ipynb#X11sZmlsZQ%3D%3D?line=5'>6</a>\u001b[0m     \u001b[39mfor\u001b[39;00m j \u001b[39min\u001b[39;00m \u001b[39mrange\u001b[39m(num_targets):\n\u001b[0;32m----> <a href='vscode-notebook-cell:/Users/lisa/Documents/GitHub/Spatio-Temporal-Graphs/src/graph_matching_experiments.ipynb#X11sZmlsZQ%3D%3D?line=6'>7</a>\u001b[0m         temporal_closeness_distances[\u001b[39m-\u001b[39m\u001b[39m1\u001b[39m]\u001b[39m.\u001b[39mappend(distance\u001b[39m.\u001b[39;49meuclidean(temporal_closeness_vectors_sources[i], temporal_closeness_vectors_targets[j]))\n\u001b[1;32m      <a href='vscode-notebook-cell:/Users/lisa/Documents/GitHub/Spatio-Temporal-Graphs/src/graph_matching_experiments.ipynb#X11sZmlsZQ%3D%3D?line=7'>8</a>\u001b[0m     temporal_closeness_rankings\u001b[39m.\u001b[39mappend(np\u001b[39m.\u001b[39margsort(temporal_closeness_distances[\u001b[39m-\u001b[39m\u001b[39m1\u001b[39m]))\n\u001b[1;32m     <a href='vscode-notebook-cell:/Users/lisa/Documents/GitHub/Spatio-Temporal-Graphs/src/graph_matching_experiments.ipynb#X11sZmlsZQ%3D%3D?line=9'>10</a>\u001b[0m \u001b[39m# Embeddings\u001b[39;00m\n",
      "File \u001b[0;32m~/opt/anaconda3/envs/graphs_ml/lib/python3.9/site-packages/scipy/spatial/distance.py:597\u001b[0m, in \u001b[0;36meuclidean\u001b[0;34m(u, v, w)\u001b[0m\n\u001b[1;32m    561\u001b[0m \u001b[39mdef\u001b[39;00m \u001b[39meuclidean\u001b[39m(u, v, w\u001b[39m=\u001b[39m\u001b[39mNone\u001b[39;00m):\n\u001b[1;32m    562\u001b[0m     \u001b[39m\"\"\"\u001b[39;00m\n\u001b[1;32m    563\u001b[0m \u001b[39m    Computes the Euclidean distance between two 1-D arrays.\u001b[39;00m\n\u001b[1;32m    564\u001b[0m \n\u001b[0;32m   (...)\u001b[0m\n\u001b[1;32m    595\u001b[0m \n\u001b[1;32m    596\u001b[0m \u001b[39m    \"\"\"\u001b[39;00m\n\u001b[0;32m--> 597\u001b[0m     \u001b[39mreturn\u001b[39;00m minkowski(u, v, p\u001b[39m=\u001b[39;49m\u001b[39m2\u001b[39;49m, w\u001b[39m=\u001b[39;49mw)\n",
      "File \u001b[0;32m~/opt/anaconda3/envs/graphs_ml/lib/python3.9/site-packages/scipy/spatial/distance.py:501\u001b[0m, in \u001b[0;36mminkowski\u001b[0;34m(u, v, p, w)\u001b[0m\n\u001b[1;32m    499\u001b[0m         root_w \u001b[39m=\u001b[39m np\u001b[39m.\u001b[39mpower(w, \u001b[39m1\u001b[39m\u001b[39m/\u001b[39mp)\n\u001b[1;32m    500\u001b[0m     u_v \u001b[39m=\u001b[39m root_w \u001b[39m*\u001b[39m u_v\n\u001b[0;32m--> 501\u001b[0m dist \u001b[39m=\u001b[39m norm(u_v, \u001b[39mord\u001b[39;49m\u001b[39m=\u001b[39;49mp)\n\u001b[1;32m    502\u001b[0m \u001b[39mreturn\u001b[39;00m dist\n",
      "File \u001b[0;32m~/opt/anaconda3/envs/graphs_ml/lib/python3.9/site-packages/scipy/linalg/misc.py:145\u001b[0m, in \u001b[0;36mnorm\u001b[0;34m(a, ord, axis, keepdims, check_finite)\u001b[0m\n\u001b[1;32m    143\u001b[0m \u001b[39m# Differs from numpy only in non-finite handling and the use of blas.\u001b[39;00m\n\u001b[1;32m    144\u001b[0m \u001b[39mif\u001b[39;00m check_finite:\n\u001b[0;32m--> 145\u001b[0m     a \u001b[39m=\u001b[39m np\u001b[39m.\u001b[39;49masarray_chkfinite(a)\n\u001b[1;32m    146\u001b[0m \u001b[39melse\u001b[39;00m:\n\u001b[1;32m    147\u001b[0m     a \u001b[39m=\u001b[39m np\u001b[39m.\u001b[39masarray(a)\n",
      "File \u001b[0;32m~/opt/anaconda3/envs/graphs_ml/lib/python3.9/site-packages/numpy/lib/function_base.py:602\u001b[0m, in \u001b[0;36masarray_chkfinite\u001b[0;34m(a, dtype, order)\u001b[0m\n\u001b[1;32m    539\u001b[0m \u001b[39m\"\"\"Convert the input to an array, checking for NaNs or Infs.\u001b[39;00m\n\u001b[1;32m    540\u001b[0m \n\u001b[1;32m    541\u001b[0m \u001b[39mParameters\u001b[39;00m\n\u001b[0;32m   (...)\u001b[0m\n\u001b[1;32m    599\u001b[0m \n\u001b[1;32m    600\u001b[0m \u001b[39m\"\"\"\u001b[39;00m\n\u001b[1;32m    601\u001b[0m a \u001b[39m=\u001b[39m asarray(a, dtype\u001b[39m=\u001b[39mdtype, order\u001b[39m=\u001b[39morder)\n\u001b[0;32m--> 602\u001b[0m \u001b[39mif\u001b[39;00m a\u001b[39m.\u001b[39mdtype\u001b[39m.\u001b[39mchar \u001b[39min\u001b[39;00m typecodes[\u001b[39m'\u001b[39m\u001b[39mAllFloat\u001b[39m\u001b[39m'\u001b[39m] \u001b[39mand\u001b[39;00m \u001b[39mnot\u001b[39;00m np\u001b[39m.\u001b[39;49misfinite(a)\u001b[39m.\u001b[39;49mall():\n\u001b[1;32m    603\u001b[0m     \u001b[39mraise\u001b[39;00m \u001b[39mValueError\u001b[39;00m(\n\u001b[1;32m    604\u001b[0m         \u001b[39m\"\u001b[39m\u001b[39marray must not contain infs or NaNs\u001b[39m\u001b[39m\"\u001b[39m)\n\u001b[1;32m    605\u001b[0m \u001b[39mreturn\u001b[39;00m a\n",
      "File \u001b[0;32m~/opt/anaconda3/envs/graphs_ml/lib/python3.9/site-packages/numpy/core/_methods.py:63\u001b[0m, in \u001b[0;36m_all\u001b[0;34m(a, axis, dtype, out, keepdims, where)\u001b[0m\n\u001b[1;32m     60\u001b[0m \u001b[39mdef\u001b[39;00m \u001b[39m_all\u001b[39m(a, axis\u001b[39m=\u001b[39m\u001b[39mNone\u001b[39;00m, dtype\u001b[39m=\u001b[39m\u001b[39mNone\u001b[39;00m, out\u001b[39m=\u001b[39m\u001b[39mNone\u001b[39;00m, keepdims\u001b[39m=\u001b[39m\u001b[39mFalse\u001b[39;00m, \u001b[39m*\u001b[39m, where\u001b[39m=\u001b[39m\u001b[39mTrue\u001b[39;00m):\n\u001b[1;32m     61\u001b[0m     \u001b[39m# Parsing keyword arguments is currently fairly slow, so avoid it for now\u001b[39;00m\n\u001b[1;32m     62\u001b[0m     \u001b[39mif\u001b[39;00m where \u001b[39mis\u001b[39;00m \u001b[39mTrue\u001b[39;00m:\n\u001b[0;32m---> 63\u001b[0m         \u001b[39mreturn\u001b[39;00m umr_all(a, axis, dtype, out, keepdims)\n\u001b[1;32m     64\u001b[0m     \u001b[39mreturn\u001b[39;00m umr_all(a, axis, dtype, out, keepdims, where\u001b[39m=\u001b[39mwhere)\n",
      "\u001b[0;31mKeyboardInterrupt\u001b[0m: "
     ]
    }
   ],
   "source": [
    "# Temporal closeness\n",
    "temporal_closeness_distances = []\n",
    "temporal_closeness_rankings = []\n",
    "for i in tqdm(range(num_sources)):\n",
    "    temporal_closeness_distances.append([])\n",
    "    for j in range(num_targets):\n",
    "        temporal_closeness_distances[-1].append(distance.euclidean(temporal_closeness_vectors_sources[i], temporal_closeness_vectors_targets[j]))\n",
    "    temporal_closeness_rankings.append(np.argsort(temporal_closeness_distances[-1]))\n",
    "\n",
    "# Embeddings\n",
    "embedding_distances = []\n",
    "embedding_rankings = []\n",
    "for i in tqdm(range(num_sources)):\n",
    "    embedding_distances.append([])\n",
    "    for j in range(num_targets):\n",
    "        embedding_distances[-1].append(distance.euclidean(source_encodings[i], target_encodings[j]))\n",
    "        embedding_rankings.append(np.argsort(embedding_distances[-1]))\n",
    "\n",
    "scores = []\n",
    "for i in tqdm(range(num_sources)):\n",
    "    scores.append(dcg_score(temporal_closeness_rankings[i], embedding_rankings[i]))"
   ]
  },
  {
   "cell_type": "code",
   "execution_count": null,
   "metadata": {},
   "outputs": [],
   "source": [
    "# TODO: do the graph matching ranking (as Til implemented), compare rankings of GNN and TCMs (comparison of top-k via DCG where the TCM is the truth?)\n",
    "matching_scores_GNN_betweenness = []\n",
    "euc_distances_betweenness = {}\n",
    "\n",
    "for source_idx in tqdm(range(5)):\n",
    "    source_temporal_closeness = temporal_closeness_vectors_sources[source_idx]\n",
    "    #source_GNN = ...\n",
    "    euc_distances_betweenness[source_idx] = []\n",
    "\n",
    "    for target_idx in range(5):\n",
    "        target_temporal_betweenness = temporal_betweenness_vectors_targets[target_idx]\n",
    "        #NearestNeighbors(n_neighbors) = \n",
    "        euc_distances_betweenness[source_idx].append(distance.euclidean(temporal_betweenness_vectors_sources, target_temporal_betweenness))\n",
    "        \n",
    "        \n",
    "\n",
    "    #source_GNN = GNN_vectors_sources[source_idx]\n",
    "    # TODO: do the graph matching for GNN\n",
    "\n",
    "    # TODO: compare both matchings and compute a score\n",
    "    #matching_scores_GNN_betweenness.append(score)\n",
    "# TODO: somehow aggregate the scores and generate a total score (average? histograms?)\n",
    "\n"
   ]
  },
  {
   "cell_type": "code",
   "execution_count": 25,
   "metadata": {},
   "outputs": [
    {
     "name": "stderr",
     "output_type": "stream",
     "text": [
      "100%|██████████| 5/5 [00:00<00:00, 3342.07it/s]\n"
     ]
    }
   ],
   "source": [
    "# TODO: do the graph matching ranking (as Til implemented), compare rankings of GNN and TCMs (comparison of top-k via DCG where the TCM is the truth?)\n",
    "matching_scores_GNN_closeness = []\n",
    "euc_distances_closeness = {}\n",
    "\n",
    "\n",
    "\n",
    "\n",
    "for source_idx in tqdm(range(5)):\n",
    "    source_temporal_closeness = temporal_closeness_vectors_sources[source_idx]\n",
    "    #source_GNN = ...\n",
    "    euc_distances_closeness[source_idx] = []\n",
    "\n",
    "    for target_idx in range(5):\n",
    "        target_temporal_closeness = temporal_closeness_vectors_targets[target_idx]\n",
    "        euc_distances_closeness[source_idx].append(distance.euclidean(source_temporal_closeness, target_temporal_closeness))\n",
    "    \n",
    "    # TODO: do the graph matching for closeness\n",
    "    #rank vectors with index ranking based on euclidean distance\n",
    "    ranking_tcms = ...\n",
    "\n",
    "\n",
    "    #source_GNN = GNN_vectors_sources[source_idx]\n",
    "    # TODO: do the graph matching for GNN\n",
    "    ranking_gnn = ...\n",
    "\n",
    "    # TODO: compare both matchings and compute a score\n",
    "    matching_score = dcg_score(y_true=ranking_tcms, y_score=ranking_gnn)\n",
    "    matching_scores_GNN_closeness.append(matching_score)\n",
    "# TODO: somehow aggregate the scores and generate a total score (average? histograms?)\n",
    "\n",
    "\n"
   ]
  },
  {
   "cell_type": "code",
   "execution_count": 26,
   "metadata": {},
   "outputs": [
    {
     "data": {
      "text/plain": [
       "1.0019512213675874"
      ]
     },
     "execution_count": 26,
     "metadata": {},
     "output_type": "execute_result"
    }
   ],
   "source": [
    "distance.euclidean(temporal_closeness_vectors_sources[0], temporal_closeness_vectors_targets[0])"
   ]
  },
  {
   "cell_type": "code",
   "execution_count": 27,
   "metadata": {},
   "outputs": [
    {
     "data": {
      "text/plain": [
       "array([[0. , 0. , 0. , 0. , 0. , 0. , 0. , 0. , 0. , 0. , 0. , 0. , 0. ,\n",
       "        1. , 0. , 0. , 0. ],\n",
       "       [0. , 0. , 0. , 0. , 0. , 1. , 0. , 0. , 0. , 0. , 0. , 0. , 0. ,\n",
       "        1. , 0. , 0. , 0. ],\n",
       "       [0. , 0. , 0. , 0. , 0. , 0. , 0. , 0. , 0. , 0. , 0. , 0. , 0. ,\n",
       "        1.5, 0. , 0. , 0. ],\n",
       "       [0. , 0. , 0. , 0. , 0. , 1. , 0. , 0. , 0. , 0. , 0. , 0. , 0. ,\n",
       "        1. , 1. , 0. , 0. ],\n",
       "       [0. , 0. , 0. , 0. , 0. , 1.5, 0. , 0. , 0. , 0. , 0. , 0. , 0. ,\n",
       "        1. , 0. , 0. , 0. ]])"
      ]
     },
     "execution_count": 27,
     "metadata": {},
     "output_type": "execute_result"
    }
   ],
   "source": [
    "temporal_closeness_vectors_sources[:5]"
   ]
  },
  {
   "cell_type": "code",
   "execution_count": 28,
   "metadata": {},
   "outputs": [
    {
     "data": {
      "text/plain": [
       "array([[0.        , 0.        , 0.        , 0.0625    , 0.        ,\n",
       "        0.        , 0.        , 0.        , 0.        , 0.        ,\n",
       "        0.        , 0.        , 0.        , 0.        , 0.        ,\n",
       "        0.        , 0.        ],\n",
       "       [0.        , 0.        , 0.        , 0.125     , 0.        ,\n",
       "        0.        , 0.        , 0.06666667, 0.06666667, 0.        ,\n",
       "        0.        , 0.        , 0.        , 0.        , 0.        ,\n",
       "        0.        , 0.06666667],\n",
       "       [0.        , 0.        , 0.        , 0.1875    , 0.        ,\n",
       "        0.        , 0.        , 0.        , 0.        , 0.        ,\n",
       "        0.        , 0.        , 0.        , 0.        , 0.        ,\n",
       "        0.        , 0.13809524],\n",
       "       [0.07692308, 0.        , 0.        , 0.25      , 0.        ,\n",
       "        0.07692308, 0.        , 0.        , 0.07692308, 0.        ,\n",
       "        0.        , 0.        , 0.        , 0.        , 0.        ,\n",
       "        0.        , 0.2047619 ],\n",
       "       [0.16025641, 0.        , 0.        , 0.3125    , 0.        ,\n",
       "        0.07692308, 0.        , 0.        , 0.07692308, 0.        ,\n",
       "        0.        , 0.        , 0.        , 0.        , 0.        ,\n",
       "        0.        , 0.27142857]])"
      ]
     },
     "execution_count": 28,
     "metadata": {},
     "output_type": "execute_result"
    }
   ],
   "source": [
    "temporal_closeness_vectors_targets[:5]"
   ]
  },
  {
   "cell_type": "code",
   "execution_count": 29,
   "metadata": {},
   "outputs": [
    {
     "data": {
      "text/plain": [
       "{0: [1.0019512213675874,\n",
       "  1.0143758343598952,\n",
       "  1.026755348067192,\n",
       "  1.0593294657148287,\n",
       "  1.0994754003353842],\n",
       " 1: [1.4155939566132656,\n",
       "  1.4244150846341572,\n",
       "  1.4332573198084775,\n",
       "  1.4029728304872873,\n",
       "  1.4335271194143833],\n",
       " 2: [1.5013015186830392,\n",
       "  1.5096219173466359,\n",
       "  1.5179678997872716,\n",
       "  1.5401879485737007,\n",
       "  1.5680708389427607],\n",
       " 3: [1.733178077982756,\n",
       "  1.740390281900394,\n",
       "  1.7476345569896987,\n",
       "  1.7228850115679544,\n",
       "  1.747855829894588],\n",
       " 4: [1.8038587112077265,\n",
       "  1.8107894226920294,\n",
       "  1.8177531583756306,\n",
       "  1.7724022359956653,\n",
       "  1.7966849821750674]}"
      ]
     },
     "execution_count": 29,
     "metadata": {},
     "output_type": "execute_result"
    }
   ],
   "source": [
    "euc_distances_closeness"
   ]
  },
  {
   "cell_type": "code",
   "execution_count": null,
   "metadata": {},
   "outputs": [],
   "source": [
    "# TODO: do the same for closeness and degree"
   ]
  },
  {
   "cell_type": "code",
   "execution_count": null,
   "metadata": {},
   "outputs": [],
   "source": [
    "# TODO: compare scores for closeness, betweenness and degree and find out something meaningful (regarding the use cases)"
   ]
  }
 ],
 "metadata": {
  "kernelspec": {
   "display_name": "Python 3.9.0 ('graphs_ml')",
   "language": "python",
   "name": "python3"
  },
  "language_info": {
   "codemirror_mode": {
    "name": "ipython",
    "version": 3
   },
   "file_extension": ".py",
   "mimetype": "text/x-python",
   "name": "python",
   "nbconvert_exporter": "python",
   "pygments_lexer": "ipython3",
   "version": "3.9.0"
  },
  "orig_nbformat": 4,
  "vscode": {
   "interpreter": {
    "hash": "d29e24484652cf81adbd39cba5ca18d14ce256afd8a74e36b8d095905f91e803"
   }
  }
 },
 "nbformat": 4,
 "nbformat_minor": 2
}
