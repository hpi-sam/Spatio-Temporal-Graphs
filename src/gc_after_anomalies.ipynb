{
 "cells": [
  {
   "cell_type": "markdown",
   "metadata": {},
   "source": [
    "# WP1 - Anomaly subgraph extraction: Finding anomalies"
   ]
  },
  {
   "cell_type": "code",
   "execution_count": 7,
   "metadata": {},
   "outputs": [],
   "source": [
    "import py2neo\n",
    "import pandas as pd\n",
    "import numpy as np\n",
    "from spot import bidSPOT, dSPOT,  SPOT\n",
    "import traceback\n",
    "from statsmodels.tsa.stattools import grangercausalitytests"
   ]
  },
  {
   "cell_type": "code",
   "execution_count": 3,
   "metadata": {},
   "outputs": [],
   "source": [
    "graph = py2neo.Graph(\"bolt://192.168.1.185:7687\", auth=(\"neo4j\", \"hpi\"))"
   ]
  },
  {
   "cell_type": "code",
   "execution_count": 6,
   "metadata": {},
   "outputs": [
    {
     "data": {
      "text/html": [
       "<div>\n",
       "<style scoped>\n",
       "    .dataframe tbody tr th:only-of-type {\n",
       "        vertical-align: middle;\n",
       "    }\n",
       "\n",
       "    .dataframe tbody tr th {\n",
       "        vertical-align: top;\n",
       "    }\n",
       "\n",
       "    .dataframe thead th {\n",
       "        text-align: right;\n",
       "    }\n",
       "</style>\n",
       "<table border=\"1\" class=\"dataframe\">\n",
       "  <thead>\n",
       "    <tr style=\"text-align: right;\">\n",
       "      <th></th>\n",
       "      <th>Time</th>\n",
       "      <th>carts</th>\n",
       "      <th>carts-db</th>\n",
       "      <th>catalogue</th>\n",
       "      <th>catalogue-db</th>\n",
       "      <th>front-end</th>\n",
       "      <th>orders</th>\n",
       "      <th>orders-db</th>\n",
       "      <th>payment</th>\n",
       "      <th>queue-master</th>\n",
       "      <th>rabbitmq</th>\n",
       "      <th>session-db</th>\n",
       "      <th>shipping</th>\n",
       "      <th>user</th>\n",
       "      <th>user-db</th>\n",
       "      <th>Date</th>\n",
       "    </tr>\n",
       "  </thead>\n",
       "  <tbody>\n",
       "    <tr>\n",
       "      <th>674</th>\n",
       "      <td>11:27</td>\n",
       "      <td>0.00245</td>\n",
       "      <td>0.00824</td>\n",
       "      <td>0.00129</td>\n",
       "      <td>0.001150</td>\n",
       "      <td>0.00313</td>\n",
       "      <td>0.00260</td>\n",
       "      <td>0.00901</td>\n",
       "      <td>0.001250</td>\n",
       "      <td>0.00254</td>\n",
       "      <td>0.0145</td>\n",
       "      <td>0.00232</td>\n",
       "      <td>0.00223</td>\n",
       "      <td>0.00178</td>\n",
       "      <td>0.00942</td>\n",
       "      <td>10/14/2021</td>\n",
       "    </tr>\n",
       "    <tr>\n",
       "      <th>675</th>\n",
       "      <td>11:28</td>\n",
       "      <td>0.00279</td>\n",
       "      <td>0.01020</td>\n",
       "      <td>0.00128</td>\n",
       "      <td>0.001080</td>\n",
       "      <td>0.00352</td>\n",
       "      <td>0.00273</td>\n",
       "      <td>0.00974</td>\n",
       "      <td>0.001310</td>\n",
       "      <td>0.00249</td>\n",
       "      <td>0.0136</td>\n",
       "      <td>0.00268</td>\n",
       "      <td>0.00235</td>\n",
       "      <td>0.00191</td>\n",
       "      <td>0.01060</td>\n",
       "      <td>10/14/2021</td>\n",
       "    </tr>\n",
       "    <tr>\n",
       "      <th>676</th>\n",
       "      <td>11:29</td>\n",
       "      <td>0.00345</td>\n",
       "      <td>0.00929</td>\n",
       "      <td>0.00140</td>\n",
       "      <td>0.001180</td>\n",
       "      <td>0.00379</td>\n",
       "      <td>0.00262</td>\n",
       "      <td>0.00938</td>\n",
       "      <td>0.001370</td>\n",
       "      <td>0.00329</td>\n",
       "      <td>0.0132</td>\n",
       "      <td>0.00260</td>\n",
       "      <td>0.00214</td>\n",
       "      <td>0.00198</td>\n",
       "      <td>0.01020</td>\n",
       "      <td>10/14/2021</td>\n",
       "    </tr>\n",
       "    <tr>\n",
       "      <th>677</th>\n",
       "      <td>11:30</td>\n",
       "      <td>0.00233</td>\n",
       "      <td>0.00890</td>\n",
       "      <td>0.00108</td>\n",
       "      <td>0.001120</td>\n",
       "      <td>0.00343</td>\n",
       "      <td>0.00227</td>\n",
       "      <td>0.00783</td>\n",
       "      <td>0.001300</td>\n",
       "      <td>0.00239</td>\n",
       "      <td>0.0113</td>\n",
       "      <td>0.00223</td>\n",
       "      <td>0.00221</td>\n",
       "      <td>0.00173</td>\n",
       "      <td>0.00869</td>\n",
       "      <td>10/14/2021</td>\n",
       "    </tr>\n",
       "    <tr>\n",
       "      <th>678</th>\n",
       "      <td>11:31</td>\n",
       "      <td>0.00421</td>\n",
       "      <td>0.00914</td>\n",
       "      <td>0.00148</td>\n",
       "      <td>0.001380</td>\n",
       "      <td>0.00405</td>\n",
       "      <td>0.00297</td>\n",
       "      <td>0.00980</td>\n",
       "      <td>0.001410</td>\n",
       "      <td>0.00250</td>\n",
       "      <td>0.0127</td>\n",
       "      <td>0.00259</td>\n",
       "      <td>0.00234</td>\n",
       "      <td>0.00233</td>\n",
       "      <td>0.01030</td>\n",
       "      <td>10/14/2021</td>\n",
       "    </tr>\n",
       "    <tr>\n",
       "      <th>...</th>\n",
       "      <td>...</td>\n",
       "      <td>...</td>\n",
       "      <td>...</td>\n",
       "      <td>...</td>\n",
       "      <td>...</td>\n",
       "      <td>...</td>\n",
       "      <td>...</td>\n",
       "      <td>...</td>\n",
       "      <td>...</td>\n",
       "      <td>...</td>\n",
       "      <td>...</td>\n",
       "      <td>...</td>\n",
       "      <td>...</td>\n",
       "      <td>...</td>\n",
       "      <td>...</td>\n",
       "      <td>...</td>\n",
       "    </tr>\n",
       "    <tr>\n",
       "      <th>527</th>\n",
       "      <td>20:33</td>\n",
       "      <td>0.00312</td>\n",
       "      <td>0.01000</td>\n",
       "      <td>0.00139</td>\n",
       "      <td>0.000967</td>\n",
       "      <td>0.00300</td>\n",
       "      <td>0.00320</td>\n",
       "      <td>0.00924</td>\n",
       "      <td>0.001150</td>\n",
       "      <td>0.00214</td>\n",
       "      <td>0.0152</td>\n",
       "      <td>0.00238</td>\n",
       "      <td>0.00187</td>\n",
       "      <td>0.00234</td>\n",
       "      <td>0.00920</td>\n",
       "      <td>3/2/2022</td>\n",
       "    </tr>\n",
       "    <tr>\n",
       "      <th>528</th>\n",
       "      <td>20:34</td>\n",
       "      <td>0.00252</td>\n",
       "      <td>0.01080</td>\n",
       "      <td>0.00116</td>\n",
       "      <td>0.001060</td>\n",
       "      <td>0.00311</td>\n",
       "      <td>0.00259</td>\n",
       "      <td>0.01050</td>\n",
       "      <td>0.001480</td>\n",
       "      <td>0.00210</td>\n",
       "      <td>0.0118</td>\n",
       "      <td>0.00260</td>\n",
       "      <td>0.00220</td>\n",
       "      <td>0.00195</td>\n",
       "      <td>0.00965</td>\n",
       "      <td>3/2/2022</td>\n",
       "    </tr>\n",
       "    <tr>\n",
       "      <th>529</th>\n",
       "      <td>20:35</td>\n",
       "      <td>0.00311</td>\n",
       "      <td>0.01030</td>\n",
       "      <td>0.00134</td>\n",
       "      <td>0.001460</td>\n",
       "      <td>0.00366</td>\n",
       "      <td>0.00278</td>\n",
       "      <td>0.01060</td>\n",
       "      <td>0.001330</td>\n",
       "      <td>0.00222</td>\n",
       "      <td>0.0122</td>\n",
       "      <td>0.00247</td>\n",
       "      <td>0.00271</td>\n",
       "      <td>0.00237</td>\n",
       "      <td>0.01090</td>\n",
       "      <td>3/2/2022</td>\n",
       "    </tr>\n",
       "    <tr>\n",
       "      <th>530</th>\n",
       "      <td>20:36</td>\n",
       "      <td>0.00220</td>\n",
       "      <td>0.01030</td>\n",
       "      <td>0.00102</td>\n",
       "      <td>0.000994</td>\n",
       "      <td>0.00334</td>\n",
       "      <td>0.00458</td>\n",
       "      <td>0.00998</td>\n",
       "      <td>0.000969</td>\n",
       "      <td>0.00222</td>\n",
       "      <td>0.0128</td>\n",
       "      <td>0.00241</td>\n",
       "      <td>0.00213</td>\n",
       "      <td>0.00180</td>\n",
       "      <td>0.00955</td>\n",
       "      <td>3/2/2022</td>\n",
       "    </tr>\n",
       "    <tr>\n",
       "      <th>531</th>\n",
       "      <td>20:37</td>\n",
       "      <td>0.00240</td>\n",
       "      <td>0.00999</td>\n",
       "      <td>0.00109</td>\n",
       "      <td>0.001170</td>\n",
       "      <td>0.00322</td>\n",
       "      <td>0.00273</td>\n",
       "      <td>0.00947</td>\n",
       "      <td>0.001190</td>\n",
       "      <td>0.00221</td>\n",
       "      <td>0.0131</td>\n",
       "      <td>0.00240</td>\n",
       "      <td>0.00218</td>\n",
       "      <td>0.00207</td>\n",
       "      <td>0.00923</td>\n",
       "      <td>3/2/2022</td>\n",
       "    </tr>\n",
       "  </tbody>\n",
       "</table>\n",
       "<p>813 rows × 16 columns</p>\n",
       "</div>"
      ],
      "text/plain": [
       "      Time    carts  carts-db  catalogue  catalogue-db  front-end   orders  \\\n",
       "674  11:27  0.00245   0.00824    0.00129      0.001150    0.00313  0.00260   \n",
       "675  11:28  0.00279   0.01020    0.00128      0.001080    0.00352  0.00273   \n",
       "676  11:29  0.00345   0.00929    0.00140      0.001180    0.00379  0.00262   \n",
       "677  11:30  0.00233   0.00890    0.00108      0.001120    0.00343  0.00227   \n",
       "678  11:31  0.00421   0.00914    0.00148      0.001380    0.00405  0.00297   \n",
       "..     ...      ...       ...        ...           ...        ...      ...   \n",
       "527  20:33  0.00312   0.01000    0.00139      0.000967    0.00300  0.00320   \n",
       "528  20:34  0.00252   0.01080    0.00116      0.001060    0.00311  0.00259   \n",
       "529  20:35  0.00311   0.01030    0.00134      0.001460    0.00366  0.00278   \n",
       "530  20:36  0.00220   0.01030    0.00102      0.000994    0.00334  0.00458   \n",
       "531  20:37  0.00240   0.00999    0.00109      0.001170    0.00322  0.00273   \n",
       "\n",
       "     orders-db   payment  queue-master  rabbitmq  session-db  shipping  \\\n",
       "674    0.00901  0.001250       0.00254    0.0145     0.00232   0.00223   \n",
       "675    0.00974  0.001310       0.00249    0.0136     0.00268   0.00235   \n",
       "676    0.00938  0.001370       0.00329    0.0132     0.00260   0.00214   \n",
       "677    0.00783  0.001300       0.00239    0.0113     0.00223   0.00221   \n",
       "678    0.00980  0.001410       0.00250    0.0127     0.00259   0.00234   \n",
       "..         ...       ...           ...       ...         ...       ...   \n",
       "527    0.00924  0.001150       0.00214    0.0152     0.00238   0.00187   \n",
       "528    0.01050  0.001480       0.00210    0.0118     0.00260   0.00220   \n",
       "529    0.01060  0.001330       0.00222    0.0122     0.00247   0.00271   \n",
       "530    0.00998  0.000969       0.00222    0.0128     0.00241   0.00213   \n",
       "531    0.00947  0.001190       0.00221    0.0131     0.00240   0.00218   \n",
       "\n",
       "        user  user-db        Date  \n",
       "674  0.00178  0.00942  10/14/2021  \n",
       "675  0.00191  0.01060  10/14/2021  \n",
       "676  0.00198  0.01020  10/14/2021  \n",
       "677  0.00173  0.00869  10/14/2021  \n",
       "678  0.00233  0.01030  10/14/2021  \n",
       "..       ...      ...         ...  \n",
       "527  0.00234  0.00920    3/2/2022  \n",
       "528  0.00195  0.00965    3/2/2022  \n",
       "529  0.00237  0.01090    3/2/2022  \n",
       "530  0.00180  0.00955    3/2/2022  \n",
       "531  0.00207  0.00923    3/2/2022  \n",
       "\n",
       "[813 rows x 16 columns]"
      ]
     },
     "execution_count": 6,
     "metadata": {},
     "output_type": "execute_result"
    }
   ],
   "source": [
    "full_data = pd.read_csv('../data/loadtest-timestamp.csv', index_col=0)\n",
    "full_data[['Date', 'Time']] = full_data['Time'].str.split(\" \", expand=True)\n",
    "full_data = full_data.sort_values(by=['Date','Time'])\n",
    "full_data"
   ]
  },
  {
   "cell_type": "code",
   "execution_count": 30,
   "metadata": {},
   "outputs": [
    {
     "name": "stdout",
     "output_type": "stream",
     "text": [
      "Node names from data csv:  ['carts', 'carts-db', 'catalogue', 'catalogue-db', 'front-end', 'orders', 'orders-db', 'payment', 'queue-master', 'rabbitmq', 'session-db', 'shipping', 'user', 'user-db']\n",
      "Node names from graph:  ['carts', 'carts-db', 'catalogue', 'catalogue-db', 'front-end', 'master', 'orders', 'orders-db', 'payment', 'queue-master', 'rabbitmq', 'session-db', 'shipping', 'user', 'user-db', 'worker1', 'worker2']\n",
      "Nodes in graph but not in data csv:  ['master', 'worker1', 'worker2']\n",
      "Nodes in data csv but not in graph:  []\n"
     ]
    },
    {
     "name": "stderr",
     "output_type": "stream",
     "text": [
      "100%|██████████| 589/589 [00:00<00:00, 716.54it/s] \n"
     ]
    },
    {
     "name": "stdout",
     "output_type": "stream",
     "text": [
      "carts\n",
      "had an anomaly, first at 6\n",
      "rabbitmq\n",
      "Test outputs differ: True whole time series and False after anomaly\n",
      "Anomaly cut-off was after index 543 of 813\n"
     ]
    },
    {
     "name": "stderr",
     "output_type": "stream",
     "text": [
      "100%|██████████| 589/589 [00:00<00:00, 904.07it/s] \n"
     ]
    },
    {
     "name": "stdout",
     "output_type": "stream",
     "text": [
      "carts-db\n",
      "had an anomaly, first at 152\n"
     ]
    },
    {
     "name": "stderr",
     "output_type": "stream",
     "text": [
      "100%|██████████| 589/589 [00:00<00:00, 4907.12it/s]\n",
      "100%|██████████| 589/589 [00:00<00:00, 12999.26it/s]\n"
     ]
    },
    {
     "name": "stdout",
     "output_type": "stream",
     "text": [
      "catalogue-db\n",
      "had an anomaly, first at 86\n"
     ]
    },
    {
     "name": "stderr",
     "output_type": "stream",
     "text": [
      "100%|██████████| 589/589 [00:00<00:00, 1134.00it/s]\n"
     ]
    },
    {
     "name": "stdout",
     "output_type": "stream",
     "text": [
      "front-end\n",
      "had an anomaly, first at 60\n",
      "rabbitmq\n",
      "Test outputs differ: True whole time series and False after anomaly\n",
      "Anomaly cut-off was after index 419 of 813\n"
     ]
    },
    {
     "name": "stderr",
     "output_type": "stream",
     "text": [
      "100%|██████████| 589/589 [00:00<00:00, 1427.01it/s]\n"
     ]
    },
    {
     "name": "stdout",
     "output_type": "stream",
     "text": [
      "orders\n",
      "had an anomaly, first at 7\n",
      "catalogue\n",
      "Test outputs differ: True whole time series and False after anomaly\n",
      "Anomaly cut-off was after index 542 of 813\n",
      "catalogue-db\n",
      "Test outputs differ: True whole time series and False after anomaly\n",
      "Anomaly cut-off was after index 542 of 813\n"
     ]
    },
    {
     "name": "stderr",
     "output_type": "stream",
     "text": [
      "100%|██████████| 589/589 [00:00<00:00, 1698.12it/s]\n"
     ]
    },
    {
     "name": "stdout",
     "output_type": "stream",
     "text": [
      "orders-db\n",
      "had an anomaly, first at 83\n",
      "carts\n",
      "Test outputs differ: True whole time series and False after anomaly\n",
      "Anomaly cut-off was after index 532 of 813\n",
      "catalogue-db\n",
      "Test outputs differ: False whole time series and True after anomaly\n",
      "Anomaly cut-off was after index 532 of 813\n",
      "orders\n",
      "Test outputs differ: True whole time series and False after anomaly\n",
      "Anomaly cut-off was after index 532 of 813\n",
      "rabbitmq\n",
      "Test outputs differ: True whole time series and False after anomaly\n",
      "Anomaly cut-off was after index 532 of 813\n"
     ]
    },
    {
     "name": "stderr",
     "output_type": "stream",
     "text": [
      "100%|██████████| 589/589 [00:00<00:00, 3111.06it/s]\n"
     ]
    },
    {
     "name": "stdout",
     "output_type": "stream",
     "text": [
      "payment\n",
      "had an anomaly, first at 126\n"
     ]
    },
    {
     "name": "stderr",
     "output_type": "stream",
     "text": [
      "100%|██████████| 589/589 [00:00<00:00, 721.01it/s] \n"
     ]
    },
    {
     "name": "stdout",
     "output_type": "stream",
     "text": [
      "queue-master\n",
      "had an anomaly, first at 7\n",
      "catalogue\n",
      "Test outputs differ: True whole time series and False after anomaly\n",
      "Anomaly cut-off was after index 539 of 813\n",
      "orders\n",
      "Test outputs differ: True whole time series and False after anomaly\n",
      "Anomaly cut-off was after index 539 of 813\n",
      "rabbitmq\n",
      "Test outputs differ: True whole time series and False after anomaly\n",
      "Anomaly cut-off was after index 539 of 813\n"
     ]
    },
    {
     "name": "stderr",
     "output_type": "stream",
     "text": [
      "100%|██████████| 589/589 [00:01<00:00, 321.80it/s]\n"
     ]
    },
    {
     "name": "stdout",
     "output_type": "stream",
     "text": [
      "rabbitmq\n",
      "had an anomaly, first at 59\n",
      "carts-db\n",
      "Test outputs differ: True whole time series and False after anomaly\n",
      "Anomaly cut-off was after index 542 of 813\n",
      "catalogue\n",
      "Test outputs differ: True whole time series and False after anomaly\n",
      "Anomaly cut-off was after index 542 of 813\n",
      "orders-db\n",
      "Test outputs differ: True whole time series and False after anomaly\n",
      "Anomaly cut-off was after index 542 of 813\n",
      "payment\n",
      "Test outputs differ: True whole time series and False after anomaly\n",
      "Anomaly cut-off was after index 542 of 813\n",
      "session-db\n",
      "Test outputs differ: True whole time series and False after anomaly\n",
      "Anomaly cut-off was after index 542 of 813\n",
      "user\n",
      "Test outputs differ: True whole time series and False after anomaly\n",
      "Anomaly cut-off was after index 542 of 813\n",
      "user-db\n",
      "Test outputs differ: True whole time series and False after anomaly\n",
      "Anomaly cut-off was after index 542 of 813\n"
     ]
    },
    {
     "name": "stderr",
     "output_type": "stream",
     "text": [
      "100%|██████████| 589/589 [00:00<00:00, 18132.11it/s]\n"
     ]
    },
    {
     "name": "stdout",
     "output_type": "stream",
     "text": [
      "session-db\n",
      "had an anomaly, first at 92\n"
     ]
    },
    {
     "name": "stderr",
     "output_type": "stream",
     "text": [
      "100%|██████████| 589/589 [00:00<00:00, 3629.68it/s]\n"
     ]
    },
    {
     "name": "stdout",
     "output_type": "stream",
     "text": [
      "shipping\n",
      "had an anomaly, first at 64\n",
      "carts\n",
      "Test outputs differ: True whole time series and False after anomaly\n",
      "Anomaly cut-off was after index 543 of 813\n",
      "catalogue-db\n",
      "Test outputs differ: True whole time series and False after anomaly\n",
      "Anomaly cut-off was after index 543 of 813\n"
     ]
    },
    {
     "name": "stderr",
     "output_type": "stream",
     "text": [
      "100%|██████████| 589/589 [00:00<00:00, 2546.41it/s]"
     ]
    },
    {
     "name": "stdout",
     "output_type": "stream",
     "text": [
      "Traceback (most recent call last):\n",
      "  File \"C:\\Users\\andrea\\AppData\\Local\\Temp\\ipykernel_28784\\1127218371.py\", line 22, in <cell line: 14>\n",
      "    s.initialize(verbose=False) \t\t# initialization step\n",
      "  File \"c:\\Users\\Andrea1\\Documents\\HPI\\MLGraphs\\Spatio-Temporal-Graphs\\src\\spot.py\", line 199, in initialize\n",
      "    g,s,l = self._grimshaw()\n",
      "  File \"c:\\Users\\Andrea1\\Documents\\HPI\\MLGraphs\\Spatio-Temporal-Graphs\\src\\spot.py\", line 345, in _grimshaw\n",
      "    right_zeros = SPOT._rootsFinder(lambda t: w(self.peaks,t),\n",
      "  File \"c:\\Users\\Andrea1\\Documents\\HPI\\MLGraphs\\Spatio-Temporal-Graphs\\src\\spot.py\", line 238, in _rootsFinder\n",
      "    X0 = np.arange(bounds[0]+step,bounds[1],step)\n",
      "ValueError: arange: cannot compute length\n",
      "\n"
     ]
    },
    {
     "name": "stderr",
     "output_type": "stream",
     "text": [
      "\n",
      "c:\\Users\\Andrea1\\Documents\\HPI\\MLGraphs\\Spatio-Temporal-Graphs\\src\\spot.py:238: RuntimeWarning: invalid value encountered in double_scalars\n",
      "  X0 = np.arange(bounds[0]+step,bounds[1],step)\n"
     ]
    }
   ],
   "source": [
    "# Prepare data\n",
    "u_data = (full_data['Date'] == '2/17/2022')| (full_data['Date'] == '3/2/2022')\n",
    "all_data = full_data[u_data]\n",
    "# initial batch\n",
    "u_init_data = (full_data['Date'] == '10/14/2021') | (full_data['Date'] == '10/20/2021')| (full_data['Date'] == '10/19/2021')\n",
    "all_init_data = full_data[u_init_data]\n",
    "\n",
    "csv_nodes = full_data.columns.drop(['Date', 'Time'])\n",
    "print(\"Node names from data csv: \", sorted(csv_nodes))\n",
    "graph_nodes = [node['id'] for node in graph.nodes.match().all()]\n",
    "print(\"Node names from graph: \", sorted(graph_nodes))\n",
    "print(\"Nodes in graph but not in data csv: \", sorted(set(graph_nodes) - set(csv_nodes)))\n",
    "print(\"Nodes in data csv but not in graph: \", sorted(set(csv_nodes) - set(graph_nodes)))\n",
    "for column_name in csv_nodes:\n",
    "    init_data = all_init_data[column_name].to_numpy()\n",
    "    data = all_data[column_name].to_numpy()\n",
    "\n",
    "    try:\n",
    "        q = 1e-5  \t\t\t# risk parameter\n",
    "        s = SPOT(q)  \t\t# SPOT object\n",
    "        s.fit(init_data,data) \t# data import\n",
    "        s.initialize(verbose=False) \t\t# initialization step\n",
    "        results = s.run() \t# run\n",
    "        #s.plot(results) \t# plot\n",
    "        alarms = results[\"alarms\"]\n",
    "        node = graph.nodes.match(id=column_name).first()\n",
    "        if len(alarms) > 0:\n",
    "            node_id = node[\"id\"]\n",
    "            print(node_id)\n",
    "            print(f\"had an anomaly, first at {alarms[0]}\")\n",
    "            for node_2_id in csv_nodes:\n",
    "                if node_2_id == node_id:\n",
    "                    continue\n",
    "                gc_dicts = grangercausalitytests(full_data[[node_id, node_2_id]], 2, verbose=False)\n",
    "                p_values = [lag_result[0]['ssr_chi2test'][1] for lag_result in gc_dicts.values()]\n",
    "\n",
    "                gc_dicts_after_anomaly = grangercausalitytests(full_data[[node_id, node_2_id]].iloc[alarms[-1]:], 2, verbose=False)\n",
    "                p_values_after_anomaly  = [lag_result[0]['ssr_chi2test'][1] for lag_result in gc_dicts_after_anomaly .values()]\n",
    "\n",
    "                if (np.min(p_values) < 0.05) != (np.min(p_values_after_anomaly) < 0.05):\n",
    "                    print(node_2_id)\n",
    "                    print(f\"Test outputs differ: {np.min(p_values) < 0.05} whole time series and {np.min(p_values_after_anomaly) < 0.05} after anomaly\")\n",
    "                    print(f\"Anomaly cut-off was after index {alarms[-1]} of {len(full_data)}\")\n",
    "            #node[\"anomaly\"] = True\n",
    "            #graph.push(node)\n",
    "        #else:\n",
    "            #node[\"anomaly\"] = False\n",
    "            # graph.push(node)\n",
    "    except Exception:\n",
    "            print(traceback.format_exc())\n"
   ]
  },
  {
   "cell_type": "code",
   "execution_count": 24,
   "metadata": {},
   "outputs": [
    {
     "data": {
      "text/plain": [
       "True"
      ]
     },
     "execution_count": 24,
     "metadata": {},
     "output_type": "execute_result"
    }
   ],
   "source": [
    "(np.min([1,2]) < 0.05) == (np.min([1,2]) < 0.05)"
   ]
  },
  {
   "cell_type": "code",
   "execution_count": 15,
   "metadata": {},
   "outputs": [
    {
     "data": {
      "text/plain": [
       "['carts',\n",
       " 'user',\n",
       " 'user-db',\n",
       " 'catalogue',\n",
       " 'catalogue-db',\n",
       " 'orders-db',\n",
       " 'carts-db',\n",
       " 'queue-master',\n",
       " 'rabbitmq',\n",
       " 'session-db',\n",
       " 'master',\n",
       " 'worker1',\n",
       " 'worker2',\n",
       " 'front-end',\n",
       " 'orders',\n",
       " 'shipping',\n",
       " 'payment']"
      ]
     },
     "execution_count": 15,
     "metadata": {},
     "output_type": "execute_result"
    }
   ],
   "source": []
  },
  {
   "cell_type": "code",
   "execution_count": 9,
   "metadata": {},
   "outputs": [
    {
     "name": "stdout",
     "output_type": "stream",
     "text": [
      "Initial threshold : 0.0115\n",
      "Number of peaks : 4\n",
      "Grimshaw maximum log-likelihood estimation ... [done]\n",
      "\tγ = -0.29489623181763014\n",
      "\tσ = 0.0008983580938078887\n",
      "\tL = 25.23935213122546\n",
      "Extreme quantile (probability = 1e-05): 0.014211516462822898\n"
     ]
    },
    {
     "name": "stderr",
     "output_type": "stream",
     "text": [
      "100%|██████████| 589/589 [00:00<00:00, 784.54it/s] \n"
     ]
    },
    {
     "name": "stdout",
     "output_type": "stream",
     "text": [
      "had an anomaly\n"
     ]
    },
    {
     "data": {
      "image/png": "[encoded data removed]",
      "text/plain": [
       "<Figure size 432x288 with 1 Axes>"
      ]
     },
     "metadata": {
      "needs_background": "light"
     },
     "output_type": "display_data"
    }
   ],
   "source": [
    "f = '../data/loadtest-Updated.csv'\n",
    "P = pd.read_csv(f)\n",
    "# stream\n",
    "u_data = (P['Time'] == '2/17/2022')| (P['Time'] == '3/2/2022')\n",
    "data = P['orders-db'][u_data].values\n",
    "# initial batch\n",
    "u_init_data = (P['Time'] == '10/14/2021') | (P['Time'] == '10/20/2021')| (P['Time'] == '10/19/2021')\n",
    "init_data = P['orders-db'][u_init_data].values\n",
    "q = 1e-5  \t\t\t# risk parameter\n",
    "s = SPOT(q)  \t\t# SPOT object\n",
    "s.fit(init_data,data) \t# data import\n",
    "s.initialize() \t\t# initialization step\n",
    "results = s.run() \t# run\n",
    "s.plot(results) \t# plot\n",
    "alarms = results[\"alarms\"]\n",
    "if len(alarms) > 0:\n",
    "    print(\"had an anomaly\")\n"
   ]
  }
 ],
 "metadata": {
  "kernelspec": {
   "display_name": "Python 3.9.13 ('spatiotemporal')",
   "language": "python",
   "name": "python3"
  },
  "language_info": {
   "codemirror_mode": {
    "name": "ipython",
    "version": 3
   },
   "file_extension": ".py",
   "mimetype": "text/x-python",
   "name": "python",
   "nbconvert_exporter": "python",
   "pygments_lexer": "ipython3",
   "version": "3.9.13"
  },
  "orig_nbformat": 4,
  "vscode": {
   "interpreter": {
    "hash": "064a5b36ab56d5365b55a4d783520d2b91c49e06f5a89f0a19392309d7ec8e8d"
   }
  }
 },
 "nbformat": 4,
 "nbformat_minor": 2
}
