{
 "cells": [
  {
   "cell_type": "markdown",
   "metadata": {},
   "source": [
    "# WP1 - Anomaly subgraph extraction: Finding Granger causalities"
   ]
  },
  {
   "cell_type": "code",
   "execution_count": 20,
   "metadata": {},
   "outputs": [],
   "source": [
    "import pandas as pd\n",
    "import numpy as np\n",
    "import xml.etree.ElementTree as ET\n",
    "import networkx as nx\n",
    "from statsmodels.tsa.stattools import grangercausalitytests"
   ]
  },
  {
   "cell_type": "code",
   "execution_count": 21,
   "metadata": {},
   "outputs": [],
   "source": [
    "def read_graph(filename) -> nx.Graph:\n",
    "    \"\"\"\n",
    "    Reads a graph from a file.\n",
    "    \"\"\"\n",
    "    tree = ET.parse(filename)\n",
    "    print(tree)\n",
    "    root = tree.getroot()\n",
    "    nodes = set()\n",
    "    G = nx.DiGraph()\n",
    "    for child in root.iter(\"vertex\"):\n",
    "        node = child.attrib[\"id\"]\n",
    "        if node not in nodes:\n",
    "            nodes.add(node)\n",
    "            G.add_node(node)\n",
    "        for adj in child.iter(\"adjacent\"):\n",
    "            adjacent_node = adj.attrib[\"vertex\"]\n",
    "            if adjacent_node not in nodes:\n",
    "                nodes.add(adjacent_node)\n",
    "                G.add_node(adjacent_node)\n",
    "            G.add_edge(node, adjacent_node)\n",
    "    return G"
   ]
  },
  {
   "cell_type": "code",
   "execution_count": 31,
   "metadata": {},
   "outputs": [
    {
     "name": "stdout",
     "output_type": "stream",
     "text": [
      "<xml.etree.ElementTree.ElementTree object at 0x0000021E2D97E610>\n"
     ]
    }
   ],
   "source": [
    "graph = read_graph(\"../data/Sock-shop-xml.txt\")\n",
    "nx.set_edge_attributes(graph, False, name=\"causal\")"
   ]
  },
  {
   "cell_type": "markdown",
   "metadata": {},
   "source": [
    "### Calculate granger causality on dataset and update graph"
   ]
  },
  {
   "cell_type": "code",
   "execution_count": 23,
   "metadata": {},
   "outputs": [
    {
     "data": {
      "text/html": [
       "<div>\n",
       "<style scoped>\n",
       "    .dataframe tbody tr th:only-of-type {\n",
       "        vertical-align: middle;\n",
       "    }\n",
       "\n",
       "    .dataframe tbody tr th {\n",
       "        vertical-align: top;\n",
       "    }\n",
       "\n",
       "    .dataframe thead th {\n",
       "        text-align: right;\n",
       "    }\n",
       "</style>\n",
       "<table border=\"1\" class=\"dataframe\">\n",
       "  <thead>\n",
       "    <tr style=\"text-align: right;\">\n",
       "      <th></th>\n",
       "      <th>Time</th>\n",
       "      <th>carts</th>\n",
       "      <th>carts-db</th>\n",
       "      <th>catalogue</th>\n",
       "      <th>catalogue-db</th>\n",
       "      <th>front-end</th>\n",
       "      <th>orders</th>\n",
       "      <th>orders-db</th>\n",
       "      <th>payment</th>\n",
       "      <th>queue-master</th>\n",
       "      <th>rabbitmq</th>\n",
       "      <th>session-db</th>\n",
       "      <th>shipping</th>\n",
       "      <th>user</th>\n",
       "      <th>user-db</th>\n",
       "      <th>Date</th>\n",
       "    </tr>\n",
       "  </thead>\n",
       "  <tbody>\n",
       "    <tr>\n",
       "      <th>674</th>\n",
       "      <td>11:27</td>\n",
       "      <td>0.00245</td>\n",
       "      <td>0.00824</td>\n",
       "      <td>0.00129</td>\n",
       "      <td>0.00115</td>\n",
       "      <td>0.00313</td>\n",
       "      <td>0.00260</td>\n",
       "      <td>0.00901</td>\n",
       "      <td>0.00125</td>\n",
       "      <td>0.00254</td>\n",
       "      <td>0.0145</td>\n",
       "      <td>0.00232</td>\n",
       "      <td>0.00223</td>\n",
       "      <td>0.00178</td>\n",
       "      <td>0.00942</td>\n",
       "      <td>10/14/2021</td>\n",
       "    </tr>\n",
       "    <tr>\n",
       "      <th>675</th>\n",
       "      <td>11:28</td>\n",
       "      <td>0.00279</td>\n",
       "      <td>0.01020</td>\n",
       "      <td>0.00128</td>\n",
       "      <td>0.00108</td>\n",
       "      <td>0.00352</td>\n",
       "      <td>0.00273</td>\n",
       "      <td>0.00974</td>\n",
       "      <td>0.00131</td>\n",
       "      <td>0.00249</td>\n",
       "      <td>0.0136</td>\n",
       "      <td>0.00268</td>\n",
       "      <td>0.00235</td>\n",
       "      <td>0.00191</td>\n",
       "      <td>0.01060</td>\n",
       "      <td>10/14/2021</td>\n",
       "    </tr>\n",
       "    <tr>\n",
       "      <th>676</th>\n",
       "      <td>11:29</td>\n",
       "      <td>0.00345</td>\n",
       "      <td>0.00929</td>\n",
       "      <td>0.00140</td>\n",
       "      <td>0.00118</td>\n",
       "      <td>0.00379</td>\n",
       "      <td>0.00262</td>\n",
       "      <td>0.00938</td>\n",
       "      <td>0.00137</td>\n",
       "      <td>0.00329</td>\n",
       "      <td>0.0132</td>\n",
       "      <td>0.00260</td>\n",
       "      <td>0.00214</td>\n",
       "      <td>0.00198</td>\n",
       "      <td>0.01020</td>\n",
       "      <td>10/14/2021</td>\n",
       "    </tr>\n",
       "    <tr>\n",
       "      <th>677</th>\n",
       "      <td>11:30</td>\n",
       "      <td>0.00233</td>\n",
       "      <td>0.00890</td>\n",
       "      <td>0.00108</td>\n",
       "      <td>0.00112</td>\n",
       "      <td>0.00343</td>\n",
       "      <td>0.00227</td>\n",
       "      <td>0.00783</td>\n",
       "      <td>0.00130</td>\n",
       "      <td>0.00239</td>\n",
       "      <td>0.0113</td>\n",
       "      <td>0.00223</td>\n",
       "      <td>0.00221</td>\n",
       "      <td>0.00173</td>\n",
       "      <td>0.00869</td>\n",
       "      <td>10/14/2021</td>\n",
       "    </tr>\n",
       "    <tr>\n",
       "      <th>678</th>\n",
       "      <td>11:31</td>\n",
       "      <td>0.00421</td>\n",
       "      <td>0.00914</td>\n",
       "      <td>0.00148</td>\n",
       "      <td>0.00138</td>\n",
       "      <td>0.00405</td>\n",
       "      <td>0.00297</td>\n",
       "      <td>0.00980</td>\n",
       "      <td>0.00141</td>\n",
       "      <td>0.00250</td>\n",
       "      <td>0.0127</td>\n",
       "      <td>0.00259</td>\n",
       "      <td>0.00234</td>\n",
       "      <td>0.00233</td>\n",
       "      <td>0.01030</td>\n",
       "      <td>10/14/2021</td>\n",
       "    </tr>\n",
       "  </tbody>\n",
       "</table>\n",
       "</div>"
      ],
      "text/plain": [
       "      Time    carts  carts-db  catalogue  catalogue-db  front-end   orders  \\\n",
       "674  11:27  0.00245   0.00824    0.00129       0.00115    0.00313  0.00260   \n",
       "675  11:28  0.00279   0.01020    0.00128       0.00108    0.00352  0.00273   \n",
       "676  11:29  0.00345   0.00929    0.00140       0.00118    0.00379  0.00262   \n",
       "677  11:30  0.00233   0.00890    0.00108       0.00112    0.00343  0.00227   \n",
       "678  11:31  0.00421   0.00914    0.00148       0.00138    0.00405  0.00297   \n",
       "\n",
       "     orders-db  payment  queue-master  rabbitmq  session-db  shipping  \\\n",
       "674    0.00901  0.00125       0.00254    0.0145     0.00232   0.00223   \n",
       "675    0.00974  0.00131       0.00249    0.0136     0.00268   0.00235   \n",
       "676    0.00938  0.00137       0.00329    0.0132     0.00260   0.00214   \n",
       "677    0.00783  0.00130       0.00239    0.0113     0.00223   0.00221   \n",
       "678    0.00980  0.00141       0.00250    0.0127     0.00259   0.00234   \n",
       "\n",
       "        user  user-db        Date  \n",
       "674  0.00178  0.00942  10/14/2021  \n",
       "675  0.00191  0.01060  10/14/2021  \n",
       "676  0.00198  0.01020  10/14/2021  \n",
       "677  0.00173  0.00869  10/14/2021  \n",
       "678  0.00233  0.01030  10/14/2021  "
      ]
     },
     "execution_count": 23,
     "metadata": {},
     "output_type": "execute_result"
    }
   ],
   "source": [
    "MAXLAG = 2\n",
    "f = '../data/loadtest-timestamp.csv'\n",
    "P = pd.read_csv(f, index_col=0)\n",
    "P[['Date', 'Time']] = P['Time'].str.split(\" \", expand=True)\n",
    "P = P.sort_values(by=['Date','Time'])\n",
    "P.head()"
   ]
  },
  {
   "cell_type": "code",
   "execution_count": 24,
   "metadata": {},
   "outputs": [
    {
     "data": {
      "text/plain": [
       "{1: ({'ssr_ftest': (1.2302535933048793, 0.26772652358882343, 723.0, 1),\n",
       "   'ssr_chi2test': (1.2353583799990904, 0.26636748598373405, 1),\n",
       "   'lrtest': (1.234308530605631, 0.2665707648448348, 1),\n",
       "   'params_ftest': (1.2302535933045233, 0.26772652358888244, 723.0, 1.0)},\n",
       "  [<statsmodels.regression.linear_model.RegressionResultsWrapper at 0x21e2c93e730>,\n",
       "   <statsmodels.regression.linear_model.RegressionResultsWrapper at 0x21e2c93e460>,\n",
       "   array([[0., 1., 0.]])]),\n",
       " 2: ({'ssr_ftest': (0.6556035696996564, 0.5194382567768923, 720.0, 2),\n",
       "   'ssr_chi2test': (1.3203127445340301, 0.5167705195955838, 2),\n",
       "   'lrtest': (1.319111977490138, 0.5170808732564662, 2),\n",
       "   'params_ftest': (0.6556035696998079, 0.51943825677683, 720.0, 2.0)},\n",
       "  [<statsmodels.regression.linear_model.RegressionResultsWrapper at 0x21e2c9430d0>,\n",
       "   <statsmodels.regression.linear_model.RegressionResultsWrapper at 0x21e2c940d90>,\n",
       "   array([[0., 0., 1., 0., 0.],\n",
       "          [0., 0., 0., 1., 0.]])])}"
      ]
     },
     "execution_count": 24,
     "metadata": {},
     "output_type": "execute_result"
    }
   ],
   "source": [
    "P_cataloguedb = P.iloc[86:]\n",
    "grangercausalitytests(P_cataloguedb[['catalogue-db', 'catalogue']], MAXLAG, verbose=False)"
   ]
  },
  {
   "cell_type": "code",
   "execution_count": 26,
   "metadata": {},
   "outputs": [],
   "source": [
    "def granger_causality_for_edges(graph, df):\n",
    "    for source, target in graph.edges:\n",
    "        if source in df.columns and target in df.columns:\n",
    "            gc_dicts = grangercausalitytests(df[[source, target]], MAXLAG, verbose=False)\n",
    "            p_values = [lag_result[0]['ssr_chi2test'][1] for lag_result in gc_dicts.values()]\n",
    "            print(source, target)\n",
    "            if np.min(p_values) < 0.05:\n",
    "                print('causal')\n",
    "                nx.set_edge_attributes(graph, {(source, target): {\"causal\": True}})\n",
    "            else:\n",
    "                print('not causal')"
   ]
  },
  {
   "cell_type": "code",
   "execution_count": 32,
   "metadata": {},
   "outputs": [],
   "source": [
    "def granger_causality_for_neighbors(neighbors, graph):\n",
    "    for i in range(len(neighbors)):\n",
    "        for j in range(i+1, len(neighbors)):\n",
    "            node1 = neighbors[i]\n",
    "            node2 = neighbors[j]\n",
    "            if node1 == node2:\n",
    "                continue\n",
    "            if node1 in P.columns and node2 in P.columns:\n",
    "                gc_dicts_direction_1 = grangercausalitytests(P[[node1, node2]], MAXLAG, verbose=False)\n",
    "                p_values_direction_1 = [lag_result[0]['ssr_chi2test'][1] for lag_result in gc_dicts_direction_1.values()]\n",
    "\n",
    "                gc_dicts_direction_2 = grangercausalitytests(P[[node2, node1]], MAXLAG, verbose=False)\n",
    "                p_values_direction_2 = [lag_result[0]['ssr_chi2test'][1] for lag_result in gc_dicts_direction_2.values()]\n",
    "\n",
    "\n",
    "                print(node1, node2)\n",
    "                if np.min(p_values_direction_1) < 0.05 or np.min(p_values_direction_2) < 0.05:\n",
    "                    print('causal')\n",
    "                    graph.add_edge(node1, node2, causal=True)\n",
    "                else:\n",
    "                    print('not causal')"
   ]
  },
  {
   "cell_type": "code",
   "execution_count": 28,
   "metadata": {},
   "outputs": [
    {
     "name": "stdout",
     "output_type": "stream",
     "text": [
      "orders front-end\n",
      "not causal\n",
      "orders shipping\n",
      "causal\n",
      "shipping queue-master\n",
      "causal\n",
      "carts front-end\n",
      "not causal\n",
      "user front-end\n",
      "not causal\n",
      "user user-db\n",
      "causal\n",
      "catalogue front-end\n",
      "not causal\n",
      "catalogue-db catalogue\n",
      "not causal\n",
      "orders-db orders\n",
      "causal\n",
      "carts-db carts\n",
      "causal\n"
     ]
    }
   ],
   "source": [
    "granger_causality_for_edges(graph, P)"
   ]
  },
  {
   "cell_type": "code",
   "execution_count": 33,
   "metadata": {},
   "outputs": [
    {
     "name": "stdout",
     "output_type": "stream",
     "text": [
      "orders payment\n",
      "not causal\n",
      "orders carts\n",
      "causal\n",
      "orders user\n",
      "causal\n",
      "orders catalogue\n",
      "causal\n",
      "orders catalogue-db\n",
      "causal\n",
      "orders shipping\n",
      "causal\n",
      "orders queue-master\n",
      "causal\n",
      "orders rabbitmq\n",
      "causal\n",
      "payment carts\n",
      "not causal\n",
      "payment user\n",
      "causal\n",
      "payment catalogue\n",
      "causal\n",
      "payment catalogue-db\n",
      "not causal\n",
      "payment shipping\n",
      "not causal\n",
      "payment queue-master\n",
      "not causal\n",
      "payment rabbitmq\n",
      "causal\n",
      "carts user\n",
      "causal\n",
      "carts catalogue\n",
      "not causal\n",
      "carts catalogue-db\n",
      "causal\n",
      "carts shipping\n",
      "causal\n",
      "carts queue-master\n",
      "causal\n",
      "carts rabbitmq\n",
      "causal\n",
      "user catalogue\n",
      "causal\n",
      "user catalogue-db\n",
      "causal\n",
      "user shipping\n",
      "causal\n",
      "user queue-master\n",
      "causal\n",
      "user rabbitmq\n",
      "causal\n",
      "catalogue catalogue-db\n",
      "causal\n",
      "catalogue shipping\n",
      "not causal\n",
      "catalogue queue-master\n",
      "causal\n",
      "catalogue rabbitmq\n",
      "causal\n",
      "catalogue-db shipping\n",
      "causal\n",
      "catalogue-db queue-master\n",
      "causal\n",
      "catalogue-db rabbitmq\n",
      "not causal\n",
      "shipping queue-master\n",
      "causal\n",
      "shipping rabbitmq\n",
      "causal\n",
      "queue-master rabbitmq\n",
      "causal\n"
     ]
    }
   ],
   "source": [
    "worker_1_neighbours = list(nx.all_neighbors(graph, 'worker1'))\n",
    "granger_causality_for_neighbors(worker_1_neighbours, graph)"
   ]
  },
  {
   "cell_type": "code",
   "execution_count": 34,
   "metadata": {},
   "outputs": [
    {
     "ename": "TypeError",
     "evalue": "granger_causality_for_neighbors() takes 2 positional arguments but 3 were given",
     "output_type": "error",
     "traceback": [
      "\u001b[1;31m---------------------------------------------------------------------------\u001b[0m",
      "\u001b[1;31mTypeError\u001b[0m                                 Traceback (most recent call last)",
      "\u001b[1;32m<ipython-input-34-8c9766e709a8>\u001b[0m in \u001b[0;36m<module>\u001b[1;34m\u001b[0m\n\u001b[0;32m      1\u001b[0m \u001b[0mworker_2_neighbours\u001b[0m \u001b[1;33m=\u001b[0m \u001b[0mlist\u001b[0m\u001b[1;33m(\u001b[0m\u001b[0mnx\u001b[0m\u001b[1;33m.\u001b[0m\u001b[0mall_neighbors\u001b[0m\u001b[1;33m(\u001b[0m\u001b[0mgraph\u001b[0m\u001b[1;33m,\u001b[0m \u001b[1;34m'worker2'\u001b[0m\u001b[1;33m)\u001b[0m\u001b[1;33m)\u001b[0m\u001b[1;33m\u001b[0m\u001b[1;33m\u001b[0m\u001b[0m\n\u001b[1;32m----> 2\u001b[1;33m \u001b[0mgranger_causality_for_neighbors\u001b[0m\u001b[1;33m(\u001b[0m\u001b[0mworker_2_neighbours\u001b[0m\u001b[1;33m,\u001b[0m \u001b[0mgraph\u001b[0m\u001b[1;33m,\u001b[0m \u001b[0mP\u001b[0m\u001b[1;33m)\u001b[0m\u001b[1;33m\u001b[0m\u001b[1;33m\u001b[0m\u001b[0m\n\u001b[0m",
      "\u001b[1;31mTypeError\u001b[0m: granger_causality_for_neighbors() takes 2 positional arguments but 3 were given"
     ]
    }
   ],
   "source": [
    "worker_2_neighbours = list(nx.all_neighbors(graph, 'worker2'))\n",
    "granger_causality_for_neighbors(worker_2_neighbours, graph)"
   ]
  }
 ],
 "metadata": {
  "kernelspec": {
   "display_name": "Python 3.8.8 ('base')",
   "language": "python",
   "name": "python3"
  },
  "language_info": {
   "codemirror_mode": {
    "name": "ipython",
    "version": 3
   },
   "file_extension": ".py",
   "mimetype": "text/x-python",
   "name": "python",
   "nbconvert_exporter": "python",
   "pygments_lexer": "ipython3",
   "version": "3.8.8"
  },
  "vscode": {
   "interpreter": {
    "hash": "eec6dd27f03bfca1721cc6b25f8887b99887057681b07d933070e8c3d9796fff"
   }
  }
 },
 "nbformat": 4,
 "nbformat_minor": 4
}
